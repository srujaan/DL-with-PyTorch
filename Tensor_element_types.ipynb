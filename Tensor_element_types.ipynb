{
  "nbformat": 4,
  "nbformat_minor": 0,
  "metadata": {
    "colab": {
      "name": "Tensor-element-types.ipynb",
      "provenance": [],
      "authorship_tag": "ABX9TyM+PfhxcYz6IVEXX0wdGN1t",
      "include_colab_link": true
    },
    "kernelspec": {
      "name": "python3",
      "display_name": "Python 3"
    }
  },
  "cells": [
    {
      "cell_type": "markdown",
      "metadata": {
        "id": "view-in-github",
        "colab_type": "text"
      },
      "source": [
        "<a href=\"https://colab.research.google.com/github/srujaan/DL-with-PyTorch/blob/master/Tensor_element_types.ipynb\" target=\"_parent\"><img src=\"https://colab.research.google.com/assets/colab-badge.svg\" alt=\"Open In Colab\"/></a>"
      ]
    },
    {
      "cell_type": "code",
      "metadata": {
        "id": "LM646HTjV375"
      },
      "source": [
        "import torch"
      ],
      "execution_count": 1,
      "outputs": []
    },
    {
      "cell_type": "markdown",
      "metadata": {
        "id": "dTnraglAWB5V"
      },
      "source": [
        "##### In order to allocate a tensor of the right numeric type, we can specify the proper dtype as an argument to the constructor"
      ]
    },
    {
      "cell_type": "code",
      "metadata": {
        "id": "VIelTJjaWOo9"
      },
      "source": [
        "double_points = torch.ones(10, 2,dtype=torch.double)\n",
        "short_points = torch.tensor([[1,2], [3,4]], dtype=torch.short)"
      ],
      "execution_count": 9,
      "outputs": []
    },
    {
      "cell_type": "code",
      "metadata": {
        "colab": {
          "base_uri": "https://localhost:8080/"
        },
        "id": "RtnO3W1_Wrg1",
        "outputId": "6574891d-060e-4cdd-81fa-db9c4ebdd108"
      },
      "source": [
        "short_points.dtype # to access the dtype"
      ],
      "execution_count": 10,
      "outputs": [
        {
          "output_type": "execute_result",
          "data": {
            "text/plain": [
              "torch.int16"
            ]
          },
          "metadata": {
            "tags": []
          },
          "execution_count": 10
        }
      ]
    },
    {
      "cell_type": "code",
      "metadata": {
        "colab": {
          "base_uri": "https://localhost:8080/"
        },
        "id": "c49xYGwyWwWQ",
        "outputId": "efb1b82c-2d26-493a-a58b-177835c3bc6f"
      },
      "source": [
        "double_points"
      ],
      "execution_count": 11,
      "outputs": [
        {
          "output_type": "execute_result",
          "data": {
            "text/plain": [
              "tensor([[1., 1.],\n",
              "        [1., 1.],\n",
              "        [1., 1.],\n",
              "        [1., 1.],\n",
              "        [1., 1.],\n",
              "        [1., 1.],\n",
              "        [1., 1.],\n",
              "        [1., 1.],\n",
              "        [1., 1.],\n",
              "        [1., 1.]], dtype=torch.float64)"
            ]
          },
          "metadata": {
            "tags": []
          },
          "execution_count": 11
        }
      ]
    },
    {
      "cell_type": "markdown",
      "metadata": {
        "id": "yuEuyTRTW3qw"
      },
      "source": [
        "##### We can also cast the output of a tensor creation function to the right type using the corresponding casting method, such as"
      ]
    },
    {
      "cell_type": "code",
      "metadata": {
        "id": "surp6sRSXNJH"
      },
      "source": [
        "double_points = torch.zeros(10, 2).double()\n",
        "short_points = torch.ones(10, 2).short()"
      ],
      "execution_count": 12,
      "outputs": []
    },
    {
      "cell_type": "code",
      "metadata": {
        "id": "gzCKTYkGXbbC"
      },
      "source": [
        "# more equivalently 'to' method\n",
        "double_points = torch.zeros(10, 2).to(torch.double)\n",
        "short_points = torch.ones(10, 2).to(dtype=torch.double)"
      ],
      "execution_count": 13,
      "outputs": []
    },
    {
      "cell_type": "markdown",
      "metadata": {
        "id": "qGibD_1xYAYp"
      },
      "source": [
        "#### When mixing input types in operations, the inputs are converted to the larger type automatically. \n",
        "## Thus, if we want 32-bit computation, we need to make sure all our inputs are (at most) 32-bit:"
      ]
    },
    {
      "cell_type": "code",
      "metadata": {
        "colab": {
          "base_uri": "https://localhost:8080/"
        },
        "id": "P6LXB52WYqqz",
        "outputId": "32e7a3ac-836d-49b3-9e15-36b602e6c1d0"
      },
      "source": [
        "points_64 = torch.rand(5, dtype=torch.double)\n",
        "points_short = points_64.to(torch.short)\n",
        "points_64 * points_short"
      ],
      "execution_count": 14,
      "outputs": [
        {
          "output_type": "execute_result",
          "data": {
            "text/plain": [
              "tensor([0., 0., 0., 0., 0.], dtype=torch.float64)"
            ]
          },
          "metadata": {
            "tags": []
          },
          "execution_count": 14
        }
      ]
    },
    {
      "cell_type": "code",
      "metadata": {
        "id": "tqfkZzfjZPLA"
      },
      "source": [
        ""
      ],
      "execution_count": null,
      "outputs": []
    }
  ]
}