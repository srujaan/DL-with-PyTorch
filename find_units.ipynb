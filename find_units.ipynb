{
  "nbformat": 4,
  "nbformat_minor": 0,
  "metadata": {
    "colab": {
      "name": "find_units.ipynb",
      "provenance": [],
      "authorship_tag": "ABX9TyPNKDgOQnorDyDvn59zh6rW",
      "include_colab_link": true
    },
    "kernelspec": {
      "name": "python3",
      "display_name": "Python 3"
    }
  },
  "cells": [
    {
      "cell_type": "markdown",
      "metadata": {
        "id": "view-in-github",
        "colab_type": "text"
      },
      "source": [
        "<a href=\"https://colab.research.google.com/github/srujaan/DL-with-PyTorch/blob/master/find_units.ipynb\" target=\"_parent\"><img src=\"https://colab.research.google.com/assets/colab-badge.svg\" alt=\"Open In Colab\"/></a>"
      ]
    },
    {
      "cell_type": "code",
      "metadata": {
        "id": "fz4SB_TWzPhs"
      },
      "source": [
        "import torch"
      ],
      "execution_count": 1,
      "outputs": []
    },
    {
      "cell_type": "code",
      "metadata": {
        "id": "Xtr3jT1UyNQP"
      },
      "source": [
        "# \"t_c\" is temperature in celcius\n",
        "# \"t_u\" is temperature are unknown units\n",
        "t_c = [0.5, 14.0, 15.0, 28.0, 11.0, 8.0, 3.0, -4.0, 6.0, 13.0, 21.0]\n",
        "t_u = [35.7, 55.9, 58.2, 81.9, 56.3, 48.9, 33.9, 21.8, 48.4, 60.4, 68.4]\n",
        "t_c = torch.tensor(t_c)\n",
        "t_u = torch.tensor(t_u)"
      ],
      "execution_count": 2,
      "outputs": []
    },
    {
      "cell_type": "code",
      "metadata": {
        "id": "RmGbzvJ5z3qv"
      },
      "source": [
        "# model\n",
        "def model(t_u, w, b):\n",
        "  return w * t_u + b"
      ],
      "execution_count": 3,
      "outputs": []
    },
    {
      "cell_type": "code",
      "metadata": {
        "id": "0u6sFI6kGuok"
      },
      "source": [
        "# loss function\n",
        "def loss_fn(t_p, t_c):\n",
        "  squared_diffs = (t_p - t_c) ** 2\n",
        "  return squared_diffs.mean()"
      ],
      "execution_count": 4,
      "outputs": []
    },
    {
      "cell_type": "code",
      "metadata": {
        "id": "RMmWOROJHSj9"
      },
      "source": [
        "# initialize w,b parameteres\n",
        "w = torch.ones(())\n",
        "b = torch.ones(())"
      ],
      "execution_count": 5,
      "outputs": []
    },
    {
      "cell_type": "code",
      "metadata": {
        "colab": {
          "base_uri": "https://localhost:8080/"
        },
        "id": "mfkzzBReICUw",
        "outputId": "add34f6a-ade7-4eaf-ecc8-cd068b346fe9"
      },
      "source": [
        "t_p = model(t_u, w, b)\n",
        "t_p"
      ],
      "execution_count": 6,
      "outputs": [
        {
          "output_type": "execute_result",
          "data": {
            "text/plain": [
              "tensor([36.7000, 56.9000, 59.2000, 82.9000, 57.3000, 49.9000, 34.9000, 22.8000,\n",
              "        49.4000, 61.4000, 69.4000])"
            ]
          },
          "metadata": {
            "tags": []
          },
          "execution_count": 6
        }
      ]
    },
    {
      "cell_type": "code",
      "metadata": {
        "colab": {
          "base_uri": "https://localhost:8080/"
        },
        "id": "ylXghVVzZoYe",
        "outputId": "89d4ffd8-6a20-4f74-b07a-e09488705aaf"
      },
      "source": [
        "# check value of loss\n",
        "loss = loss_fn(t_p, t_c)\n",
        "loss"
      ],
      "execution_count": 7,
      "outputs": [
        {
          "output_type": "execute_result",
          "data": {
            "text/plain": [
              "tensor(1847.4844)"
            ]
          },
          "metadata": {
            "tags": []
          },
          "execution_count": 7
        }
      ]
    },
    {
      "cell_type": "code",
      "metadata": {
        "id": "RHw8WsrCaDi2"
      },
      "source": [
        "# Decreasing loss\n",
        "\n",
        "delta = 0.1\n",
        "\n",
        "loss_rate_of_change_w = \\\n",
        "  (loss_fn(model(t_u, w + delta, b), t_c) - \n",
        "   loss_fn(model(t_u, w - delta, b), t_c)) / (2.0 * delta)"
      ],
      "execution_count": 8,
      "outputs": []
    },
    {
      "cell_type": "code",
      "metadata": {
        "id": "jJsqFbl2e722"
      },
      "source": [
        "# learning rate should be low as possible\n",
        "\n",
        "learning_rate = 1e-2\n",
        "w = w - learning_rate * loss_rate_of_change_w"
      ],
      "execution_count": 9,
      "outputs": []
    },
    {
      "cell_type": "code",
      "metadata": {
        "id": "oN--gIG0gUYh"
      },
      "source": [
        "# we can do same for b\n",
        "\n",
        "loss_rate_of_change_b = \\\n",
        "  (loss_fn(model(t_u, w, b + delta), t_c) - \n",
        "   loss_fn(model(t_u, w, b - delta), t_c)) / (2.0 * delta)\n",
        "\n",
        "b = b - learning_rate * loss_rate_of_change_b"
      ],
      "execution_count": 10,
      "outputs": []
    },
    {
      "cell_type": "code",
      "metadata": {
        "id": "W-d7IAILhaxH"
      },
      "source": [
        "def dloss_fn(t_p, t_c):\n",
        "  dsq_diffs = 2 * (t_p - t_c) / t_p.size(0) # The division is from the derivative mean\n",
        "  return dsq_diffs\n"
      ],
      "execution_count": 11,
      "outputs": []
    },
    {
      "cell_type": "code",
      "metadata": {
        "id": "bOLPO_HQDjrp"
      },
      "source": [
        "# Applying derivatives to the model\n",
        "\n",
        "def dmodel_dw(t_u, w, b):\n",
        "  return t_u\n",
        "\n",
        "def dmodel_db(t_u, w, b):\n",
        "  return 1.0"
      ],
      "execution_count": 12,
      "outputs": []
    },
    {
      "cell_type": "code",
      "metadata": {
        "id": "ryyRdvbYEwOK"
      },
      "source": [
        "# Putting all this together\n",
        "\n",
        "def grad_fn(t_u, t_c, t_p, w, b):\n",
        "  dloss_dtp = dloss_fn(t_p, t_c)\n",
        "  dloss_dw = dloss_dtp * dmodel_dw(t_u, w, b)\n",
        "  dloss_db = dloss_dtp * dmodel_db(t_u, w, b)\n",
        "  return torch.stack([dloss_dw.sum(), dloss_db.sum()])"
      ],
      "execution_count": 13,
      "outputs": []
    },
    {
      "cell_type": "code",
      "metadata": {
        "id": "N_bagbiaIhhZ"
      },
      "source": [
        "# Training loop\n",
        "\n",
        "def training_loop(n_epochs, learning_rate, params, t_u, t_c):\n",
        "  for epoch in range(1, n_epochs + 1):\n",
        "    w, b = params\n",
        "\n",
        "    t_p = model(t_u, w, b)  # Forward pass\n",
        "    loss = loss_fn(t_p, t_c)\n",
        "    grad = grad_fn(t_u, t_c, t_p, w, b) # Backward pass\n",
        "\n",
        "    params = params - learning_rate * grad\n",
        "\n",
        "    print('Epoch %d, Loss %f' % (epoch, float(loss)))\n",
        "\n",
        "  return params\n"
      ],
      "execution_count": 14,
      "outputs": []
    },
    {
      "cell_type": "code",
      "metadata": {
        "colab": {
          "base_uri": "https://localhost:8080/"
        },
        "id": "LdBR33OrL_mR",
        "outputId": "76bccb3a-7f8d-4506-c90e-fa03fd8c58f3"
      },
      "source": [
        "training_loop(\n",
        "    n_epochs = 100,\n",
        "    learning_rate = 1e-2,\n",
        "    params = torch.tensor([1.0, 0.0]),\n",
        "    t_u = t_u,\n",
        "    t_c = t_c)"
      ],
      "execution_count": 17,
      "outputs": [
        {
          "output_type": "stream",
          "text": [
            "Epoch 1, Loss 1763.884766\n",
            "Epoch 2, Loss 5802484.500000\n",
            "Epoch 3, Loss 19408029696.000000\n",
            "Epoch 4, Loss 64915905708032.000000\n",
            "Epoch 5, Loss 217130525461053440.000000\n",
            "Epoch 6, Loss 726257583152928129024.000000\n",
            "Epoch 7, Loss 2429183416467662896627712.000000\n",
            "Epoch 8, Loss 8125122549611731432050262016.000000\n",
            "Epoch 9, Loss 27176882120842590626938030653440.000000\n",
            "Epoch 10, Loss 90901105189019073810297959556841472.000000\n",
            "Epoch 11, Loss inf\n",
            "Epoch 12, Loss inf\n",
            "Epoch 13, Loss inf\n",
            "Epoch 14, Loss inf\n",
            "Epoch 15, Loss inf\n",
            "Epoch 16, Loss inf\n",
            "Epoch 17, Loss inf\n",
            "Epoch 18, Loss inf\n",
            "Epoch 19, Loss inf\n",
            "Epoch 20, Loss inf\n",
            "Epoch 21, Loss inf\n",
            "Epoch 22, Loss inf\n",
            "Epoch 23, Loss nan\n",
            "Epoch 24, Loss nan\n",
            "Epoch 25, Loss nan\n",
            "Epoch 26, Loss nan\n",
            "Epoch 27, Loss nan\n",
            "Epoch 28, Loss nan\n",
            "Epoch 29, Loss nan\n",
            "Epoch 30, Loss nan\n",
            "Epoch 31, Loss nan\n",
            "Epoch 32, Loss nan\n",
            "Epoch 33, Loss nan\n",
            "Epoch 34, Loss nan\n",
            "Epoch 35, Loss nan\n",
            "Epoch 36, Loss nan\n",
            "Epoch 37, Loss nan\n",
            "Epoch 38, Loss nan\n",
            "Epoch 39, Loss nan\n",
            "Epoch 40, Loss nan\n",
            "Epoch 41, Loss nan\n",
            "Epoch 42, Loss nan\n",
            "Epoch 43, Loss nan\n",
            "Epoch 44, Loss nan\n",
            "Epoch 45, Loss nan\n",
            "Epoch 46, Loss nan\n",
            "Epoch 47, Loss nan\n",
            "Epoch 48, Loss nan\n",
            "Epoch 49, Loss nan\n",
            "Epoch 50, Loss nan\n",
            "Epoch 51, Loss nan\n",
            "Epoch 52, Loss nan\n",
            "Epoch 53, Loss nan\n",
            "Epoch 54, Loss nan\n",
            "Epoch 55, Loss nan\n",
            "Epoch 56, Loss nan\n",
            "Epoch 57, Loss nan\n",
            "Epoch 58, Loss nan\n",
            "Epoch 59, Loss nan\n",
            "Epoch 60, Loss nan\n",
            "Epoch 61, Loss nan\n",
            "Epoch 62, Loss nan\n",
            "Epoch 63, Loss nan\n",
            "Epoch 64, Loss nan\n",
            "Epoch 65, Loss nan\n",
            "Epoch 66, Loss nan\n",
            "Epoch 67, Loss nan\n",
            "Epoch 68, Loss nan\n",
            "Epoch 69, Loss nan\n",
            "Epoch 70, Loss nan\n",
            "Epoch 71, Loss nan\n",
            "Epoch 72, Loss nan\n",
            "Epoch 73, Loss nan\n",
            "Epoch 74, Loss nan\n",
            "Epoch 75, Loss nan\n",
            "Epoch 76, Loss nan\n",
            "Epoch 77, Loss nan\n",
            "Epoch 78, Loss nan\n",
            "Epoch 79, Loss nan\n",
            "Epoch 80, Loss nan\n",
            "Epoch 81, Loss nan\n",
            "Epoch 82, Loss nan\n",
            "Epoch 83, Loss nan\n",
            "Epoch 84, Loss nan\n",
            "Epoch 85, Loss nan\n",
            "Epoch 86, Loss nan\n",
            "Epoch 87, Loss nan\n",
            "Epoch 88, Loss nan\n",
            "Epoch 89, Loss nan\n",
            "Epoch 90, Loss nan\n",
            "Epoch 91, Loss nan\n",
            "Epoch 92, Loss nan\n",
            "Epoch 93, Loss nan\n",
            "Epoch 94, Loss nan\n",
            "Epoch 95, Loss nan\n",
            "Epoch 96, Loss nan\n",
            "Epoch 97, Loss nan\n",
            "Epoch 98, Loss nan\n",
            "Epoch 99, Loss nan\n",
            "Epoch 100, Loss nan\n"
          ],
          "name": "stdout"
        },
        {
          "output_type": "execute_result",
          "data": {
            "text/plain": [
              "tensor([nan, nan])"
            ]
          },
          "metadata": {
            "tags": []
          },
          "execution_count": 17
        }
      ]
    },
    {
      "cell_type": "code",
      "metadata": {
        "colab": {
          "base_uri": "https://localhost:8080/"
        },
        "id": "WAgU_XkFAi4y",
        "outputId": "916b1487-2b38-42e0-f4ba-c362d351e46c"
      },
      "source": [
        "# Decrease the learning rate and try again...\n",
        "# these are called hyperparameters\n",
        "\n",
        "training_loop(\n",
        "    n_epochs = 100,\n",
        "    learning_rate = 1e-4,\n",
        "    params = torch.tensor([1.0, 0.0]),\n",
        "    t_u = t_u,\n",
        "    t_c = t_c)"
      ],
      "execution_count": 18,
      "outputs": [
        {
          "output_type": "stream",
          "text": [
            "Epoch 1, Loss 1763.884766\n",
            "Epoch 2, Loss 323.090515\n",
            "Epoch 3, Loss 78.929634\n",
            "Epoch 4, Loss 37.552845\n",
            "Epoch 5, Loss 30.540283\n",
            "Epoch 6, Loss 29.351154\n",
            "Epoch 7, Loss 29.148884\n",
            "Epoch 8, Loss 29.113848\n",
            "Epoch 9, Loss 29.107145\n",
            "Epoch 10, Loss 29.105247\n",
            "Epoch 11, Loss 29.104168\n",
            "Epoch 12, Loss 29.103222\n",
            "Epoch 13, Loss 29.102295\n",
            "Epoch 14, Loss 29.101379\n",
            "Epoch 15, Loss 29.100466\n",
            "Epoch 16, Loss 29.099548\n",
            "Epoch 17, Loss 29.098631\n",
            "Epoch 18, Loss 29.097717\n",
            "Epoch 19, Loss 29.096796\n",
            "Epoch 20, Loss 29.095881\n",
            "Epoch 21, Loss 29.094959\n",
            "Epoch 22, Loss 29.094049\n",
            "Epoch 23, Loss 29.093134\n",
            "Epoch 24, Loss 29.092216\n",
            "Epoch 25, Loss 29.091301\n",
            "Epoch 26, Loss 29.090385\n",
            "Epoch 27, Loss 29.089464\n",
            "Epoch 28, Loss 29.088551\n",
            "Epoch 29, Loss 29.087635\n",
            "Epoch 30, Loss 29.086714\n",
            "Epoch 31, Loss 29.085804\n",
            "Epoch 32, Loss 29.084888\n",
            "Epoch 33, Loss 29.083967\n",
            "Epoch 34, Loss 29.083057\n",
            "Epoch 35, Loss 29.082142\n",
            "Epoch 36, Loss 29.081221\n",
            "Epoch 37, Loss 29.080309\n",
            "Epoch 38, Loss 29.079390\n",
            "Epoch 39, Loss 29.078474\n",
            "Epoch 40, Loss 29.077562\n",
            "Epoch 41, Loss 29.076649\n",
            "Epoch 42, Loss 29.075731\n",
            "Epoch 43, Loss 29.074812\n",
            "Epoch 44, Loss 29.073895\n",
            "Epoch 45, Loss 29.072981\n",
            "Epoch 46, Loss 29.072069\n",
            "Epoch 47, Loss 29.071148\n",
            "Epoch 48, Loss 29.070234\n",
            "Epoch 49, Loss 29.069323\n",
            "Epoch 50, Loss 29.068401\n",
            "Epoch 51, Loss 29.067486\n",
            "Epoch 52, Loss 29.066566\n",
            "Epoch 53, Loss 29.065657\n",
            "Epoch 54, Loss 29.064741\n",
            "Epoch 55, Loss 29.063826\n",
            "Epoch 56, Loss 29.062910\n",
            "Epoch 57, Loss 29.061995\n",
            "Epoch 58, Loss 29.061079\n",
            "Epoch 59, Loss 29.060169\n",
            "Epoch 60, Loss 29.059248\n",
            "Epoch 61, Loss 29.058336\n",
            "Epoch 62, Loss 29.057415\n",
            "Epoch 63, Loss 29.056507\n",
            "Epoch 64, Loss 29.055586\n",
            "Epoch 65, Loss 29.054674\n",
            "Epoch 66, Loss 29.053761\n",
            "Epoch 67, Loss 29.052843\n",
            "Epoch 68, Loss 29.051929\n",
            "Epoch 69, Loss 29.051012\n",
            "Epoch 70, Loss 29.050098\n",
            "Epoch 71, Loss 29.049183\n",
            "Epoch 72, Loss 29.048273\n",
            "Epoch 73, Loss 29.047350\n",
            "Epoch 74, Loss 29.046442\n",
            "Epoch 75, Loss 29.045530\n",
            "Epoch 76, Loss 29.044611\n",
            "Epoch 77, Loss 29.043699\n",
            "Epoch 78, Loss 29.042784\n",
            "Epoch 79, Loss 29.041870\n",
            "Epoch 80, Loss 29.040955\n",
            "Epoch 81, Loss 29.040039\n",
            "Epoch 82, Loss 29.039122\n",
            "Epoch 83, Loss 29.038210\n",
            "Epoch 84, Loss 29.037294\n",
            "Epoch 85, Loss 29.036379\n",
            "Epoch 86, Loss 29.035463\n",
            "Epoch 87, Loss 29.034554\n",
            "Epoch 88, Loss 29.033636\n",
            "Epoch 89, Loss 29.032722\n",
            "Epoch 90, Loss 29.031811\n",
            "Epoch 91, Loss 29.030895\n",
            "Epoch 92, Loss 29.029976\n",
            "Epoch 93, Loss 29.029066\n",
            "Epoch 94, Loss 29.028151\n",
            "Epoch 95, Loss 29.027235\n",
            "Epoch 96, Loss 29.026323\n",
            "Epoch 97, Loss 29.025410\n",
            "Epoch 98, Loss 29.024492\n",
            "Epoch 99, Loss 29.023582\n",
            "Epoch 100, Loss 29.022667\n"
          ],
          "name": "stdout"
        },
        {
          "output_type": "execute_result",
          "data": {
            "text/plain": [
              "tensor([ 0.2327, -0.0438])"
            ]
          },
          "metadata": {
            "tags": []
          },
          "execution_count": 18
        }
      ]
    },
    {
      "cell_type": "code",
      "metadata": {
        "id": "kmFROhsjCRmT"
      },
      "source": [
        ""
      ],
      "execution_count": null,
      "outputs": []
    }
  ]
}