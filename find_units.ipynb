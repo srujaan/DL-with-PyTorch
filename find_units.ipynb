{
  "nbformat": 4,
  "nbformat_minor": 0,
  "metadata": {
    "colab": {
      "name": "find_units.ipynb",
      "provenance": [],
      "authorship_tag": "ABX9TyNQ4/ueoy4JnO7ieYtNF0rU",
      "include_colab_link": true
    },
    "kernelspec": {
      "name": "python3",
      "display_name": "Python 3"
    }
  },
  "cells": [
    {
      "cell_type": "markdown",
      "metadata": {
        "id": "view-in-github",
        "colab_type": "text"
      },
      "source": [
        "<a href=\"https://colab.research.google.com/github/srujaan/DL-with-PyTorch/blob/master/find_units.ipynb\" target=\"_parent\"><img src=\"https://colab.research.google.com/assets/colab-badge.svg\" alt=\"Open In Colab\"/></a>"
      ]
    },
    {
      "cell_type": "code",
      "metadata": {
        "id": "fz4SB_TWzPhs"
      },
      "source": [
        "import torch"
      ],
      "execution_count": 20,
      "outputs": []
    },
    {
      "cell_type": "code",
      "metadata": {
        "id": "Xtr3jT1UyNQP"
      },
      "source": [
        "# \"t_c\" is temperature in celcius\n",
        "# \"t_u\" is temperature are unknown units\n",
        "t_c = [0.5, 14.0, 15.0, 28.0, 11.0, 8.0, 3.0, -4.0, 6.0, 13.0, 21.0]\n",
        "t_u = [35.7, 55.9, 58.2, 81.9, 56.3, 48.9, 33.9, 21.8, 48.4, 60.4, 68.4]\n",
        "t_c = torch.tensor(t_c)\n",
        "t_u = torch.tensor(t_u)"
      ],
      "execution_count": 21,
      "outputs": []
    },
    {
      "cell_type": "code",
      "metadata": {
        "id": "RmGbzvJ5z3qv"
      },
      "source": [
        "# model\n",
        "def model(t_u, w, b):\n",
        "  return w * t_u + b"
      ],
      "execution_count": 22,
      "outputs": []
    },
    {
      "cell_type": "code",
      "metadata": {
        "id": "0u6sFI6kGuok"
      },
      "source": [
        "# loss function\n",
        "def loss_fn(t_p, t_c):\n",
        "  squared_diffs = (t_p - t_c) ** 2\n",
        "  return squared_diffs.mean()"
      ],
      "execution_count": 23,
      "outputs": []
    },
    {
      "cell_type": "code",
      "metadata": {
        "id": "RMmWOROJHSj9"
      },
      "source": [
        "# initialize w,b parameteres\n",
        "w = torch.ones(())\n",
        "b = torch.ones(())"
      ],
      "execution_count": 24,
      "outputs": []
    },
    {
      "cell_type": "code",
      "metadata": {
        "colab": {
          "base_uri": "https://localhost:8080/"
        },
        "id": "mfkzzBReICUw",
        "outputId": "9d310ee8-3b20-4993-e76d-5c657340da4c"
      },
      "source": [
        "t_p = model(t_u, w, b)\n",
        "t_p"
      ],
      "execution_count": 25,
      "outputs": [
        {
          "output_type": "execute_result",
          "data": {
            "text/plain": [
              "tensor([36.7000, 56.9000, 59.2000, 82.9000, 57.3000, 49.9000, 34.9000, 22.8000,\n",
              "        49.4000, 61.4000, 69.4000])"
            ]
          },
          "metadata": {
            "tags": []
          },
          "execution_count": 25
        }
      ]
    },
    {
      "cell_type": "code",
      "metadata": {
        "colab": {
          "base_uri": "https://localhost:8080/"
        },
        "id": "ylXghVVzZoYe",
        "outputId": "50319e27-033d-48e5-950b-e7a4eac52272"
      },
      "source": [
        "# check value of loss\n",
        "loss = loss_fn(t_p, t_c)\n",
        "loss"
      ],
      "execution_count": 26,
      "outputs": [
        {
          "output_type": "execute_result",
          "data": {
            "text/plain": [
              "tensor(1847.4844)"
            ]
          },
          "metadata": {
            "tags": []
          },
          "execution_count": 26
        }
      ]
    },
    {
      "cell_type": "code",
      "metadata": {
        "id": "RHw8WsrCaDi2"
      },
      "source": [
        "# Decreasing loss\n",
        "\n",
        "delta = 0.1\n",
        "\n",
        "loss_rate_of_change_w = \\\n",
        "  (loss_fn(model(t_u, w + delta, b), t_c) - \n",
        "   loss_fn(model(t_u, w - delta, b), t_c)) / (2.0 * delta)"
      ],
      "execution_count": 27,
      "outputs": []
    },
    {
      "cell_type": "code",
      "metadata": {
        "id": "jJsqFbl2e722"
      },
      "source": [
        "# learning rate should be low as possible\n",
        "\n",
        "learning_rate = 1e-2\n",
        "w = w - learning_rate * loss_rate_of_change_w"
      ],
      "execution_count": 28,
      "outputs": []
    },
    {
      "cell_type": "code",
      "metadata": {
        "id": "oN--gIG0gUYh"
      },
      "source": [
        "# we can do same for b\n",
        "\n",
        "loss_rate_of_change_b = \\\n",
        "  (loss_fn(model(t_u, w, b + delta), t_c) - \n",
        "   loss_fn(model(t_u, w, b - delta), t_c)) / (2.0 * delta)\n",
        "\n",
        "b = b - learning_rate * loss_rate_of_change_b"
      ],
      "execution_count": 29,
      "outputs": []
    },
    {
      "cell_type": "code",
      "metadata": {
        "id": "W-d7IAILhaxH"
      },
      "source": [
        "def dloss_fn(t_p, t_c):\n",
        "  dsq_diffs = 2 * (t_p - t_c) / t_p.size(0) # The division is from the derivative mean\n",
        "  return dsq_diffs\n"
      ],
      "execution_count": 30,
      "outputs": []
    },
    {
      "cell_type": "code",
      "metadata": {
        "id": "bOLPO_HQDjrp"
      },
      "source": [
        "# Applying derivatives to the model\n",
        "\n",
        "def dmodel_dw(t_u, w, b):\n",
        "  return t_u\n",
        "\n",
        "def dmodel_db(t_u, w, b):\n",
        "  return 1.0"
      ],
      "execution_count": 31,
      "outputs": []
    },
    {
      "cell_type": "code",
      "metadata": {
        "id": "ryyRdvbYEwOK"
      },
      "source": [
        "# Putting all this together\n",
        "\n",
        "def grad_fn(t_u, t_c, t_p, w, b):\n",
        "  dloss_dtp = dloss_fn(t_p, t_c)\n",
        "  dloss_dw = dloss_dtp * dmodel_dw(t_u, w, b)\n",
        "  dloss_db = dloss_dtp * dmodel_db(t_u, w, b)\n",
        "  return torch.stack([dloss_dw.sum(), dloss_db.sum()])"
      ],
      "execution_count": 32,
      "outputs": []
    },
    {
      "cell_type": "code",
      "metadata": {
        "id": "N_bagbiaIhhZ"
      },
      "source": [
        "# Training loop\n",
        "\n",
        "def training_loop(n_epochs, learning_rate, params, t_u, t_c, print_params=True):\n",
        "  for epoch in range(1, n_epochs + 1):\n",
        "    w, b = params\n",
        "\n",
        "    t_p = model(t_u, w, b)  # Forward pass\n",
        "    loss = loss_fn(t_p, t_c)\n",
        "    grad = grad_fn(t_u, t_c, t_p, w, b) # Backward pass\n",
        "\n",
        "    params = params - learning_rate * grad\n",
        "    if epoch in {1, 2, 3, 10, 99, 100, 4000, 5000}:\n",
        "      print('Epoch %d, Loss %f' % (epoch, float(loss)))\n",
        "      if print_params:\n",
        "        print('  Params: ', params)\n",
        "        print('  Grad:', grad)\n",
        "\n",
        "    if epoch in {4, 12, 101}:\n",
        "      print('...')\n",
        "\n",
        "    if not torch.isfinite(loss).all():\n",
        "      break\n",
        "\n",
        "  return params\n"
      ],
      "execution_count": 50,
      "outputs": []
    },
    {
      "cell_type": "code",
      "metadata": {
        "colab": {
          "base_uri": "https://localhost:8080/"
        },
        "id": "LdBR33OrL_mR",
        "outputId": "244597a5-cd72-4f90-9654-ae3f94aea362"
      },
      "source": [
        "training_loop(\n",
        "    n_epochs = 100,\n",
        "    learning_rate = 1e-2,\n",
        "    params = torch.tensor([1.0, 0.0]),\n",
        "    t_u = t_u,\n",
        "    t_c = t_c)"
      ],
      "execution_count": 51,
      "outputs": [
        {
          "output_type": "stream",
          "text": [
            "Epoch 1, Loss 1763.884766\n",
            "  Params:  tensor([-44.1730,  -0.8260])\n",
            "  Grad: tensor([4517.2964,   82.6000])\n",
            "Epoch 2, Loss 5802484.500000\n",
            "  Params:  tensor([2568.4011,   45.1637])\n",
            "  Grad: tensor([-261257.4062,   -4598.9702])\n",
            "Epoch 3, Loss 19408029696.000000\n",
            "  Params:  tensor([-148527.7344,   -2616.3931])\n",
            "  Grad: tensor([15109614.0000,   266155.6875])\n",
            "...\n",
            "Epoch 10, Loss 90901105189019073810297959556841472.000000\n",
            "  Params:  tensor([3.2144e+17, 5.6621e+15])\n",
            "  Grad: tensor([-3.2700e+19, -5.7600e+17])\n"
          ],
          "name": "stdout"
        },
        {
          "output_type": "execute_result",
          "data": {
            "text/plain": [
              "tensor([-1.8590e+19, -3.2746e+17])"
            ]
          },
          "metadata": {
            "tags": []
          },
          "execution_count": 51
        }
      ]
    },
    {
      "cell_type": "code",
      "metadata": {
        "colab": {
          "base_uri": "https://localhost:8080/"
        },
        "id": "WAgU_XkFAi4y",
        "outputId": "8c63e119-e46f-4ce7-d589-a432ef5a28d3"
      },
      "source": [
        "# Decrease the learning rate and try again...\n",
        "# these are called hyperparameters\n",
        "\n",
        "training_loop(\n",
        "    n_epochs = 100,\n",
        "    learning_rate = 1e-4,\n",
        "    params = torch.tensor([1.0, 0.0]),\n",
        "    t_u = t_u,\n",
        "    t_c = t_c)"
      ],
      "execution_count": 52,
      "outputs": [
        {
          "output_type": "stream",
          "text": [
            "Epoch 1, Loss 1763.884766\n",
            "  Params:  tensor([ 0.5483, -0.0083])\n",
            "  Grad: tensor([4517.2964,   82.6000])\n",
            "Epoch 2, Loss 323.090515\n",
            "  Params:  tensor([ 0.3623, -0.0118])\n",
            "  Grad: tensor([1859.5493,   35.7843])\n",
            "Epoch 3, Loss 78.929634\n",
            "  Params:  tensor([ 0.2858, -0.0135])\n",
            "  Grad: tensor([765.4666,  16.5122])\n",
            "...\n",
            "Epoch 10, Loss 29.105247\n",
            "  Params:  tensor([ 0.2324, -0.0166])\n",
            "  Grad: tensor([1.4803, 3.0544])\n",
            "...\n",
            "Epoch 99, Loss 29.023582\n",
            "  Params:  tensor([ 0.2327, -0.0435])\n",
            "  Grad: tensor([-0.0533,  3.0226])\n",
            "Epoch 100, Loss 29.022667\n",
            "  Params:  tensor([ 0.2327, -0.0438])\n",
            "  Grad: tensor([-0.0532,  3.0226])\n"
          ],
          "name": "stdout"
        },
        {
          "output_type": "execute_result",
          "data": {
            "text/plain": [
              "tensor([ 0.2327, -0.0438])"
            ]
          },
          "metadata": {
            "tags": []
          },
          "execution_count": 52
        }
      ]
    },
    {
      "cell_type": "code",
      "metadata": {
        "colab": {
          "base_uri": "https://localhost:8080/"
        },
        "id": "kmFROhsjCRmT",
        "outputId": "ff7e956f-abb2-457c-c36c-2b957652665b"
      },
      "source": [
        "# Normalize the inputs, so they are in range -1.0 to 1.0\n",
        "\n",
        "t_un = 0.1 * t_u\n",
        "\n",
        "# updating it in the training loop\n",
        "training_loop(\n",
        "    n_epochs = 100,\n",
        "    learning_rate = 1e-2, # it is set high and didn't blow up\n",
        "    params = torch.tensor([1.0, 0.0]),\n",
        "    t_u = t_un, # updated t_u to our new, rescaled t_un.\n",
        "    t_c = t_c)"
      ],
      "execution_count": 53,
      "outputs": [
        {
          "output_type": "stream",
          "text": [
            "Epoch 1, Loss 80.364342\n",
            "  Params:  tensor([1.7761, 0.1064])\n",
            "  Grad: tensor([-77.6140, -10.6400])\n",
            "Epoch 2, Loss 37.574913\n",
            "  Params:  tensor([2.0848, 0.1303])\n",
            "  Grad: tensor([-30.8623,  -2.3864])\n",
            "Epoch 3, Loss 30.871077\n",
            "  Params:  tensor([2.2094, 0.1217])\n",
            "  Grad: tensor([-12.4631,   0.8587])\n",
            "...\n",
            "Epoch 10, Loss 29.030489\n",
            "  Params:  tensor([ 2.3232, -0.0710])\n",
            "  Grad: tensor([-0.5355,  2.9295])\n",
            "...\n",
            "Epoch 99, Loss 22.214186\n",
            "  Params:  tensor([ 2.7508, -2.4910])\n",
            "  Grad: tensor([-0.4453,  2.5208])\n",
            "Epoch 100, Loss 22.148710\n",
            "  Params:  tensor([ 2.7553, -2.5162])\n",
            "  Grad: tensor([-0.4446,  2.5165])\n"
          ],
          "name": "stdout"
        },
        {
          "output_type": "execute_result",
          "data": {
            "text/plain": [
              "tensor([ 2.7553, -2.5162])"
            ]
          },
          "metadata": {
            "tags": []
          },
          "execution_count": 53
        }
      ]
    },
    {
      "cell_type": "code",
      "metadata": {
        "colab": {
          "base_uri": "https://localhost:8080/"
        },
        "id": "7SgjRj9rcwc0",
        "outputId": "75512820-75dc-4d71-f39d-a58dd93dc7ea"
      },
      "source": [
        "# see if the params change for n_epochs = 5000\n",
        "\n",
        "params = training_loop(\n",
        "    n_epochs = 5000,\n",
        "    learning_rate = 1e-2,\n",
        "    params = torch.tensor([1.0, 0.0]),\n",
        "    t_u = t_un,\n",
        "    t_c = t_c,\n",
        "    print_params = False\n",
        "  )\n",
        "params"
      ],
      "execution_count": 54,
      "outputs": [
        {
          "output_type": "stream",
          "text": [
            "Epoch 1, Loss 80.364342\n",
            "Epoch 2, Loss 37.574913\n",
            "Epoch 3, Loss 30.871077\n",
            "...\n",
            "Epoch 10, Loss 29.030489\n",
            "...\n",
            "Epoch 99, Loss 22.214186\n",
            "Epoch 100, Loss 22.148710\n",
            "...\n",
            "Epoch 4000, Loss 2.927680\n",
            "Epoch 5000, Loss 2.927648\n"
          ],
          "name": "stdout"
        },
        {
          "output_type": "execute_result",
          "data": {
            "text/plain": [
              "tensor([  5.3671, -17.3012])"
            ]
          },
          "metadata": {
            "tags": []
          },
          "execution_count": 54
        }
      ]
    },
    {
      "cell_type": "code",
      "metadata": {
        "id": "CtAscbGbf493"
      },
      "source": [
        ""
      ],
      "execution_count": null,
      "outputs": []
    }
  ]
}