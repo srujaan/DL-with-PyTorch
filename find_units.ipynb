{
  "nbformat": 4,
  "nbformat_minor": 0,
  "metadata": {
    "colab": {
      "name": "find_units.ipynb",
      "provenance": [],
      "authorship_tag": "ABX9TyPZ6INY2DaxBGGBMvDxGavO",
      "include_colab_link": true
    },
    "kernelspec": {
      "name": "python3",
      "display_name": "Python 3"
    }
  },
  "cells": [
    {
      "cell_type": "markdown",
      "metadata": {
        "id": "view-in-github",
        "colab_type": "text"
      },
      "source": [
        "<a href=\"https://colab.research.google.com/github/srujaan/DL-with-PyTorch/blob/master/find_units.ipynb\" target=\"_parent\"><img src=\"https://colab.research.google.com/assets/colab-badge.svg\" alt=\"Open In Colab\"/></a>"
      ]
    },
    {
      "cell_type": "code",
      "metadata": {
        "id": "fz4SB_TWzPhs"
      },
      "source": [
        "import torch"
      ],
      "execution_count": 1,
      "outputs": []
    },
    {
      "cell_type": "code",
      "metadata": {
        "id": "Xtr3jT1UyNQP"
      },
      "source": [
        "# \"t_c\" is temperature in celcius\n",
        "# \"t_u\" is temperature are unknown units\n",
        "t_c = [0.5, 14.0, 15.0, 28.0, 11.0, 8.0, 3.0, -4.0, 6.0, 13.0, 21.0]\n",
        "t_u = [35.7, 55.9, 58.2, 81.9, 56.3, 48.9, 33.9, 21.8, 48.4, 60.4, 68.4]\n",
        "t_c = torch.tensor(t_c)\n",
        "t_u = torch.tensor(t_u)"
      ],
      "execution_count": 2,
      "outputs": []
    },
    {
      "cell_type": "code",
      "metadata": {
        "id": "RmGbzvJ5z3qv"
      },
      "source": [
        "# model\n",
        "def model(t_u, w, b):\n",
        "  return w * t_u + b"
      ],
      "execution_count": 3,
      "outputs": []
    },
    {
      "cell_type": "code",
      "metadata": {
        "id": "0u6sFI6kGuok"
      },
      "source": [
        "# loss function\n",
        "def loss_fn(t_p, t_c):\n",
        "  squared_diffs = (t_p - t_c) ** 2\n",
        "  return squared_diffs.mean()"
      ],
      "execution_count": 4,
      "outputs": []
    },
    {
      "cell_type": "code",
      "metadata": {
        "id": "RMmWOROJHSj9"
      },
      "source": [
        "# initialize w,b parameteres\n",
        "w = torch.ones(())\n",
        "b = torch.ones(())"
      ],
      "execution_count": 9,
      "outputs": []
    },
    {
      "cell_type": "code",
      "metadata": {
        "colab": {
          "base_uri": "https://localhost:8080/"
        },
        "id": "mfkzzBReICUw",
        "outputId": "7b13fed7-31c7-4b23-d6f2-07680b5a4540"
      },
      "source": [
        "t_p = model(t_u, w, b)\n",
        "t_p"
      ],
      "execution_count": 10,
      "outputs": [
        {
          "output_type": "execute_result",
          "data": {
            "text/plain": [
              "tensor([36.7000, 56.9000, 59.2000, 82.9000, 57.3000, 49.9000, 34.9000, 22.8000,\n",
              "        49.4000, 61.4000, 69.4000])"
            ]
          },
          "metadata": {
            "tags": []
          },
          "execution_count": 10
        }
      ]
    },
    {
      "cell_type": "code",
      "metadata": {
        "colab": {
          "base_uri": "https://localhost:8080/"
        },
        "id": "ylXghVVzZoYe",
        "outputId": "64125061-9761-4eb7-afcf-fd7e0e903e19"
      },
      "source": [
        "# check value of loss\n",
        "loss = loss_fn(t_p, t_c)\n",
        "loss"
      ],
      "execution_count": 12,
      "outputs": [
        {
          "output_type": "execute_result",
          "data": {
            "text/plain": [
              "tensor(1847.4844)"
            ]
          },
          "metadata": {
            "tags": []
          },
          "execution_count": 12
        }
      ]
    },
    {
      "cell_type": "code",
      "metadata": {
        "id": "RHw8WsrCaDi2"
      },
      "source": [
        "# Decreasing loss\n",
        "\n",
        "delta = 0.1\n",
        "\n",
        "loss_rate_of_change_w = \\\n",
        "  (loss_fn(model(t_u, w + delta, b), t_c) - \n",
        "   loss_fn(model(t_u, w - delta, b), t_c)) / (2.0 * delta)"
      ],
      "execution_count": 13,
      "outputs": []
    },
    {
      "cell_type": "code",
      "metadata": {
        "id": "jJsqFbl2e722"
      },
      "source": [
        "# learning rate should be low as possible\n",
        "\n",
        "learning_rate = 1e-2\n",
        "w = w - learning_rate * loss_rate_of_change_w"
      ],
      "execution_count": 14,
      "outputs": []
    },
    {
      "cell_type": "code",
      "metadata": {
        "id": "oN--gIG0gUYh"
      },
      "source": [
        "# we can do same for b\n",
        "\n",
        "loss_rate_of_change_b = \\\n",
        "  (loss_fn(model(t_u, w, b + delta), t_c) - \n",
        "   loss_fn(model(t_u, w, b - delta), t_c)) / (2.0 * delta)\n",
        "\n",
        "b = b - learning_rate * loss_rate_of_change_b"
      ],
      "execution_count": 15,
      "outputs": []
    },
    {
      "cell_type": "code",
      "metadata": {
        "id": "W-d7IAILhaxH"
      },
      "source": [
        ""
      ],
      "execution_count": null,
      "outputs": []
    }
  ]
}