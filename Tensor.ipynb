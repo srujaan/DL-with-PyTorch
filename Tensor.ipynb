{
  "nbformat": 4,
  "nbformat_minor": 0,
  "metadata": {
    "colab": {
      "name": "Tensor.ipynb",
      "provenance": [],
      "authorship_tag": "ABX9TyP0NJ9eQIj9yt9cewrt5+tB"
    },
    "kernelspec": {
      "name": "python3",
      "display_name": "Python 3"
    }
  },
  "cells": [
    {
      "cell_type": "markdown",
      "metadata": {
        "id": "Xx5zWQ9T2GYZ"
      },
      "source": [
        "### Python list\n"
      ]
    },
    {
      "cell_type": "code",
      "metadata": {
        "colab": {
          "base_uri": "https://localhost:8080/"
        },
        "id": "9KchMkdQ2ONK",
        "outputId": "b01311ab-69f6-4a70-de0e-b19cd02721be"
      },
      "source": [
        "a = [23, 43, 94]\n",
        "a[0], a[1]"
      ],
      "execution_count": 2,
      "outputs": [
        {
          "output_type": "execute_result",
          "data": {
            "text/plain": [
              "(23, 43)"
            ]
          },
          "metadata": {
            "tags": []
          },
          "execution_count": 2
        }
      ]
    },
    {
      "cell_type": "code",
      "metadata": {
        "colab": {
          "base_uri": "https://localhost:8080/"
        },
        "id": "YBllOiG62VVA",
        "outputId": "8c54ea87-341c-4667-c0b4-6861c0f36980"
      },
      "source": [
        "a[2] = 45\n",
        "a"
      ],
      "execution_count": 4,
      "outputs": [
        {
          "output_type": "execute_result",
          "data": {
            "text/plain": [
              "[23, 43, 45]"
            ]
          },
          "metadata": {
            "tags": []
          },
          "execution_count": 4
        }
      ]
    },
    {
      "cell_type": "markdown",
      "metadata": {
        "id": "2Ofsqpgu2nbH"
      },
      "source": [
        "# Tensors"
      ]
    },
    {
      "cell_type": "code",
      "metadata": {
        "id": "O1_Lb70Q3Ew5"
      },
      "source": [
        "import torch\n"
      ],
      "execution_count": 6,
      "outputs": []
    },
    {
      "cell_type": "code",
      "metadata": {
        "colab": {
          "base_uri": "https://localhost:8080/"
        },
        "id": "xTuCh76e3UqE",
        "outputId": "753d951f-8b7d-4eb4-c7e0-0fb54ce47694"
      },
      "source": [
        "a = torch.ones(3)\n",
        "a"
      ],
      "execution_count": 7,
      "outputs": [
        {
          "output_type": "execute_result",
          "data": {
            "text/plain": [
              "tensor([1., 1., 1.])"
            ]
          },
          "metadata": {
            "tags": []
          },
          "execution_count": 7
        }
      ]
    },
    {
      "cell_type": "code",
      "metadata": {
        "colab": {
          "base_uri": "https://localhost:8080/"
        },
        "id": "-FRiUWEc3kOy",
        "outputId": "b60528e1-ad51-4b47-8baf-6d22ebf87632"
      },
      "source": [
        "a[1] = 3\n",
        "a"
      ],
      "execution_count": 9,
      "outputs": [
        {
          "output_type": "execute_result",
          "data": {
            "text/plain": [
              "tensor([1., 3., 1.])"
            ]
          },
          "metadata": {
            "tags": []
          },
          "execution_count": 9
        }
      ]
    },
    {
      "cell_type": "code",
      "metadata": {
        "colab": {
          "base_uri": "https://localhost:8080/"
        },
        "id": "hDA4waUT3sIw",
        "outputId": "c00dacd0-3084-44b1-abb2-a7cefb73e036"
      },
      "source": [
        "a[1] = float(a[1])\n",
        "a"
      ],
      "execution_count": 11,
      "outputs": [
        {
          "output_type": "execute_result",
          "data": {
            "text/plain": [
              "tensor([1., 3., 1.])"
            ]
          },
          "metadata": {
            "tags": []
          },
          "execution_count": 11
        }
      ]
    },
    {
      "cell_type": "code",
      "metadata": {
        "colab": {
          "base_uri": "https://localhost:8080/"
        },
        "id": "CvpNgioi37I0",
        "outputId": "7255973b-efc9-4d9b-948a-b3610d1124a1"
      },
      "source": [
        "float(a[2])"
      ],
      "execution_count": 12,
      "outputs": [
        {
          "output_type": "execute_result",
          "data": {
            "text/plain": [
              "1.0"
            ]
          },
          "metadata": {
            "tags": []
          },
          "execution_count": 12
        }
      ]
    },
    {
      "cell_type": "code",
      "metadata": {
        "id": "Yk-4wLD04Gvp"
      },
      "source": [
        "# Tensor are contiguous memory blocks containing unboxed C numeric\n",
        "# types rather than Python objects. Each element is a 32-bit"
      ],
      "execution_count": 13,
      "outputs": []
    },
    {
      "cell_type": "code",
      "metadata": {
        "colab": {
          "base_uri": "https://localhost:8080/"
        },
        "id": "DnTZr22J9cF8",
        "outputId": "0132d6ca-e8c7-4fa1-a2fb-186d83e59423"
      },
      "source": [
        "points = torch.zeros(6) # Array size of 6\n",
        "# Overwrite zero values\n",
        "points[0] = 4.0\n",
        "points[1] = 1.0\n",
        "points[2] = 5.0\n",
        "points[3] = 3.0\n",
        "points[4] = 2.0\n",
        "points[5] = 1.0\n",
        "points"
      ],
      "execution_count": 14,
      "outputs": [
        {
          "output_type": "execute_result",
          "data": {
            "text/plain": [
              "tensor([4., 1., 5., 3., 2., 1.])"
            ]
          },
          "metadata": {
            "tags": []
          },
          "execution_count": 14
        }
      ]
    },
    {
      "cell_type": "code",
      "metadata": {
        "colab": {
          "base_uri": "https://localhost:8080/"
        },
        "id": "TgMJTTnx9_2D",
        "outputId": "a33b4653-cb3c-4e4a-c0ee-6d6aeac308d0"
      },
      "source": [
        "# Other way of creating tensors\n",
        "points2 = torch.tensor([4.0, 1.0, 5.0, 3.0, 2.0, 10])\n",
        "points2"
      ],
      "execution_count": 15,
      "outputs": [
        {
          "output_type": "execute_result",
          "data": {
            "text/plain": [
              "tensor([ 4.,  1.,  5.,  3.,  2., 10.])"
            ]
          },
          "metadata": {
            "tags": []
          },
          "execution_count": 15
        }
      ]
    },
    {
      "cell_type": "code",
      "metadata": {
        "colab": {
          "base_uri": "https://localhost:8080/"
        },
        "id": "CxeIeicw-n5W",
        "outputId": "7829f171-f79b-41cd-e2a7-3d1b8bd593de"
      },
      "source": [
        "points2[2] = 6\n",
        "points2"
      ],
      "execution_count": 20,
      "outputs": [
        {
          "output_type": "execute_result",
          "data": {
            "text/plain": [
              "tensor([ 4.,  1.,  6.,  3.,  2., 10.])"
            ]
          },
          "metadata": {
            "tags": []
          },
          "execution_count": 20
        }
      ]
    },
    {
      "cell_type": "code",
      "metadata": {
        "colab": {
          "base_uri": "https://localhost:8080/"
        },
        "id": "mn_k8YNI-q0o",
        "outputId": "dd9eaa9f-4a79-43d6-9367-bcb2492c7b87"
      },
      "source": [
        "# for example to get coordinates of first two points\n",
        "x1y1 = float(points2[0]), float(points2[1])\n",
        "# type(x1y1) -> tuple\n",
        "x1y1"
      ],
      "execution_count": 28,
      "outputs": [
        {
          "output_type": "execute_result",
          "data": {
            "text/plain": [
              "(4.0, 1.0)"
            ]
          },
          "metadata": {
            "tags": []
          },
          "execution_count": 28
        }
      ]
    },
    {
      "cell_type": "code",
      "metadata": {
        "colab": {
          "base_uri": "https://localhost:8080/"
        },
        "id": "thCfVAhT_MIF",
        "outputId": "3cbe0b97-07c5-48e4-88ce-48dd0c45d05c"
      },
      "source": [
        "# 2D tensor\n",
        "points3 = torch.tensor([[1.0, 4.0], [5.0, 3.0], [2.0, 1.0]])\n",
        "points3"
      ],
      "execution_count": 31,
      "outputs": [
        {
          "output_type": "execute_result",
          "data": {
            "text/plain": [
              "tensor([[1., 4.],\n",
              "        [5., 3.],\n",
              "        [2., 1.]])"
            ]
          },
          "metadata": {
            "tags": []
          },
          "execution_count": 31
        }
      ]
    },
    {
      "cell_type": "code",
      "metadata": {
        "colab": {
          "base_uri": "https://localhost:8080/"
        },
        "id": "C6mkQ9rSASrz",
        "outputId": "f01b5f2d-33e0-4bfa-9054-207ef5996b3f"
      },
      "source": [
        "points3[1][0]"
      ],
      "execution_count": 34,
      "outputs": [
        {
          "output_type": "execute_result",
          "data": {
            "text/plain": [
              "tensor(5.)"
            ]
          },
          "metadata": {
            "tags": []
          },
          "execution_count": 34
        }
      ]
    },
    {
      "cell_type": "code",
      "metadata": {
        "colab": {
          "base_uri": "https://localhost:8080/"
        },
        "id": "dHOZlXEpAlBD",
        "outputId": "330cb276-8eb7-4801-b92f-24a0020be0a6"
      },
      "source": [
        "points3.shape"
      ],
      "execution_count": 36,
      "outputs": [
        {
          "output_type": "execute_result",
          "data": {
            "text/plain": [
              "torch.Size([3, 2])"
            ]
          },
          "metadata": {
            "tags": []
          },
          "execution_count": 36
        }
      ]
    },
    {
      "cell_type": "code",
      "metadata": {
        "colab": {
          "base_uri": "https://localhost:8080/"
        },
        "id": "SruFYyS7A8QS",
        "outputId": "6bc4fd22-8c8a-4410-dee2-dd68c58cd44f"
      },
      "source": [
        "# Instantiate the tensor shape of zeros using tuple\n",
        "points4 = torch.zeros(3,3)\n",
        "# Rewrite the points4 of zeros to a tensor of values\n",
        "points4 = torch.tensor([[4.0, 5.0, 6.0], [1.0, 3.0, 9.0], [7.0, 2.0, 4.0]])\n",
        "# display points4 values\n",
        "points4"
      ],
      "execution_count": 40,
      "outputs": [
        {
          "output_type": "execute_result",
          "data": {
            "text/plain": [
              "tensor([[4., 5., 6.],\n",
              "        [1., 3., 9.],\n",
              "        [7., 2., 4.]])"
            ]
          },
          "metadata": {
            "tags": []
          },
          "execution_count": 40
        }
      ]
    },
    {
      "cell_type": "code",
      "metadata": {
        "colab": {
          "base_uri": "https://localhost:8080/"
        },
        "id": "8K77YDkkDbFk",
        "outputId": "fccaf8d8-ec27-4898-c085-732d075f585b"
      },
      "source": [
        "# Get the value in points4\n",
        "# Similar to points[0][1] yields the same answer\n",
        "points4[0, 1]\n"
      ],
      "execution_count": 49,
      "outputs": [
        {
          "output_type": "execute_result",
          "data": {
            "text/plain": [
              "tensor(5.)"
            ]
          },
          "metadata": {
            "tags": []
          },
          "execution_count": 49
        }
      ]
    },
    {
      "cell_type": "code",
      "metadata": {
        "id": "tKgMayuRDuN6"
      },
      "source": [
        ""
      ],
      "execution_count": null,
      "outputs": []
    }
  ]
}