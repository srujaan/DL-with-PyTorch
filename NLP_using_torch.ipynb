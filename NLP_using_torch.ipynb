{
  "nbformat": 4,
  "nbformat_minor": 0,
  "metadata": {
    "colab": {
      "name": "NLP_using_torch.ipynb",
      "provenance": [],
      "authorship_tag": "ABX9TyMoBdj3m0qpHStCs1OQgcmK",
      "include_colab_link": true
    },
    "kernelspec": {
      "name": "python3",
      "display_name": "Python 3"
    }
  },
  "cells": [
    {
      "cell_type": "markdown",
      "metadata": {
        "id": "view-in-github",
        "colab_type": "text"
      },
      "source": [
        "<a href=\"https://colab.research.google.com/github/srujaan/DL-with-PyTorch/blob/master/NLP_using_torch.ipynb\" target=\"_parent\"><img src=\"https://colab.research.google.com/assets/colab-badge.svg\" alt=\"Open In Colab\"/></a>"
      ]
    },
    {
      "cell_type": "markdown",
      "metadata": {
        "id": "eW97bTpUM0yj"
      },
      "source": [
        "## Converting text to numbers\n",
        "Using Character level "
      ]
    },
    {
      "cell_type": "code",
      "metadata": {
        "id": "sjx-IJ9kMGmp"
      },
      "source": [
        "import torch\n",
        "import numpy as np\n"
      ],
      "execution_count": 1,
      "outputs": []
    },
    {
      "cell_type": "code",
      "metadata": {
        "id": "fpakN-7uNJBN"
      },
      "source": [
        "with open('/content/1342-0.txt', encoding='utf8') as f:\n",
        "  text = f.read()"
      ],
      "execution_count": 3,
      "outputs": []
    },
    {
      "cell_type": "code",
      "metadata": {
        "colab": {
          "base_uri": "https://localhost:8080/",
          "height": 35
        },
        "id": "QsxkDZyzQy8B",
        "outputId": "b30a82ad-83d5-4b03-b329-665e84c4888e"
      },
      "source": [
        "# We first split our text into a list of lines and pick an arbitrary line to focus on:\n",
        "lines = text.split('\\n')\n",
        "line = lines[200] # a single line from group of lines\n",
        "line"
      ],
      "execution_count": 11,
      "outputs": [
        {
          "output_type": "execute_result",
          "data": {
            "application/vnd.google.colaboratory.intrinsic+json": {
              "type": "string"
            },
            "text/plain": [
              "'“Impossible, Mr. Bennet, impossible, when I am not acquainted with him'"
            ]
          },
          "metadata": {
            "tags": []
          },
          "execution_count": 11
        }
      ]
    },
    {
      "cell_type": "code",
      "metadata": {
        "colab": {
          "base_uri": "https://localhost:8080/"
        },
        "id": "ysq5OuEhSWCT",
        "outputId": "a3e9aab6-a043-4d1a-bbf7-a33de1f2b531"
      },
      "source": [
        "# Let’s create a tensor that can hold the total number \n",
        "# of one-hot-encoded characters for the whole line:\n",
        "\n",
        "letter_t = torch.zeros(len(line), 128) # 128 hardcoded due to the limits of ASCII\n",
        "letter_t.shape\n"
      ],
      "execution_count": 17,
      "outputs": [
        {
          "output_type": "execute_result",
          "data": {
            "text/plain": [
              "torch.Size([70, 128])"
            ]
          },
          "metadata": {
            "tags": []
          },
          "execution_count": 17
        }
      ]
    },
    {
      "cell_type": "code",
      "metadata": {
        "id": "vN0RjjO7Tb-7"
      },
      "source": [
        "# Now we just have to set a one on each row in the correct position so that each row represents the correct\n",
        "# character. The index where the one has to be set corresponds to the index of the character in the encoding:\n",
        "\n",
        "for i, letter in enumerate(line.lower().strip()):\n",
        "  letter_index = ord(letter) if ord(letter) < 128 else 0 # The text uses directional double quotes, which are not valid ASCII, so we screen them out here.\n",
        "  letter_t[i][letter_index] = 1"
      ],
      "execution_count": 18,
      "outputs": []
    },
    {
      "cell_type": "code",
      "metadata": {
        "colab": {
          "base_uri": "https://localhost:8080/"
        },
        "id": "PV4LcazlWy0Q",
        "outputId": "68805913-acc6-4f46-a409-4656ab6c8375"
      },
      "source": [
        ""
      ],
      "execution_count": 19,
      "outputs": [
        {
          "output_type": "execute_result",
          "data": {
            "text/plain": [
              "109"
            ]
          },
          "metadata": {
            "tags": []
          },
          "execution_count": 19
        }
      ]
    },
    {
      "cell_type": "code",
      "metadata": {
        "id": "BgBCsOgOW1Zf"
      },
      "source": [
        ""
      ],
      "execution_count": null,
      "outputs": []
    }
  ]
}