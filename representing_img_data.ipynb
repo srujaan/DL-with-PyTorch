{
  "nbformat": 4,
  "nbformat_minor": 0,
  "metadata": {
    "colab": {
      "name": "representing_img_data.ipynb",
      "provenance": [],
      "authorship_tag": "ABX9TyM8w+3I+LEVz0x7OeCm6Hgt",
      "include_colab_link": true
    },
    "kernelspec": {
      "name": "python3",
      "display_name": "Python 3"
    }
  },
  "cells": [
    {
      "cell_type": "markdown",
      "metadata": {
        "id": "view-in-github",
        "colab_type": "text"
      },
      "source": [
        "<a href=\"https://colab.research.google.com/github/srujaan/DL-with-PyTorch/blob/master/representing_img_data.ipynb\" target=\"_parent\"><img src=\"https://colab.research.google.com/assets/colab-badge.svg\" alt=\"Open In Colab\"/></a>"
      ]
    },
    {
      "cell_type": "code",
      "metadata": {
        "id": "OmZdgWAvUudw"
      },
      "source": [
        "import torch\n",
        "import imageio\n",
        "import os"
      ],
      "execution_count": 3,
      "outputs": []
    },
    {
      "cell_type": "code",
      "metadata": {
        "id": "PvZbQmTmUz58"
      },
      "source": [
        "batch_size = 3\n",
        "batch = torch.zeros(batch_size, 3, 256, 256, dtype=torch.uint8)"
      ],
      "execution_count": 2,
      "outputs": []
    },
    {
      "cell_type": "code",
      "metadata": {
        "colab": {
          "base_uri": "https://localhost:8080/"
        },
        "id": "8b7BpFxmVF6l",
        "outputId": "beced731-7cc5-49aa-ffd1-be2ab7cd679e"
      },
      "source": [
        "data_dir = '/content/cat_images'\n",
        "filenames = [name for name in os.listdir(data_dir)\n",
        "              if os.path.splitext(name)[-1] == '.png']\n",
        "filenames"
      ],
      "execution_count": 9,
      "outputs": [
        {
          "output_type": "execute_result",
          "data": {
            "text/plain": [
              "['cat2.png', 'cat3.png', 'cat1.png']"
            ]
          },
          "metadata": {
            "tags": []
          },
          "execution_count": 9
        }
      ]
    },
    {
      "cell_type": "code",
      "metadata": {
        "id": "V98T_wgoYTdn"
      },
      "source": [
        "for i, filename in enumerate(filenames):\n",
        "  img_arr = imageio.imread(os.path.join(data_dir, filename))\n",
        "  img_t = torch.from_numpy(img_arr)\n",
        "  img_t = img_t.permute(2, 0, 1)\n",
        "  img_t = img_t[:3] \n",
        "  # Here we keep only the first three channels.\n",
        "  # Sometimes images also have an alpha channel\n",
        "  # indicating transparency, but our network only wants RGB input.\n",
        "  batch[i] = img_t"
      ],
      "execution_count": 17,
      "outputs": []
    },
    {
      "cell_type": "markdown",
      "metadata": {
        "id": "_iNsj5N-kFM4"
      },
      "source": [
        "#### Normalizing the data"
      ]
    },
    {
      "cell_type": "code",
      "metadata": {
        "id": "zgD-uZlZkK1k"
      },
      "source": [
        "# One possibility is to just divide the values \n",
        "#of the pixels by 255 (the maximum representable number in 8-bit unsigned):\n",
        "batch = batch.float()\n",
        "batch /= 255.0"
      ],
      "execution_count": 18,
      "outputs": []
    },
    {
      "cell_type": "code",
      "metadata": {
        "id": "aYws-lfjkb3U"
      },
      "source": [
        "# Another possibility is to compute the mean and standard deviation of the input data\n",
        "# and scale it so that the output has zero mean and unit standard deviation across each\n",
        "# channel:\n",
        "n_channels = batch.shape[1]\n",
        "for c in range(n_channels):\n",
        "  mean = torch.mean(batch[:, c])\n",
        "  std = torch.std(batch[:, c])\n",
        "  batch[:, c] = (batch[:, c] - mean) / std"
      ],
      "execution_count": 22,
      "outputs": []
    },
    {
      "cell_type": "code",
      "metadata": {
        "id": "ELPl4_9mqpxq"
      },
      "source": [
        ""
      ],
      "execution_count": null,
      "outputs": []
    }
  ]
}