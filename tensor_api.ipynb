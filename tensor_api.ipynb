{
  "nbformat": 4,
  "nbformat_minor": 0,
  "metadata": {
    "colab": {
      "name": "tensor-api.ipynb",
      "provenance": [],
      "authorship_tag": "ABX9TyOgE4kjQfkyt1qHzEWFoO6j",
      "include_colab_link": true
    },
    "kernelspec": {
      "name": "python3",
      "display_name": "Python 3"
    }
  },
  "cells": [
    {
      "cell_type": "markdown",
      "metadata": {
        "id": "view-in-github",
        "colab_type": "text"
      },
      "source": [
        "<a href=\"https://colab.research.google.com/github/srujaan/DL-with-PyTorch/blob/master/tensor_api.ipynb\" target=\"_parent\"><img src=\"https://colab.research.google.com/assets/colab-badge.svg\" alt=\"Open In Colab\"/></a>"
      ]
    },
    {
      "cell_type": "code",
      "metadata": {
        "id": "6jTstlGKgXHF"
      },
      "source": [
        "# random numbers to form a uniform distribution\n",
        "import torch"
      ],
      "execution_count": 1,
      "outputs": []
    },
    {
      "cell_type": "code",
      "metadata": {
        "colab": {
          "base_uri": "https://localhost:8080/"
        },
        "id": "ms2iaYb0gkN5",
        "outputId": "c69e0d4e-1952-4d9d-ab15-77818822f418"
      },
      "source": [
        "val = torch.rand(4, dtype=torch.float16)\n",
        "val"
      ],
      "execution_count": 20,
      "outputs": [
        {
          "output_type": "execute_result",
          "data": {
            "text/plain": [
              "tensor([0.4561, 0.7979, 0.2607, 0.8745], dtype=torch.float16)"
            ]
          },
          "metadata": {
            "tags": []
          },
          "execution_count": 20
        }
      ]
    },
    {
      "cell_type": "code",
      "metadata": {
        "colab": {
          "base_uri": "https://localhost:8080/"
        },
        "id": "66TIUoxkg8L3",
        "outputId": "e16ae9bd-5eb1-4d5d-87c1-62a63789a02c"
      },
      "source": [
        "torch.rand_like(val, dtype=torch.float32)"
      ],
      "execution_count": 19,
      "outputs": [
        {
          "output_type": "execute_result",
          "data": {
            "text/plain": [
              "tensor([0.9643, 0.9599, 0.0804, 0.7399])"
            ]
          },
          "metadata": {
            "tags": []
          },
          "execution_count": 19
        }
      ]
    },
    {
      "cell_type": "code",
      "metadata": {
        "colab": {
          "base_uri": "https://localhost:8080/"
        },
        "id": "-x1YTVUZjeCq",
        "outputId": "37099a20-1cea-4090-d225-1cc59d66107e"
      },
      "source": [
        "randn = torch.randn(4)\n",
        "randn"
      ],
      "execution_count": 30,
      "outputs": [
        {
          "output_type": "execute_result",
          "data": {
            "text/plain": [
              "tensor([-0.5191, -0.2991,  0.6780,  0.2831])"
            ]
          },
          "metadata": {
            "tags": []
          },
          "execution_count": 30
        }
      ]
    },
    {
      "cell_type": "code",
      "metadata": {
        "colab": {
          "base_uri": "https://localhost:8080/"
        },
        "id": "99FbD0A9j58K",
        "outputId": "eff5aff0-afd9-47ee-956b-5a75788603af"
      },
      "source": [
        "randn.cos_()"
      ],
      "execution_count": 32,
      "outputs": [
        {
          "output_type": "execute_result",
          "data": {
            "text/plain": [
              "tensor([0.8682, 0.9556, 0.7788, 0.9602])"
            ]
          },
          "metadata": {
            "tags": []
          },
          "execution_count": 32
        }
      ]
    },
    {
      "cell_type": "code",
      "metadata": {
        "colab": {
          "base_uri": "https://localhost:8080/"
        },
        "id": "fyQatc7Vj_Np",
        "outputId": "c963a58c-e5cd-4357-9692-a14c37f1ca84"
      },
      "source": [
        "val.mean()"
      ],
      "execution_count": 25,
      "outputs": [
        {
          "output_type": "execute_result",
          "data": {
            "text/plain": [
              "tensor(0.5972, dtype=torch.float16)"
            ]
          },
          "metadata": {
            "tags": []
          },
          "execution_count": 25
        }
      ]
    },
    {
      "cell_type": "code",
      "metadata": {
        "colab": {
          "base_uri": "https://localhost:8080/"
        },
        "id": "bbdyN0WSkCud",
        "outputId": "fc8254c5-3f6b-479f-a52d-9081b5b72d54"
      },
      "source": [
        "randint = torch.randint(3, 6, (4,2), dtype=torch.float32)\n",
        "randint"
      ],
      "execution_count": 37,
      "outputs": [
        {
          "output_type": "execute_result",
          "data": {
            "text/plain": [
              "tensor([[4., 3.],\n",
              "        [5., 4.],\n",
              "        [4., 5.],\n",
              "        [4., 3.]])"
            ]
          },
          "metadata": {
            "tags": []
          },
          "execution_count": 37
        }
      ]
    },
    {
      "cell_type": "code",
      "metadata": {
        "id": "T1jw4IsLk6om"
      },
      "source": [
        ""
      ],
      "execution_count": null,
      "outputs": []
    }
  ]
}