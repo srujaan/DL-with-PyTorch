{
  "nbformat": 4,
  "nbformat_minor": 0,
  "metadata": {
    "colab": {
      "name": "tensor-api.ipynb",
      "provenance": [],
      "authorship_tag": "ABX9TyPdrzzVJ0sWIEjBsmdDUoJ0",
      "include_colab_link": true
    },
    "kernelspec": {
      "name": "python3",
      "display_name": "Python 3"
    }
  },
  "cells": [
    {
      "cell_type": "markdown",
      "metadata": {
        "id": "view-in-github",
        "colab_type": "text"
      },
      "source": [
        "<a href=\"https://colab.research.google.com/github/srujaan/DL-with-PyTorch/blob/master/tensor_api.ipynb\" target=\"_parent\"><img src=\"https://colab.research.google.com/assets/colab-badge.svg\" alt=\"Open In Colab\"/></a>"
      ]
    },
    {
      "cell_type": "code",
      "metadata": {
        "id": "6jTstlGKgXHF"
      },
      "source": [
        "# random numbers to form a uniform distribution\n",
        "import torch"
      ],
      "execution_count": 1,
      "outputs": []
    },
    {
      "cell_type": "code",
      "metadata": {
        "colab": {
          "base_uri": "https://localhost:8080/"
        },
        "id": "ms2iaYb0gkN5",
        "outputId": "8cdef364-38eb-48fd-cb90-3a3c6727b708"
      },
      "source": [
        "val = torch.rand(4, dtype=torch.float16)\n",
        "val"
      ],
      "execution_count": 2,
      "outputs": [
        {
          "output_type": "execute_result",
          "data": {
            "text/plain": [
              "tensor([0.5317, 0.7798, 0.2090, 0.0723], dtype=torch.float16)"
            ]
          },
          "metadata": {
            "tags": []
          },
          "execution_count": 2
        }
      ]
    },
    {
      "cell_type": "code",
      "metadata": {
        "colab": {
          "base_uri": "https://localhost:8080/"
        },
        "id": "66TIUoxkg8L3",
        "outputId": "0b104e07-031b-486a-fe94-6f9daca25294"
      },
      "source": [
        "torch.rand_like(val, dtype=torch.float32)"
      ],
      "execution_count": 3,
      "outputs": [
        {
          "output_type": "execute_result",
          "data": {
            "text/plain": [
              "tensor([0.6688, 0.7322, 0.9744, 0.7461])"
            ]
          },
          "metadata": {
            "tags": []
          },
          "execution_count": 3
        }
      ]
    },
    {
      "cell_type": "code",
      "metadata": {
        "colab": {
          "base_uri": "https://localhost:8080/"
        },
        "id": "-x1YTVUZjeCq",
        "outputId": "e51a1d67-50ae-4f3c-d722-1b84346163e1"
      },
      "source": [
        "randn = torch.randn(4)\n",
        "randn"
      ],
      "execution_count": 4,
      "outputs": [
        {
          "output_type": "execute_result",
          "data": {
            "text/plain": [
              "tensor([-0.2612, -1.5451, -0.4013, -1.0165])"
            ]
          },
          "metadata": {
            "tags": []
          },
          "execution_count": 4
        }
      ]
    },
    {
      "cell_type": "code",
      "metadata": {
        "colab": {
          "base_uri": "https://localhost:8080/"
        },
        "id": "99FbD0A9j58K",
        "outputId": "cac221b3-b5db-4b63-8bde-26f677144bc4"
      },
      "source": [
        "randn.cos_()"
      ],
      "execution_count": 5,
      "outputs": [
        {
          "output_type": "execute_result",
          "data": {
            "text/plain": [
              "tensor([0.9661, 0.0257, 0.9206, 0.5263])"
            ]
          },
          "metadata": {
            "tags": []
          },
          "execution_count": 5
        }
      ]
    },
    {
      "cell_type": "code",
      "metadata": {
        "colab": {
          "base_uri": "https://localhost:8080/"
        },
        "id": "fyQatc7Vj_Np",
        "outputId": "c24789fc-4055-4de9-e778-eafa819c62e5"
      },
      "source": [
        "val.mean()"
      ],
      "execution_count": 6,
      "outputs": [
        {
          "output_type": "execute_result",
          "data": {
            "text/plain": [
              "tensor(0.3982, dtype=torch.float16)"
            ]
          },
          "metadata": {
            "tags": []
          },
          "execution_count": 6
        }
      ]
    },
    {
      "cell_type": "code",
      "metadata": {
        "colab": {
          "base_uri": "https://localhost:8080/"
        },
        "id": "bbdyN0WSkCud",
        "outputId": "c2b04643-ab6d-4526-d97d-0780c619352d"
      },
      "source": [
        "randint = torch.randint(3, 6, (4,2), dtype=torch.float32)\n",
        "randint"
      ],
      "execution_count": 7,
      "outputs": [
        {
          "output_type": "execute_result",
          "data": {
            "text/plain": [
              "tensor([[3., 5.],\n",
              "        [4., 5.],\n",
              "        [4., 4.],\n",
              "        [4., 3.]])"
            ]
          },
          "metadata": {
            "tags": []
          },
          "execution_count": 7
        }
      ]
    },
    {
      "cell_type": "markdown",
      "metadata": {
        "id": "T1jw4IsLk6om"
      },
      "source": [
        "# Create Ops"
      ]
    },
    {
      "cell_type": "code",
      "metadata": {
        "colab": {
          "base_uri": "https://localhost:8080/"
        },
        "id": "w2hvNXOeY4dI",
        "outputId": "cb28ed73-4a22-4161-aa8b-491f7b7f406b"
      },
      "source": [
        "# arange\n",
        "torch.arange(0, 10, 2)"
      ],
      "execution_count": 9,
      "outputs": [
        {
          "output_type": "execute_result",
          "data": {
            "text/plain": [
              "tensor([0, 2, 4, 6, 8])"
            ]
          },
          "metadata": {
            "tags": []
          },
          "execution_count": 9
        }
      ]
    },
    {
      "cell_type": "code",
      "metadata": {
        "colab": {
          "base_uri": "https://localhost:8080/"
        },
        "id": "iSylyZ2yZvtk",
        "outputId": "b414e8fe-c6f3-41e3-fbd7-19645867f5a7"
      },
      "source": [
        "torch.arange(5)"
      ],
      "execution_count": 10,
      "outputs": [
        {
          "output_type": "execute_result",
          "data": {
            "text/plain": [
              "tensor([0, 1, 2, 3, 4])"
            ]
          },
          "metadata": {
            "tags": []
          },
          "execution_count": 10
        }
      ]
    },
    {
      "cell_type": "code",
      "metadata": {
        "colab": {
          "base_uri": "https://localhost:8080/"
        },
        "id": "qnn7JDXQZ9rD",
        "outputId": "6af1d5e0-7327-4b26-e869-562147dd77c3"
      },
      "source": [
        "torch.quantize_per_tensor(randint, 0.1, 10, torch.quint8)"
      ],
      "execution_count": 11,
      "outputs": [
        {
          "output_type": "execute_result",
          "data": {
            "text/plain": [
              "tensor([[3., 5.],\n",
              "        [4., 5.],\n",
              "        [4., 4.],\n",
              "        [4., 3.]], size=(4, 2), dtype=torch.quint8,\n",
              "       quantization_scheme=torch.per_tensor_affine, scale=0.1, zero_point=10)"
            ]
          },
          "metadata": {
            "tags": []
          },
          "execution_count": 11
        }
      ]
    },
    {
      "cell_type": "code",
      "metadata": {
        "colab": {
          "base_uri": "https://localhost:8080/"
        },
        "id": "yTlEZ9HEbFfm",
        "outputId": "2252198a-8ac8-46cb-8216-54e07e69ca05"
      },
      "source": [
        "torch.eye(3)"
      ],
      "execution_count": 18,
      "outputs": [
        {
          "output_type": "execute_result",
          "data": {
            "text/plain": [
              "tensor([[1., 0., 0.],\n",
              "        [0., 1., 0.],\n",
              "        [0., 0., 1.]])"
            ]
          },
          "metadata": {
            "tags": []
          },
          "execution_count": 18
        }
      ]
    },
    {
      "cell_type": "code",
      "metadata": {
        "colab": {
          "base_uri": "https://localhost:8080/"
        },
        "id": "zNt0JATkdI4p",
        "outputId": "40d06511-03f5-42f5-d50e-d96155ce3e1b"
      },
      "source": [
        "torch.complex(torch.tensor([1., 2, 3]), torch.tensor([4., 5, 6]))"
      ],
      "execution_count": 20,
      "outputs": [
        {
          "output_type": "execute_result",
          "data": {
            "text/plain": [
              "tensor([1.+4.j, 2.+5.j, 3.+6.j])"
            ]
          },
          "metadata": {
            "tags": []
          },
          "execution_count": 20
        }
      ]
    },
    {
      "cell_type": "markdown",
      "metadata": {
        "id": "k5jvc7n0eCci"
      },
      "source": [
        "# Indexing, Slicing, Joining, Mutating Ops"
      ]
    },
    {
      "cell_type": "code",
      "metadata": {
        "colab": {
          "base_uri": "https://localhost:8080/"
        },
        "id": "o-0oueDyfQUs",
        "outputId": "f076762c-4a27-4889-916f-1d7623c5cc6b"
      },
      "source": [
        "x = torch.randn(2,3)\n",
        "torch.cat((x,x), 0)"
      ],
      "execution_count": 26,
      "outputs": [
        {
          "output_type": "execute_result",
          "data": {
            "text/plain": [
              "tensor([[-0.4872,  0.9073, -0.6407],\n",
              "        [-0.9005,  0.1668, -0.1901],\n",
              "        [-0.4872,  0.9073, -0.6407],\n",
              "        [-0.9005,  0.1668, -0.1901]])"
            ]
          },
          "metadata": {
            "tags": []
          },
          "execution_count": 26
        }
      ]
    },
    {
      "cell_type": "code",
      "metadata": {
        "colab": {
          "base_uri": "https://localhost:8080/"
        },
        "id": "-aQd8_Vmfm9X",
        "outputId": "c6eca43f-458d-4e3b-d0d3-17c602e7c7b8"
      },
      "source": [
        "torch.cat((x,x), 1)"
      ],
      "execution_count": 29,
      "outputs": [
        {
          "output_type": "execute_result",
          "data": {
            "text/plain": [
              "tensor([[-0.4872,  0.9073, -0.6407, -0.4872,  0.9073, -0.6407],\n",
              "        [-0.9005,  0.1668, -0.1901, -0.9005,  0.1668, -0.1901]])"
            ]
          },
          "metadata": {
            "tags": []
          },
          "execution_count": 29
        }
      ]
    },
    {
      "cell_type": "code",
      "metadata": {
        "colab": {
          "base_uri": "https://localhost:8080/"
        },
        "id": "XIeIVYdngOD0",
        "outputId": "87d82cc1-33f4-4dfe-b90c-ef78ce83ae7f"
      },
      "source": [
        "torch.hstack((x,x))"
      ],
      "execution_count": 30,
      "outputs": [
        {
          "output_type": "execute_result",
          "data": {
            "text/plain": [
              "tensor([[-0.4872,  0.9073, -0.6407, -0.4872,  0.9073, -0.6407],\n",
              "        [-0.9005,  0.1668, -0.1901, -0.9005,  0.1668, -0.1901]])"
            ]
          },
          "metadata": {
            "tags": []
          },
          "execution_count": 30
        }
      ]
    },
    {
      "cell_type": "code",
      "metadata": {
        "colab": {
          "base_uri": "https://localhost:8080/"
        },
        "id": "CFe8JPs4g9DP",
        "outputId": "86be77bd-5c71-4d7c-99f8-41eff90b54be"
      },
      "source": [
        "a = torch.arange(4.)\n"
      ],
      "execution_count": 32,
      "outputs": [
        {
          "output_type": "execute_result",
          "data": {
            "text/plain": [
              "tensor([0., 1., 2., 3.])"
            ]
          },
          "metadata": {
            "tags": []
          },
          "execution_count": 32
        }
      ]
    },
    {
      "cell_type": "code",
      "metadata": {
        "colab": {
          "base_uri": "https://localhost:8080/"
        },
        "id": "NkDNPT4EkRnL",
        "outputId": "7bbad452-7a0c-4d74-e22e-3c8ab2726564"
      },
      "source": [
        "torch.reshape(a, (2,2))"
      ],
      "execution_count": 33,
      "outputs": [
        {
          "output_type": "execute_result",
          "data": {
            "text/plain": [
              "tensor([[0., 1.],\n",
              "        [2., 3.]])"
            ]
          },
          "metadata": {
            "tags": []
          },
          "execution_count": 33
        }
      ]
    },
    {
      "cell_type": "code",
      "metadata": {
        "colab": {
          "base_uri": "https://localhost:8080/"
        },
        "id": "KKHluPl9ke1m",
        "outputId": "60aed883-8b29-449d-c06c-91a9539b2f67"
      },
      "source": [
        "b = torch.tensor([[0, 1], [2, 3]])\n",
        "torch.reshape(b, (-1,))\n"
      ],
      "execution_count": 39,
      "outputs": [
        {
          "output_type": "execute_result",
          "data": {
            "text/plain": [
              "tensor([0, 1, 2, 3])"
            ]
          },
          "metadata": {
            "tags": []
          },
          "execution_count": 39
        }
      ]
    },
    {
      "cell_type": "code",
      "metadata": {
        "colab": {
          "base_uri": "https://localhost:8080/"
        },
        "id": "OOYikaTKku9G",
        "outputId": "46c2a376-3759-4b65-b7cf-7c60f1d2cf30"
      },
      "source": [
        "y = torch.zeros(2, 1, 2, 1, 2)\n",
        "z = torch.squeeze(y)\n",
        "o = torch.squeeze(y, 1)\n",
        "print(y.size())\n",
        "print(z.size())\n",
        "print(o.size())"
      ],
      "execution_count": 47,
      "outputs": [
        {
          "output_type": "stream",
          "text": [
            "torch.Size([2, 1, 2, 1, 2])\n",
            "torch.Size([2, 2, 2])\n",
            "torch.Size([2, 2, 1, 2])\n"
          ],
          "name": "stdout"
        }
      ]
    },
    {
      "cell_type": "code",
      "metadata": {
        "colab": {
          "base_uri": "https://localhost:8080/"
        },
        "id": "uds2OQoeneht",
        "outputId": "2c3f0084-18bb-421d-b187-3ee063a1b710"
      },
      "source": [
        "rand_val = torch.randn( 2, 3)\n",
        "rand_val"
      ],
      "execution_count": 72,
      "outputs": [
        {
          "output_type": "execute_result",
          "data": {
            "text/plain": [
              "tensor([[-0.9962,  1.3811, -1.1322],\n",
              "        [-1.3230,  1.8599, -1.0018]])"
            ]
          },
          "metadata": {
            "tags": []
          },
          "execution_count": 72
        }
      ]
    },
    {
      "cell_type": "code",
      "metadata": {
        "colab": {
          "base_uri": "https://localhost:8080/"
        },
        "id": "BauIEzAyph2q",
        "outputId": "fa1ce749-f8b3-4792-ff39-1e296178159e"
      },
      "source": [
        "torch.transpose(rand_val, 0, 1)"
      ],
      "execution_count": 77,
      "outputs": [
        {
          "output_type": "execute_result",
          "data": {
            "text/plain": [
              "tensor([[-0.9962, -1.3230],\n",
              "        [ 1.3811,  1.8599],\n",
              "        [-1.1322, -1.0018]])"
            ]
          },
          "metadata": {
            "tags": []
          },
          "execution_count": 77
        }
      ]
    },
    {
      "cell_type": "code",
      "metadata": {
        "colab": {
          "base_uri": "https://localhost:8080/"
        },
        "id": "13t8twc5qw_4",
        "outputId": "dceab3e8-3f43-4f71-b2e4-c031070dd964"
      },
      "source": [
        "t1 = torch.tensor([1, 2, 3, 4])\n",
        "print(torch.unsqueeze(t1, 0))\n",
        "print(torch.unsqueeze(t1, 1))"
      ],
      "execution_count": 80,
      "outputs": [
        {
          "output_type": "stream",
          "text": [
            "tensor([[1, 2, 3, 4]])\n",
            "tensor([[1],\n",
            "        [2],\n",
            "        [3],\n",
            "        [4]])\n"
          ],
          "name": "stdout"
        }
      ]
    },
    {
      "cell_type": "code",
      "metadata": {
        "id": "s27uh_cwrVt8"
      },
      "source": [
        ""
      ],
      "execution_count": null,
      "outputs": []
    }
  ]
}