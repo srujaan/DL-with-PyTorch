{
  "nbformat": 4,
  "nbformat_minor": 0,
  "metadata": {
    "colab": {
      "name": "tensor-api.ipynb",
      "provenance": [],
      "collapsed_sections": [],
      "authorship_tag": "ABX9TyPOIAmPmbhDF11/3dzE7+qG",
      "include_colab_link": true
    },
    "kernelspec": {
      "name": "python3",
      "display_name": "Python 3"
    }
  },
  "cells": [
    {
      "cell_type": "markdown",
      "metadata": {
        "id": "view-in-github",
        "colab_type": "text"
      },
      "source": [
        "<a href=\"https://colab.research.google.com/github/srujaan/DL-with-PyTorch/blob/master/tensor_api.ipynb\" target=\"_parent\"><img src=\"https://colab.research.google.com/assets/colab-badge.svg\" alt=\"Open In Colab\"/></a>"
      ]
    },
    {
      "cell_type": "code",
      "metadata": {
        "id": "6jTstlGKgXHF"
      },
      "source": [
        "# random numbers to form a uniform distribution\n",
        "import torch"
      ],
      "execution_count": 1,
      "outputs": []
    },
    {
      "cell_type": "code",
      "metadata": {
        "colab": {
          "base_uri": "https://localhost:8080/"
        },
        "id": "ms2iaYb0gkN5",
        "outputId": "4dd8e906-a780-4e43-a0d1-b3a7580bdcce"
      },
      "source": [
        "val = torch.rand(4, dtype=torch.float16)\n",
        "val"
      ],
      "execution_count": 2,
      "outputs": [
        {
          "output_type": "execute_result",
          "data": {
            "text/plain": [
              "tensor([0.1382, 0.8140, 0.9106, 0.1772], dtype=torch.float16)"
            ]
          },
          "metadata": {
            "tags": []
          },
          "execution_count": 2
        }
      ]
    },
    {
      "cell_type": "code",
      "metadata": {
        "colab": {
          "base_uri": "https://localhost:8080/"
        },
        "id": "66TIUoxkg8L3",
        "outputId": "c3d6d007-c9e3-4765-ba38-5106803ba9bc"
      },
      "source": [
        "torch.rand_like(val, dtype=torch.float32)"
      ],
      "execution_count": 3,
      "outputs": [
        {
          "output_type": "execute_result",
          "data": {
            "text/plain": [
              "tensor([0.2763, 0.1247, 0.7684, 0.1597])"
            ]
          },
          "metadata": {
            "tags": []
          },
          "execution_count": 3
        }
      ]
    },
    {
      "cell_type": "code",
      "metadata": {
        "colab": {
          "base_uri": "https://localhost:8080/"
        },
        "id": "-x1YTVUZjeCq",
        "outputId": "553db337-a075-48bc-8c41-9d91f86b0e0d"
      },
      "source": [
        "randn = torch.randn(4)\n",
        "randn"
      ],
      "execution_count": 4,
      "outputs": [
        {
          "output_type": "execute_result",
          "data": {
            "text/plain": [
              "tensor([ 0.0989, -0.3979, -0.5258,  2.4436])"
            ]
          },
          "metadata": {
            "tags": []
          },
          "execution_count": 4
        }
      ]
    },
    {
      "cell_type": "code",
      "metadata": {
        "colab": {
          "base_uri": "https://localhost:8080/"
        },
        "id": "99FbD0A9j58K",
        "outputId": "550164f5-5664-42ec-bf9a-860a0d21b4da"
      },
      "source": [
        "randn.cos_()"
      ],
      "execution_count": 5,
      "outputs": [
        {
          "output_type": "execute_result",
          "data": {
            "text/plain": [
              "tensor([ 0.9951,  0.9219,  0.8649, -0.7662])"
            ]
          },
          "metadata": {
            "tags": []
          },
          "execution_count": 5
        }
      ]
    },
    {
      "cell_type": "code",
      "metadata": {
        "colab": {
          "base_uri": "https://localhost:8080/"
        },
        "id": "fyQatc7Vj_Np",
        "outputId": "d8348111-5d4d-410b-f680-e8a099a62a92"
      },
      "source": [
        "val.mean()"
      ],
      "execution_count": 6,
      "outputs": [
        {
          "output_type": "execute_result",
          "data": {
            "text/plain": [
              "tensor(0.5103, dtype=torch.float16)"
            ]
          },
          "metadata": {
            "tags": []
          },
          "execution_count": 6
        }
      ]
    },
    {
      "cell_type": "code",
      "metadata": {
        "colab": {
          "base_uri": "https://localhost:8080/"
        },
        "id": "bbdyN0WSkCud",
        "outputId": "343a1de7-db3d-4fdd-9f3b-5307a7104168"
      },
      "source": [
        "randint = torch.randint(3, 6, (4,2), dtype=torch.float32)\n",
        "randint"
      ],
      "execution_count": 7,
      "outputs": [
        {
          "output_type": "execute_result",
          "data": {
            "text/plain": [
              "tensor([[5., 5.],\n",
              "        [5., 5.],\n",
              "        [4., 4.],\n",
              "        [4., 4.]])"
            ]
          },
          "metadata": {
            "tags": []
          },
          "execution_count": 7
        }
      ]
    },
    {
      "cell_type": "markdown",
      "metadata": {
        "id": "T1jw4IsLk6om"
      },
      "source": [
        "# Create Ops"
      ]
    },
    {
      "cell_type": "code",
      "metadata": {
        "colab": {
          "base_uri": "https://localhost:8080/"
        },
        "id": "w2hvNXOeY4dI",
        "outputId": "64f44f36-9c49-4995-8f1e-d698fc838dbf"
      },
      "source": [
        "# arange\n",
        "torch.arange(0, 10, 2)"
      ],
      "execution_count": 8,
      "outputs": [
        {
          "output_type": "execute_result",
          "data": {
            "text/plain": [
              "tensor([0, 2, 4, 6, 8])"
            ]
          },
          "metadata": {
            "tags": []
          },
          "execution_count": 8
        }
      ]
    },
    {
      "cell_type": "code",
      "metadata": {
        "colab": {
          "base_uri": "https://localhost:8080/"
        },
        "id": "iSylyZ2yZvtk",
        "outputId": "048b25df-16ab-4836-99b9-0bb50c2e9ccc"
      },
      "source": [
        "torch.arange(5)"
      ],
      "execution_count": 9,
      "outputs": [
        {
          "output_type": "execute_result",
          "data": {
            "text/plain": [
              "tensor([0, 1, 2, 3, 4])"
            ]
          },
          "metadata": {
            "tags": []
          },
          "execution_count": 9
        }
      ]
    },
    {
      "cell_type": "code",
      "metadata": {
        "colab": {
          "base_uri": "https://localhost:8080/"
        },
        "id": "qnn7JDXQZ9rD",
        "outputId": "242f36eb-1635-4bd1-f190-239b6414c057"
      },
      "source": [
        "torch.quantize_per_tensor(randint, 0.1, 10, torch.quint8)"
      ],
      "execution_count": 10,
      "outputs": [
        {
          "output_type": "execute_result",
          "data": {
            "text/plain": [
              "tensor([[5., 5.],\n",
              "        [5., 5.],\n",
              "        [4., 4.],\n",
              "        [4., 4.]], size=(4, 2), dtype=torch.quint8,\n",
              "       quantization_scheme=torch.per_tensor_affine, scale=0.1, zero_point=10)"
            ]
          },
          "metadata": {
            "tags": []
          },
          "execution_count": 10
        }
      ]
    },
    {
      "cell_type": "code",
      "metadata": {
        "colab": {
          "base_uri": "https://localhost:8080/"
        },
        "id": "yTlEZ9HEbFfm",
        "outputId": "abce4988-6701-44ab-9102-b86092f4dc01"
      },
      "source": [
        "torch.eye(3)"
      ],
      "execution_count": 11,
      "outputs": [
        {
          "output_type": "execute_result",
          "data": {
            "text/plain": [
              "tensor([[1., 0., 0.],\n",
              "        [0., 1., 0.],\n",
              "        [0., 0., 1.]])"
            ]
          },
          "metadata": {
            "tags": []
          },
          "execution_count": 11
        }
      ]
    },
    {
      "cell_type": "code",
      "metadata": {
        "colab": {
          "base_uri": "https://localhost:8080/"
        },
        "id": "zNt0JATkdI4p",
        "outputId": "51900a0e-4f1d-4131-e121-7fed8192f33e"
      },
      "source": [
        "torch.complex(torch.tensor([1., 2, 3]), torch.tensor([4., 5, 6]))"
      ],
      "execution_count": 12,
      "outputs": [
        {
          "output_type": "execute_result",
          "data": {
            "text/plain": [
              "tensor([1.+4.j, 2.+5.j, 3.+6.j])"
            ]
          },
          "metadata": {
            "tags": []
          },
          "execution_count": 12
        }
      ]
    },
    {
      "cell_type": "markdown",
      "metadata": {
        "id": "k5jvc7n0eCci"
      },
      "source": [
        "# Indexing, Slicing, Joining, Mutating Ops"
      ]
    },
    {
      "cell_type": "code",
      "metadata": {
        "colab": {
          "base_uri": "https://localhost:8080/"
        },
        "id": "o-0oueDyfQUs",
        "outputId": "f0e3c389-4fd2-4207-88d1-233a8d8a3cc6"
      },
      "source": [
        "x = torch.randn(2,3)\n",
        "torch.cat((x,x), 0)"
      ],
      "execution_count": 13,
      "outputs": [
        {
          "output_type": "execute_result",
          "data": {
            "text/plain": [
              "tensor([[-0.7429,  0.6710,  0.8884],\n",
              "        [ 1.1195,  0.3199, -0.2783],\n",
              "        [-0.7429,  0.6710,  0.8884],\n",
              "        [ 1.1195,  0.3199, -0.2783]])"
            ]
          },
          "metadata": {
            "tags": []
          },
          "execution_count": 13
        }
      ]
    },
    {
      "cell_type": "code",
      "metadata": {
        "colab": {
          "base_uri": "https://localhost:8080/"
        },
        "id": "-aQd8_Vmfm9X",
        "outputId": "5b5af59a-39b5-4db0-c06b-ad2e12782853"
      },
      "source": [
        "torch.cat((x,x), 1)"
      ],
      "execution_count": 14,
      "outputs": [
        {
          "output_type": "execute_result",
          "data": {
            "text/plain": [
              "tensor([[-0.7429,  0.6710,  0.8884, -0.7429,  0.6710,  0.8884],\n",
              "        [ 1.1195,  0.3199, -0.2783,  1.1195,  0.3199, -0.2783]])"
            ]
          },
          "metadata": {
            "tags": []
          },
          "execution_count": 14
        }
      ]
    },
    {
      "cell_type": "code",
      "metadata": {
        "colab": {
          "base_uri": "https://localhost:8080/"
        },
        "id": "XIeIVYdngOD0",
        "outputId": "4cc7fcef-526f-4029-de51-916e886a53a8"
      },
      "source": [
        "torch.hstack((x,x))"
      ],
      "execution_count": 15,
      "outputs": [
        {
          "output_type": "execute_result",
          "data": {
            "text/plain": [
              "tensor([[-0.7429,  0.6710,  0.8884, -0.7429,  0.6710,  0.8884],\n",
              "        [ 1.1195,  0.3199, -0.2783,  1.1195,  0.3199, -0.2783]])"
            ]
          },
          "metadata": {
            "tags": []
          },
          "execution_count": 15
        }
      ]
    },
    {
      "cell_type": "code",
      "metadata": {
        "id": "CFe8JPs4g9DP"
      },
      "source": [
        "a = torch.arange(4.)\n"
      ],
      "execution_count": 16,
      "outputs": []
    },
    {
      "cell_type": "code",
      "metadata": {
        "colab": {
          "base_uri": "https://localhost:8080/"
        },
        "id": "NkDNPT4EkRnL",
        "outputId": "064014c8-e87f-40aa-fc2f-87014b88ed2c"
      },
      "source": [
        "torch.reshape(a, (2,2))"
      ],
      "execution_count": 17,
      "outputs": [
        {
          "output_type": "execute_result",
          "data": {
            "text/plain": [
              "tensor([[0., 1.],\n",
              "        [2., 3.]])"
            ]
          },
          "metadata": {
            "tags": []
          },
          "execution_count": 17
        }
      ]
    },
    {
      "cell_type": "code",
      "metadata": {
        "colab": {
          "base_uri": "https://localhost:8080/"
        },
        "id": "KKHluPl9ke1m",
        "outputId": "e2c7decf-6be3-4f4b-a518-596b91b4e1bd"
      },
      "source": [
        "b = torch.tensor([[0, 1], [2, 3]])\n",
        "torch.reshape(b, (-1,))\n"
      ],
      "execution_count": 18,
      "outputs": [
        {
          "output_type": "execute_result",
          "data": {
            "text/plain": [
              "tensor([0, 1, 2, 3])"
            ]
          },
          "metadata": {
            "tags": []
          },
          "execution_count": 18
        }
      ]
    },
    {
      "cell_type": "code",
      "metadata": {
        "colab": {
          "base_uri": "https://localhost:8080/"
        },
        "id": "OOYikaTKku9G",
        "outputId": "90a595db-730b-4824-efb5-30397e1e1fdb"
      },
      "source": [
        "y = torch.zeros(2, 1, 2, 1, 2)\n",
        "z = torch.squeeze(y)\n",
        "o = torch.squeeze(y, 1)\n",
        "print(y.size())\n",
        "print(z.size())\n",
        "print(o.size())"
      ],
      "execution_count": 19,
      "outputs": [
        {
          "output_type": "stream",
          "text": [
            "torch.Size([2, 1, 2, 1, 2])\n",
            "torch.Size([2, 2, 2])\n",
            "torch.Size([2, 2, 1, 2])\n"
          ],
          "name": "stdout"
        }
      ]
    },
    {
      "cell_type": "code",
      "metadata": {
        "colab": {
          "base_uri": "https://localhost:8080/"
        },
        "id": "uds2OQoeneht",
        "outputId": "56020580-fd00-4992-a26e-c1fc50449d43"
      },
      "source": [
        "rand_val = torch.randn( 2, 3)\n",
        "rand_val"
      ],
      "execution_count": 20,
      "outputs": [
        {
          "output_type": "execute_result",
          "data": {
            "text/plain": [
              "tensor([[-0.3948,  1.3153,  1.2059],\n",
              "        [-0.6404,  1.6134, -0.8916]])"
            ]
          },
          "metadata": {
            "tags": []
          },
          "execution_count": 20
        }
      ]
    },
    {
      "cell_type": "code",
      "metadata": {
        "colab": {
          "base_uri": "https://localhost:8080/"
        },
        "id": "BauIEzAyph2q",
        "outputId": "482f6710-8e34-4306-e489-cea400d4b448"
      },
      "source": [
        "torch.transpose(rand_val, 0, 1)"
      ],
      "execution_count": 21,
      "outputs": [
        {
          "output_type": "execute_result",
          "data": {
            "text/plain": [
              "tensor([[-0.3948, -0.6404],\n",
              "        [ 1.3153,  1.6134],\n",
              "        [ 1.2059, -0.8916]])"
            ]
          },
          "metadata": {
            "tags": []
          },
          "execution_count": 21
        }
      ]
    },
    {
      "cell_type": "code",
      "metadata": {
        "colab": {
          "base_uri": "https://localhost:8080/"
        },
        "id": "13t8twc5qw_4",
        "outputId": "390acdbb-bd59-45dc-d33f-5e5e9169413a"
      },
      "source": [
        "t1 = torch.tensor([1, 2, 3, 4])\n",
        "print(torch.unsqueeze(t1, 0))\n",
        "print(torch.unsqueeze(t1, 1))"
      ],
      "execution_count": 22,
      "outputs": [
        {
          "output_type": "stream",
          "text": [
            "tensor([[1, 2, 3, 4]])\n",
            "tensor([[1],\n",
            "        [2],\n",
            "        [3],\n",
            "        [4]])\n"
          ],
          "name": "stdout"
        }
      ]
    },
    {
      "cell_type": "code",
      "metadata": {
        "id": "s27uh_cwrVt8"
      },
      "source": [
        "points = torch.tensor([[4.0, 1.0], [5.0, 3.0], [2.0, 1.0]])"
      ],
      "execution_count": 23,
      "outputs": []
    },
    {
      "cell_type": "code",
      "metadata": {
        "colab": {
          "base_uri": "https://localhost:8080/"
        },
        "id": "wPwFrDBK0hly",
        "outputId": "6eece607-c764-4a27-e95d-9b8f0c21bff0"
      },
      "source": [
        "second_point = points[1]\n",
        "second_point.storage_offset()"
      ],
      "execution_count": 24,
      "outputs": [
        {
          "output_type": "execute_result",
          "data": {
            "text/plain": [
              "2"
            ]
          },
          "metadata": {
            "tags": []
          },
          "execution_count": 24
        }
      ]
    },
    {
      "cell_type": "code",
      "metadata": {
        "colab": {
          "base_uri": "https://localhost:8080/"
        },
        "id": "momLxMP_0jYc",
        "outputId": "b0006bbb-efb5-4158-e03c-b5fbe50dbf5e"
      },
      "source": [
        "points.stride()"
      ],
      "execution_count": 25,
      "outputs": [
        {
          "output_type": "execute_result",
          "data": {
            "text/plain": [
              "(2, 1)"
            ]
          },
          "metadata": {
            "tags": []
          },
          "execution_count": 25
        }
      ]
    },
    {
      "cell_type": "code",
      "metadata": {
        "id": "fXKQWDiE1NEj",
        "colab": {
          "base_uri": "https://localhost:8080/"
        },
        "outputId": "26b54504-195a-4e1f-a10a-c9f154d1a064"
      },
      "source": [
        "points1 = points.clone().detach()\n",
        "points1"
      ],
      "execution_count": 26,
      "outputs": [
        {
          "output_type": "execute_result",
          "data": {
            "text/plain": [
              "tensor([[4., 1.],\n",
              "        [5., 3.],\n",
              "        [2., 1.]])"
            ]
          },
          "metadata": {
            "tags": []
          },
          "execution_count": 26
        }
      ]
    },
    {
      "cell_type": "code",
      "metadata": {
        "colab": {
          "base_uri": "https://localhost:8080/"
        },
        "id": "31jdj9qX7wh_",
        "outputId": "73919cc4-1959-4646-e900-a4518050afee"
      },
      "source": [
        "points1_t = points.t()\n",
        "points1_t"
      ],
      "execution_count": 27,
      "outputs": [
        {
          "output_type": "execute_result",
          "data": {
            "text/plain": [
              "tensor([[4., 5., 2.],\n",
              "        [1., 3., 1.]])"
            ]
          },
          "metadata": {
            "tags": []
          },
          "execution_count": 27
        }
      ]
    },
    {
      "cell_type": "code",
      "metadata": {
        "colab": {
          "base_uri": "https://localhost:8080/"
        },
        "id": "1dRAy9uh8Pb6",
        "outputId": "770bccbb-4d97-48d4-da33-3eddb82eec0c"
      },
      "source": [
        "# to verify two tensors share the same storage\n",
        "id(points1.storage()) == id(points1_t.storage())"
      ],
      "execution_count": 28,
      "outputs": [
        {
          "output_type": "execute_result",
          "data": {
            "text/plain": [
              "True"
            ]
          },
          "metadata": {
            "tags": []
          },
          "execution_count": 28
        }
      ]
    },
    {
      "cell_type": "code",
      "metadata": {
        "colab": {
          "base_uri": "https://localhost:8080/"
        },
        "id": "h8NCTgcq8lN0",
        "outputId": "90966571-e60d-47d2-f6c1-b4c6573c5a44"
      },
      "source": [
        "points1.stride()"
      ],
      "execution_count": 29,
      "outputs": [
        {
          "output_type": "execute_result",
          "data": {
            "text/plain": [
              "(2, 1)"
            ]
          },
          "metadata": {
            "tags": []
          },
          "execution_count": 29
        }
      ]
    },
    {
      "cell_type": "code",
      "metadata": {
        "colab": {
          "base_uri": "https://localhost:8080/"
        },
        "id": "c7Bd_0tS8xVV",
        "outputId": "3f2702ae-1e5a-4eb4-f79d-345c6084a89b"
      },
      "source": [
        "points1_t.stride()"
      ],
      "execution_count": 30,
      "outputs": [
        {
          "output_type": "execute_result",
          "data": {
            "text/plain": [
              "(1, 2)"
            ]
          },
          "metadata": {
            "tags": []
          },
          "execution_count": 30
        }
      ]
    },
    {
      "cell_type": "code",
      "metadata": {
        "colab": {
          "base_uri": "https://localhost:8080/"
        },
        "id": "MKjL0wxE81kG",
        "outputId": "97c52d03-e79c-4d50-fa5e-2fb6079e9c2b"
      },
      "source": [
        "#some_t = torch.ones(3, 4, 5)\n",
        "transpose_t = torch.transpose(some_t, 0, 2)\n",
        "some_t"
      ],
      "execution_count": 31,
      "outputs": [
        {
          "output_type": "execute_result",
          "data": {
            "text/plain": [
              "tensor([[[1., 1., 1., 1., 1.],\n",
              "         [1., 1., 1., 1., 1.],\n",
              "         [1., 1., 1., 1., 1.],\n",
              "         [1., 1., 1., 1., 1.]],\n",
              "\n",
              "        [[1., 1., 1., 1., 1.],\n",
              "         [1., 1., 1., 1., 1.],\n",
              "         [1., 1., 1., 1., 1.],\n",
              "         [1., 1., 1., 1., 1.]],\n",
              "\n",
              "        [[1., 1., 1., 1., 1.],\n",
              "         [1., 1., 1., 1., 1.],\n",
              "         [1., 1., 1., 1., 1.],\n",
              "         [1., 1., 1., 1., 1.]]])"
            ]
          },
          "metadata": {
            "tags": []
          },
          "execution_count": 31
        }
      ]
    },
    {
      "cell_type": "code",
      "metadata": {
        "colab": {
          "base_uri": "https://localhost:8080/"
        },
        "id": "w_w-HEP6EqJd",
        "outputId": "626e34cf-59aa-4111-918e-5f297166f590"
      },
      "source": [
        "print(transpose_t.shape)\n",
        "transpose_t"
      ],
      "execution_count": 32,
      "outputs": [
        {
          "output_type": "stream",
          "text": [
            "torch.Size([5, 4, 3])\n"
          ],
          "name": "stdout"
        },
        {
          "output_type": "execute_result",
          "data": {
            "text/plain": [
              "tensor([[[1., 1., 1.],\n",
              "         [1., 1., 1.],\n",
              "         [1., 1., 1.],\n",
              "         [1., 1., 1.]],\n",
              "\n",
              "        [[1., 1., 1.],\n",
              "         [1., 1., 1.],\n",
              "         [1., 1., 1.],\n",
              "         [1., 1., 1.]],\n",
              "\n",
              "        [[1., 1., 1.],\n",
              "         [1., 1., 1.],\n",
              "         [1., 1., 1.],\n",
              "         [1., 1., 1.]],\n",
              "\n",
              "        [[1., 1., 1.],\n",
              "         [1., 1., 1.],\n",
              "         [1., 1., 1.],\n",
              "         [1., 1., 1.]],\n",
              "\n",
              "        [[1., 1., 1.],\n",
              "         [1., 1., 1.],\n",
              "         [1., 1., 1.],\n",
              "         [1., 1., 1.]]])"
            ]
          },
          "metadata": {
            "tags": []
          },
          "execution_count": 32
        }
      ]
    },
    {
      "cell_type": "code",
      "metadata": {
        "colab": {
          "base_uri": "https://localhost:8080/"
        },
        "id": "b3KJ8OTKFnys",
        "outputId": "fcceaf77-d531-48d1-8a04-da5f62d3f286"
      },
      "source": [
        "a_list = torch.arange(9)\n",
        "print(a_list.size())\n",
        "print(a_list.storage_offset())\n",
        "a_list.stride()"
      ],
      "execution_count": 33,
      "outputs": [
        {
          "output_type": "stream",
          "text": [
            "torch.Size([9])\n",
            "0\n"
          ],
          "name": "stdout"
        },
        {
          "output_type": "execute_result",
          "data": {
            "text/plain": [
              "(1,)"
            ]
          },
          "metadata": {
            "tags": []
          },
          "execution_count": 33
        }
      ]
    },
    {
      "cell_type": "code",
      "metadata": {
        "id": "QnRkLPQHb_UK"
      },
      "source": [
        "x = torch.tensor([\n",
        "        [1,2,3],\n",
        "        [4,5,6]\n",
        "])"
      ],
      "execution_count": 34,
      "outputs": []
    },
    {
      "cell_type": "code",
      "metadata": {
        "colab": {
          "base_uri": "https://localhost:8080/"
        },
        "id": "EIgE-NDAOLs1",
        "outputId": "e662f9a5-c30a-4d1e-ed05-1484becf2d0c"
      },
      "source": [
        "x.shape"
      ],
      "execution_count": 35,
      "outputs": [
        {
          "output_type": "execute_result",
          "data": {
            "text/plain": [
              "torch.Size([2, 3])"
            ]
          },
          "metadata": {
            "tags": []
          },
          "execution_count": 35
        }
      ]
    },
    {
      "cell_type": "code",
      "metadata": {
        "colab": {
          "base_uri": "https://localhost:8080/"
        },
        "id": "HKvwg4y-ORye",
        "outputId": "a79b0ed7-1e0e-4eb9-b190-83a91f3015a8"
      },
      "source": [
        "torch.sum(x, dim=0)"
      ],
      "execution_count": 36,
      "outputs": [
        {
          "output_type": "execute_result",
          "data": {
            "text/plain": [
              "tensor([5, 7, 9])"
            ]
          },
          "metadata": {
            "tags": []
          },
          "execution_count": 36
        }
      ]
    },
    {
      "cell_type": "code",
      "metadata": {
        "colab": {
          "base_uri": "https://localhost:8080/"
        },
        "id": "Lai_k8mXSfhV",
        "outputId": "ff8016a7-583d-440b-f3c1-e5bb39b632cf"
      },
      "source": [
        "torch.sum(x, dim=1)"
      ],
      "execution_count": 37,
      "outputs": [
        {
          "output_type": "execute_result",
          "data": {
            "text/plain": [
              "tensor([ 6, 15])"
            ]
          },
          "metadata": {
            "tags": []
          },
          "execution_count": 37
        }
      ]
    },
    {
      "cell_type": "code",
      "metadata": {
        "id": "Tif-XBxJTNZR"
      },
      "source": [
        "y = torch.tensor([\n",
        "      [\n",
        "       [1,2,3],\n",
        "       [4,5,6]\n",
        "      ],\n",
        "      [\n",
        "       [1,2,3],\n",
        "       [4,5,6]\n",
        "      ],\n",
        "      [\n",
        "       [1,2,3],\n",
        "       [4,5,6]\n",
        "      ]\n",
        "])"
      ],
      "execution_count": 38,
      "outputs": []
    },
    {
      "cell_type": "code",
      "metadata": {
        "colab": {
          "base_uri": "https://localhost:8080/"
        },
        "id": "2Y1LeILFU9z-",
        "outputId": "18b0fb93-26fa-4f6f-9458-4e865b249fc8"
      },
      "source": [
        "y.shape"
      ],
      "execution_count": 39,
      "outputs": [
        {
          "output_type": "execute_result",
          "data": {
            "text/plain": [
              "torch.Size([3, 2, 3])"
            ]
          },
          "metadata": {
            "tags": []
          },
          "execution_count": 39
        }
      ]
    },
    {
      "cell_type": "code",
      "metadata": {
        "colab": {
          "base_uri": "https://localhost:8080/"
        },
        "id": "otzwbvcUU_AQ",
        "outputId": "983ba155-b6a3-4649-94fd-29cdf339ac61"
      },
      "source": [
        "torch.sum(y, dim=0)"
      ],
      "execution_count": 40,
      "outputs": [
        {
          "output_type": "execute_result",
          "data": {
            "text/plain": [
              "tensor([[ 3,  6,  9],\n",
              "        [12, 15, 18]])"
            ]
          },
          "metadata": {
            "tags": []
          },
          "execution_count": 40
        }
      ]
    },
    {
      "cell_type": "code",
      "metadata": {
        "colab": {
          "base_uri": "https://localhost:8080/"
        },
        "id": "AJnCVPvSVVSn",
        "outputId": "6f3c7ebe-e8aa-4c5b-93b6-51ad8377f740"
      },
      "source": [
        "torch.sum(y, dim=1)"
      ],
      "execution_count": 41,
      "outputs": [
        {
          "output_type": "execute_result",
          "data": {
            "text/plain": [
              "tensor([[5, 7, 9],\n",
              "        [5, 7, 9],\n",
              "        [5, 7, 9]])"
            ]
          },
          "metadata": {
            "tags": []
          },
          "execution_count": 41
        }
      ]
    },
    {
      "cell_type": "code",
      "metadata": {
        "colab": {
          "base_uri": "https://localhost:8080/"
        },
        "id": "pIR7XvgkWeZS",
        "outputId": "824a6fb3-1e35-4077-fd07-9a6e9615249d"
      },
      "source": [
        "torch.sum(y, dim=2)"
      ],
      "execution_count": 42,
      "outputs": [
        {
          "output_type": "execute_result",
          "data": {
            "text/plain": [
              "tensor([[ 6, 15],\n",
              "        [ 6, 15],\n",
              "        [ 6, 15]])"
            ]
          },
          "metadata": {
            "tags": []
          },
          "execution_count": 42
        }
      ]
    },
    {
      "cell_type": "code",
      "metadata": {
        "colab": {
          "base_uri": "https://localhost:8080/"
        },
        "id": "PGhnSA-YXMJ5",
        "outputId": "1d88e502-abab-44f7-8f48-014036f36fa6"
      },
      "source": [
        "z = torch.randint(4, (3,4,5))\n",
        "z"
      ],
      "execution_count": 43,
      "outputs": [
        {
          "output_type": "execute_result",
          "data": {
            "text/plain": [
              "tensor([[[3, 3, 3, 2, 1],\n",
              "         [3, 0, 2, 3, 2],\n",
              "         [2, 2, 0, 0, 0],\n",
              "         [0, 1, 3, 3, 3]],\n",
              "\n",
              "        [[0, 0, 2, 0, 1],\n",
              "         [3, 0, 3, 1, 1],\n",
              "         [1, 3, 3, 2, 3],\n",
              "         [1, 0, 3, 2, 3]],\n",
              "\n",
              "        [[3, 1, 1, 3, 0],\n",
              "         [2, 0, 0, 3, 3],\n",
              "         [3, 2, 1, 3, 3],\n",
              "         [2, 3, 0, 1, 2]]])"
            ]
          },
          "metadata": {
            "tags": []
          },
          "execution_count": 43
        }
      ]
    },
    {
      "cell_type": "code",
      "metadata": {
        "colab": {
          "base_uri": "https://localhost:8080/"
        },
        "id": "2ea2gFUeXjzj",
        "outputId": "8a71d80a-3d74-4689-bf54-d80bf5f16b92"
      },
      "source": [
        "torch.sum(z, dim=0)"
      ],
      "execution_count": 44,
      "outputs": [
        {
          "output_type": "execute_result",
          "data": {
            "text/plain": [
              "tensor([[6, 4, 6, 5, 2],\n",
              "        [8, 0, 5, 7, 6],\n",
              "        [6, 7, 4, 5, 6],\n",
              "        [3, 4, 6, 6, 8]])"
            ]
          },
          "metadata": {
            "tags": []
          },
          "execution_count": 44
        }
      ]
    },
    {
      "cell_type": "code",
      "metadata": {
        "colab": {
          "base_uri": "https://localhost:8080/"
        },
        "id": "lTEjjwBwZnBM",
        "outputId": "ac80665d-d965-4f5e-b6ac-5f3991d2f7db"
      },
      "source": [
        "torch.sum(z, dim=1)"
      ],
      "execution_count": 45,
      "outputs": [
        {
          "output_type": "execute_result",
          "data": {
            "text/plain": [
              "tensor([[ 8,  6,  8,  8,  6],\n",
              "        [ 5,  3, 11,  5,  8],\n",
              "        [10,  6,  2, 10,  8]])"
            ]
          },
          "metadata": {
            "tags": []
          },
          "execution_count": 45
        }
      ]
    },
    {
      "cell_type": "code",
      "metadata": {
        "colab": {
          "base_uri": "https://localhost:8080/"
        },
        "id": "nj2VOCmycg-t",
        "outputId": "1a1d423e-0a48-4b11-ac86-da601d4c1772"
      },
      "source": [
        "torch.sum(z, dim=2)"
      ],
      "execution_count": 46,
      "outputs": [
        {
          "output_type": "execute_result",
          "data": {
            "text/plain": [
              "tensor([[12, 10,  4, 10],\n",
              "        [ 3,  8, 12,  9],\n",
              "        [ 8,  8, 12,  8]])"
            ]
          },
          "metadata": {
            "tags": []
          },
          "execution_count": 46
        }
      ]
    },
    {
      "cell_type": "code",
      "metadata": {
        "colab": {
          "base_uri": "https://localhost:8080/"
        },
        "id": "DhTXE0KUh6rQ",
        "outputId": "04bb1249-d4b6-422c-bea5-1cd6e09eea1d"
      },
      "source": [
        "e = torch.randint(5, (3,3,3))\n",
        "e"
      ],
      "execution_count": 47,
      "outputs": [
        {
          "output_type": "execute_result",
          "data": {
            "text/plain": [
              "tensor([[[1, 4, 1],\n",
              "         [1, 1, 2],\n",
              "         [0, 1, 1]],\n",
              "\n",
              "        [[0, 1, 0],\n",
              "         [0, 1, 3],\n",
              "         [4, 0, 3]],\n",
              "\n",
              "        [[1, 2, 2],\n",
              "         [0, 0, 2],\n",
              "         [4, 3, 1]]])"
            ]
          },
          "metadata": {
            "tags": []
          },
          "execution_count": 47
        }
      ]
    },
    {
      "cell_type": "code",
      "metadata": {
        "colab": {
          "base_uri": "https://localhost:8080/"
        },
        "id": "UR7V3yL-jNTo",
        "outputId": "ed62ca79-46b4-47a8-a83d-f1a9c43c7368"
      },
      "source": [
        "torch.sum(e, dim=0)"
      ],
      "execution_count": 48,
      "outputs": [
        {
          "output_type": "execute_result",
          "data": {
            "text/plain": [
              "tensor([[2, 7, 3],\n",
              "        [1, 2, 7],\n",
              "        [8, 4, 5]])"
            ]
          },
          "metadata": {
            "tags": []
          },
          "execution_count": 48
        }
      ]
    },
    {
      "cell_type": "code",
      "metadata": {
        "colab": {
          "base_uri": "https://localhost:8080/"
        },
        "id": "69tlIlffj8qQ",
        "outputId": "23c613e3-316e-4bb1-8ca5-df4569b14ecc"
      },
      "source": [
        "torch.sum(e, dim=1)"
      ],
      "execution_count": 49,
      "outputs": [
        {
          "output_type": "execute_result",
          "data": {
            "text/plain": [
              "tensor([[2, 6, 4],\n",
              "        [4, 2, 6],\n",
              "        [5, 5, 5]])"
            ]
          },
          "metadata": {
            "tags": []
          },
          "execution_count": 49
        }
      ]
    },
    {
      "cell_type": "code",
      "metadata": {
        "colab": {
          "base_uri": "https://localhost:8080/"
        },
        "id": "zO31aRESk6R1",
        "outputId": "5b9ab63c-4fa3-490b-a835-c3bd09c02c7a"
      },
      "source": [
        "torch.sum(e, dim=2)"
      ],
      "execution_count": 51,
      "outputs": [
        {
          "output_type": "execute_result",
          "data": {
            "text/plain": [
              "tensor([[6, 4, 2],\n",
              "        [1, 4, 7],\n",
              "        [5, 2, 8]])"
            ]
          },
          "metadata": {
            "tags": []
          },
          "execution_count": 51
        }
      ]
    },
    {
      "cell_type": "markdown",
      "metadata": {
        "id": "j032RH5SZwKq"
      },
      "source": [
        "# Stride and  Storage "
      ]
    },
    {
      "cell_type": "code",
      "metadata": {
        "colab": {
          "base_uri": "https://localhost:8080/"
        },
        "id": "FpMDV6AdZ2ku",
        "outputId": "cfe148b7-49c1-4cac-b934-ba9d6cf363a2"
      },
      "source": [
        "t2 = torch.arange(12).view((3,4))\n",
        "t2"
      ],
      "execution_count": 53,
      "outputs": [
        {
          "output_type": "execute_result",
          "data": {
            "text/plain": [
              "tensor([[ 0,  1,  2,  3],\n",
              "        [ 4,  5,  6,  7],\n",
              "        [ 8,  9, 10, 11]])"
            ]
          },
          "metadata": {
            "tags": []
          },
          "execution_count": 53
        }
      ]
    },
    {
      "cell_type": "code",
      "metadata": {
        "colab": {
          "base_uri": "https://localhost:8080/"
        },
        "id": "YBKMzwwgZ8fn",
        "outputId": "4a84f04f-dd66-44e8-ee91-b98a05464d53"
      },
      "source": [
        "storage = t2.storage()\n",
        "storage"
      ],
      "execution_count": 54,
      "outputs": [
        {
          "output_type": "execute_result",
          "data": {
            "text/plain": [
              " 0\n",
              " 1\n",
              " 2\n",
              " 3\n",
              " 4\n",
              " 5\n",
              " 6\n",
              " 7\n",
              " 8\n",
              " 9\n",
              " 10\n",
              " 11\n",
              "[torch.LongStorage of size 12]"
            ]
          },
          "metadata": {
            "tags": []
          },
          "execution_count": 54
        }
      ]
    },
    {
      "cell_type": "code",
      "metadata": {
        "colab": {
          "base_uri": "https://localhost:8080/"
        },
        "id": "UPmhCuasaTf3",
        "outputId": "f3b43140-5699-4f73-b4d2-4680ba34fbe7"
      },
      "source": [
        "stride = t2.stride()\n",
        "stride"
      ],
      "execution_count": 55,
      "outputs": [
        {
          "output_type": "execute_result",
          "data": {
            "text/plain": [
              "(4, 1)"
            ]
          },
          "metadata": {
            "tags": []
          },
          "execution_count": 55
        }
      ]
    },
    {
      "cell_type": "code",
      "metadata": {
        "colab": {
          "base_uri": "https://localhost:8080/"
        },
        "id": "ReHNPVoWaf7Q",
        "outputId": "d944cc54-e925-432c-e730-3b8510234b4a"
      },
      "source": [
        "idx = (2,1)\n",
        "item = t2[idx].item()\n",
        "item"
      ],
      "execution_count": 62,
      "outputs": [
        {
          "output_type": "execute_result",
          "data": {
            "text/plain": [
              "9"
            ]
          },
          "metadata": {
            "tags": []
          },
          "execution_count": 62
        }
      ]
    },
    {
      "cell_type": "markdown",
      "metadata": {
        "id": "JaQZdocXa7Sg"
      },
      "source": [
        "###### Now, using idx together with stride, we can access the item directly from the storage, like this:"
      ]
    },
    {
      "cell_type": "code",
      "metadata": {
        "colab": {
          "base_uri": "https://localhost:8080/"
        },
        "id": "cCQetr9Mb-iH",
        "outputId": "3bd687d6-0f56-40aa-c666-fc71f733b14c"
      },
      "source": [
        "loc = idx[0] * stride[0] + idx[1] * stride[1]\n",
        "loc"
      ],
      "execution_count": 65,
      "outputs": [
        {
          "output_type": "execute_result",
          "data": {
            "text/plain": [
              "9"
            ]
          },
          "metadata": {
            "tags": []
          },
          "execution_count": 65
        }
      ]
    },
    {
      "cell_type": "code",
      "metadata": {
        "colab": {
          "base_uri": "https://localhost:8080/"
        },
        "id": "b80amYS0cGrU",
        "outputId": "9a54a460-09ef-4845-b7d2-1bf4095fc6a6"
      },
      "source": [
        "# with 3d tensor\n",
        "t3 = torch.rand(1200).view((10, 30, 4))\n",
        "storage = t3.storage()\n",
        "stride = t3.stride()\n",
        "stride"
      ],
      "execution_count": 69,
      "outputs": [
        {
          "output_type": "execute_result",
          "data": {
            "text/plain": [
              "(120, 4, 1)"
            ]
          },
          "metadata": {
            "tags": []
          },
          "execution_count": 69
        }
      ]
    },
    {
      "cell_type": "code",
      "metadata": {
        "colab": {
          "base_uri": "https://localhost:8080/"
        },
        "id": "RVhTzXKRdDb7",
        "outputId": "c3535c62-179b-4340-e0a4-3de24d3add77"
      },
      "source": [
        "idx = (4, 23, 2)\n",
        "item = t3[idx].item()\n",
        "item"
      ],
      "execution_count": 71,
      "outputs": [
        {
          "output_type": "execute_result",
          "data": {
            "text/plain": [
              "0.8527129888534546"
            ]
          },
          "metadata": {
            "tags": []
          },
          "execution_count": 71
        }
      ]
    },
    {
      "cell_type": "code",
      "metadata": {
        "colab": {
          "base_uri": "https://localhost:8080/"
        },
        "id": "0zoZprWueZ1h",
        "outputId": "4e52a5c4-825a-4c22-cfd7-9b33d2c35d72"
      },
      "source": [
        "t4 = torch.randint(20, (2 ,3, 5, 5))\n",
        "t4"
      ],
      "execution_count": 83,
      "outputs": [
        {
          "output_type": "execute_result",
          "data": {
            "text/plain": [
              "tensor([[[[19,  9, 16, 10, 13],\n",
              "          [ 1, 11, 16,  7, 14],\n",
              "          [15,  0,  5, 12,  3],\n",
              "          [ 4, 16,  5, 13, 16],\n",
              "          [17,  5, 15,  7, 13]],\n",
              "\n",
              "         [[ 2,  8, 18, 16, 11],\n",
              "          [ 5, 10, 15,  4,  9],\n",
              "          [ 6,  8, 18,  3, 16],\n",
              "          [ 9, 19,  0, 12,  7],\n",
              "          [12,  2, 17, 16,  6]],\n",
              "\n",
              "         [[ 9, 18, 19,  6, 13],\n",
              "          [ 8,  5, 11,  1,  9],\n",
              "          [ 5,  6,  9, 10,  7],\n",
              "          [15,  4, 10, 12,  7],\n",
              "          [19,  4,  2, 12,  5]]],\n",
              "\n",
              "\n",
              "        [[[ 3,  4, 10,  4, 14],\n",
              "          [12,  1, 15, 15,  9],\n",
              "          [18,  7,  7, 11, 12],\n",
              "          [12,  7, 10,  0, 19],\n",
              "          [15,  4,  8, 11,  7]],\n",
              "\n",
              "         [[ 6, 16, 15,  7,  8],\n",
              "          [ 5, 12,  5, 19,  6],\n",
              "          [ 4,  6,  0,  3, 10],\n",
              "          [10,  8, 17,  1, 15],\n",
              "          [10, 18, 12,  2, 16]],\n",
              "\n",
              "         [[ 0,  2, 19,  6, 18],\n",
              "          [ 4, 14, 14, 18,  6],\n",
              "          [18, 12,  8,  9, 19],\n",
              "          [ 8, 18, 18,  3,  3],\n",
              "          [ 8, 15,  8,  3, 17]]]])"
            ]
          },
          "metadata": {
            "tags": []
          },
          "execution_count": 83
        }
      ]
    },
    {
      "cell_type": "code",
      "metadata": {
        "colab": {
          "base_uri": "https://localhost:8080/"
        },
        "id": "XXs7kISsgW3g",
        "outputId": "2f14f053-8b21-46fe-d4e9-412de0ac90a7"
      },
      "source": [
        "t4.sum(dim=-1)"
      ],
      "execution_count": 94,
      "outputs": [
        {
          "output_type": "execute_result",
          "data": {
            "text/plain": [
              "tensor([[[67, 49, 35, 54, 57],\n",
              "         [55, 43, 51, 47, 53],\n",
              "         [65, 34, 37, 48, 42]],\n",
              "\n",
              "        [[35, 52, 55, 48, 45],\n",
              "         [52, 47, 23, 51, 58],\n",
              "         [45, 56, 66, 50, 51]]])"
            ]
          },
          "metadata": {
            "tags": []
          },
          "execution_count": 94
        }
      ]
    },
    {
      "cell_type": "code",
      "metadata": {
        "id": "iICFzXOeiexd"
      },
      "source": [
        ""
      ],
      "execution_count": null,
      "outputs": []
    }
  ]
}