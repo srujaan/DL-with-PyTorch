{
  "nbformat": 4,
  "nbformat_minor": 0,
  "metadata": {
    "colab": {
      "name": "tensor-api.ipynb",
      "provenance": [],
      "collapsed_sections": [],
      "authorship_tag": "ABX9TyNQSE+Seow4SBgEr7srGsDt",
      "include_colab_link": true
    },
    "kernelspec": {
      "name": "python3",
      "display_name": "Python 3"
    }
  },
  "cells": [
    {
      "cell_type": "markdown",
      "metadata": {
        "id": "view-in-github",
        "colab_type": "text"
      },
      "source": [
        "<a href=\"https://colab.research.google.com/github/srujaan/DL-with-PyTorch/blob/master/tensor_api.ipynb\" target=\"_parent\"><img src=\"https://colab.research.google.com/assets/colab-badge.svg\" alt=\"Open In Colab\"/></a>"
      ]
    },
    {
      "cell_type": "code",
      "metadata": {
        "id": "6jTstlGKgXHF"
      },
      "source": [
        "# random numbers to form a uniform distribution\n",
        "import torch"
      ],
      "execution_count": 2,
      "outputs": []
    },
    {
      "cell_type": "code",
      "metadata": {
        "colab": {
          "base_uri": "https://localhost:8080/"
        },
        "id": "ms2iaYb0gkN5",
        "outputId": "08d3150f-39ad-4fe4-8efe-1532e7122a2f"
      },
      "source": [
        "val = torch.rand(4, dtype=torch.float16)\n",
        "val"
      ],
      "execution_count": 3,
      "outputs": [
        {
          "output_type": "execute_result",
          "data": {
            "text/plain": [
              "tensor([0.1460, 0.4731, 0.7900, 0.3320], dtype=torch.float16)"
            ]
          },
          "metadata": {
            "tags": []
          },
          "execution_count": 3
        }
      ]
    },
    {
      "cell_type": "code",
      "metadata": {
        "colab": {
          "base_uri": "https://localhost:8080/"
        },
        "id": "66TIUoxkg8L3",
        "outputId": "3d1861de-d5af-40f2-84f9-076ff8cfa25e"
      },
      "source": [
        "torch.rand_like(val, dtype=torch.float32)"
      ],
      "execution_count": 4,
      "outputs": [
        {
          "output_type": "execute_result",
          "data": {
            "text/plain": [
              "tensor([0.0090, 0.8767, 0.7591, 0.3185])"
            ]
          },
          "metadata": {
            "tags": []
          },
          "execution_count": 4
        }
      ]
    },
    {
      "cell_type": "code",
      "metadata": {
        "colab": {
          "base_uri": "https://localhost:8080/"
        },
        "id": "-x1YTVUZjeCq",
        "outputId": "5c805373-7455-481d-89e0-b9b3488a66a0"
      },
      "source": [
        "randn = torch.randn(4)\n",
        "randn"
      ],
      "execution_count": 5,
      "outputs": [
        {
          "output_type": "execute_result",
          "data": {
            "text/plain": [
              "tensor([ 2.5006, -0.3045, -0.3631,  0.2807])"
            ]
          },
          "metadata": {
            "tags": []
          },
          "execution_count": 5
        }
      ]
    },
    {
      "cell_type": "code",
      "metadata": {
        "colab": {
          "base_uri": "https://localhost:8080/"
        },
        "id": "99FbD0A9j58K",
        "outputId": "96c45d06-5a4b-4a0a-e076-105b8737212e"
      },
      "source": [
        "randn.cos_()"
      ],
      "execution_count": 6,
      "outputs": [
        {
          "output_type": "execute_result",
          "data": {
            "text/plain": [
              "tensor([-0.8015,  0.9540,  0.9348,  0.9609])"
            ]
          },
          "metadata": {
            "tags": []
          },
          "execution_count": 6
        }
      ]
    },
    {
      "cell_type": "code",
      "metadata": {
        "colab": {
          "base_uri": "https://localhost:8080/"
        },
        "id": "fyQatc7Vj_Np",
        "outputId": "c48a17df-7a44-41b1-cfce-7f0fc9a8d1da"
      },
      "source": [
        "val.mean()"
      ],
      "execution_count": 7,
      "outputs": [
        {
          "output_type": "execute_result",
          "data": {
            "text/plain": [
              "tensor(0.4353, dtype=torch.float16)"
            ]
          },
          "metadata": {
            "tags": []
          },
          "execution_count": 7
        }
      ]
    },
    {
      "cell_type": "code",
      "metadata": {
        "colab": {
          "base_uri": "https://localhost:8080/"
        },
        "id": "bbdyN0WSkCud",
        "outputId": "bdd7e614-f9d3-4ff3-aa09-19e3251be812"
      },
      "source": [
        "randint = torch.randint(3, 6, (4,2), dtype=torch.float32)\n",
        "randint"
      ],
      "execution_count": 8,
      "outputs": [
        {
          "output_type": "execute_result",
          "data": {
            "text/plain": [
              "tensor([[3., 3.],\n",
              "        [5., 4.],\n",
              "        [3., 5.],\n",
              "        [3., 5.]])"
            ]
          },
          "metadata": {
            "tags": []
          },
          "execution_count": 8
        }
      ]
    },
    {
      "cell_type": "markdown",
      "metadata": {
        "id": "T1jw4IsLk6om"
      },
      "source": [
        "# Create Ops"
      ]
    },
    {
      "cell_type": "code",
      "metadata": {
        "colab": {
          "base_uri": "https://localhost:8080/"
        },
        "id": "w2hvNXOeY4dI",
        "outputId": "70480aed-107d-4bcb-b9ed-a9bfefa1ff8c"
      },
      "source": [
        "# arange\n",
        "torch.arange(0, 10, 2)"
      ],
      "execution_count": 9,
      "outputs": [
        {
          "output_type": "execute_result",
          "data": {
            "text/plain": [
              "tensor([0, 2, 4, 6, 8])"
            ]
          },
          "metadata": {
            "tags": []
          },
          "execution_count": 9
        }
      ]
    },
    {
      "cell_type": "code",
      "metadata": {
        "colab": {
          "base_uri": "https://localhost:8080/"
        },
        "id": "iSylyZ2yZvtk",
        "outputId": "5523e96d-b240-493e-cb2b-ff3707f9f9ea"
      },
      "source": [
        "torch.arange(5)"
      ],
      "execution_count": 10,
      "outputs": [
        {
          "output_type": "execute_result",
          "data": {
            "text/plain": [
              "tensor([0, 1, 2, 3, 4])"
            ]
          },
          "metadata": {
            "tags": []
          },
          "execution_count": 10
        }
      ]
    },
    {
      "cell_type": "code",
      "metadata": {
        "colab": {
          "base_uri": "https://localhost:8080/"
        },
        "id": "qnn7JDXQZ9rD",
        "outputId": "7946cc2c-8c89-41a4-fc98-e6f3f62914f7"
      },
      "source": [
        "torch.quantize_per_tensor(randint, 0.1, 10, torch.quint8)"
      ],
      "execution_count": 11,
      "outputs": [
        {
          "output_type": "execute_result",
          "data": {
            "text/plain": [
              "tensor([[3., 3.],\n",
              "        [5., 4.],\n",
              "        [3., 5.],\n",
              "        [3., 5.]], size=(4, 2), dtype=torch.quint8,\n",
              "       quantization_scheme=torch.per_tensor_affine, scale=0.1, zero_point=10)"
            ]
          },
          "metadata": {
            "tags": []
          },
          "execution_count": 11
        }
      ]
    },
    {
      "cell_type": "code",
      "metadata": {
        "colab": {
          "base_uri": "https://localhost:8080/"
        },
        "id": "yTlEZ9HEbFfm",
        "outputId": "ade525eb-b57a-4df8-b775-5ec898727466"
      },
      "source": [
        "torch.eye(3)"
      ],
      "execution_count": 12,
      "outputs": [
        {
          "output_type": "execute_result",
          "data": {
            "text/plain": [
              "tensor([[1., 0., 0.],\n",
              "        [0., 1., 0.],\n",
              "        [0., 0., 1.]])"
            ]
          },
          "metadata": {
            "tags": []
          },
          "execution_count": 12
        }
      ]
    },
    {
      "cell_type": "code",
      "metadata": {
        "colab": {
          "base_uri": "https://localhost:8080/"
        },
        "id": "zNt0JATkdI4p",
        "outputId": "58e7e25c-1486-4e05-b45c-adc2f87035d8"
      },
      "source": [
        "torch.complex(torch.tensor([1., 2, 3]), torch.tensor([4., 5, 6]))"
      ],
      "execution_count": 13,
      "outputs": [
        {
          "output_type": "execute_result",
          "data": {
            "text/plain": [
              "tensor([1.+4.j, 2.+5.j, 3.+6.j])"
            ]
          },
          "metadata": {
            "tags": []
          },
          "execution_count": 13
        }
      ]
    },
    {
      "cell_type": "markdown",
      "metadata": {
        "id": "k5jvc7n0eCci"
      },
      "source": [
        "# Indexing, Slicing, Joining, Mutating Ops"
      ]
    },
    {
      "cell_type": "code",
      "metadata": {
        "colab": {
          "base_uri": "https://localhost:8080/"
        },
        "id": "o-0oueDyfQUs",
        "outputId": "6dbadd1e-8d4f-47aa-e3cd-3020d99458cf"
      },
      "source": [
        "x = torch.randn(2,3)\n",
        "torch.cat((x,x), 0)"
      ],
      "execution_count": 14,
      "outputs": [
        {
          "output_type": "execute_result",
          "data": {
            "text/plain": [
              "tensor([[-1.4934, -0.0211, -0.6101],\n",
              "        [ 1.4658, -0.1114, -0.1664],\n",
              "        [-1.4934, -0.0211, -0.6101],\n",
              "        [ 1.4658, -0.1114, -0.1664]])"
            ]
          },
          "metadata": {
            "tags": []
          },
          "execution_count": 14
        }
      ]
    },
    {
      "cell_type": "code",
      "metadata": {
        "colab": {
          "base_uri": "https://localhost:8080/"
        },
        "id": "-aQd8_Vmfm9X",
        "outputId": "4d8907b1-4474-4fab-bc32-953ea2010ab9"
      },
      "source": [
        "torch.cat((x,x), 1)"
      ],
      "execution_count": 15,
      "outputs": [
        {
          "output_type": "execute_result",
          "data": {
            "text/plain": [
              "tensor([[-1.4934, -0.0211, -0.6101, -1.4934, -0.0211, -0.6101],\n",
              "        [ 1.4658, -0.1114, -0.1664,  1.4658, -0.1114, -0.1664]])"
            ]
          },
          "metadata": {
            "tags": []
          },
          "execution_count": 15
        }
      ]
    },
    {
      "cell_type": "code",
      "metadata": {
        "colab": {
          "base_uri": "https://localhost:8080/"
        },
        "id": "XIeIVYdngOD0",
        "outputId": "171f5519-752f-43be-f849-10958bd5082b"
      },
      "source": [
        "torch.hstack((x,x))"
      ],
      "execution_count": 16,
      "outputs": [
        {
          "output_type": "execute_result",
          "data": {
            "text/plain": [
              "tensor([[-1.4934, -0.0211, -0.6101, -1.4934, -0.0211, -0.6101],\n",
              "        [ 1.4658, -0.1114, -0.1664,  1.4658, -0.1114, -0.1664]])"
            ]
          },
          "metadata": {
            "tags": []
          },
          "execution_count": 16
        }
      ]
    },
    {
      "cell_type": "code",
      "metadata": {
        "id": "CFe8JPs4g9DP"
      },
      "source": [
        "a = torch.arange(4.)\n"
      ],
      "execution_count": 17,
      "outputs": []
    },
    {
      "cell_type": "code",
      "metadata": {
        "colab": {
          "base_uri": "https://localhost:8080/"
        },
        "id": "NkDNPT4EkRnL",
        "outputId": "cba2014f-fc6b-4844-c5c5-7d6d380a8b69"
      },
      "source": [
        "torch.reshape(a, (2,2))"
      ],
      "execution_count": 18,
      "outputs": [
        {
          "output_type": "execute_result",
          "data": {
            "text/plain": [
              "tensor([[0., 1.],\n",
              "        [2., 3.]])"
            ]
          },
          "metadata": {
            "tags": []
          },
          "execution_count": 18
        }
      ]
    },
    {
      "cell_type": "code",
      "metadata": {
        "colab": {
          "base_uri": "https://localhost:8080/"
        },
        "id": "KKHluPl9ke1m",
        "outputId": "d8d933e8-0fbe-400a-d809-c74970bec49b"
      },
      "source": [
        "b = torch.tensor([[0, 1], [2, 3]])\n",
        "torch.reshape(b, (-1,))\n"
      ],
      "execution_count": 19,
      "outputs": [
        {
          "output_type": "execute_result",
          "data": {
            "text/plain": [
              "tensor([0, 1, 2, 3])"
            ]
          },
          "metadata": {
            "tags": []
          },
          "execution_count": 19
        }
      ]
    },
    {
      "cell_type": "code",
      "metadata": {
        "colab": {
          "base_uri": "https://localhost:8080/"
        },
        "id": "OOYikaTKku9G",
        "outputId": "3b2d4749-af28-4761-9e18-36a218d06bc6"
      },
      "source": [
        "y = torch.zeros(2, 1, 2, 1, 2)\n",
        "z = torch.squeeze(y)\n",
        "o = torch.squeeze(y, 1)\n",
        "print(y.size())\n",
        "print(z.size())\n",
        "print(o.size())"
      ],
      "execution_count": 20,
      "outputs": [
        {
          "output_type": "stream",
          "text": [
            "torch.Size([2, 1, 2, 1, 2])\n",
            "torch.Size([2, 2, 2])\n",
            "torch.Size([2, 2, 1, 2])\n"
          ],
          "name": "stdout"
        }
      ]
    },
    {
      "cell_type": "code",
      "metadata": {
        "colab": {
          "base_uri": "https://localhost:8080/"
        },
        "id": "uds2OQoeneht",
        "outputId": "0fc84e71-4015-4f58-e80e-f7d2338bc727"
      },
      "source": [
        "rand_val = torch.randn( 2, 3)\n",
        "rand_val"
      ],
      "execution_count": 21,
      "outputs": [
        {
          "output_type": "execute_result",
          "data": {
            "text/plain": [
              "tensor([[-1.1600,  0.9023,  2.2693],\n",
              "        [-0.4826,  0.2631, -0.0201]])"
            ]
          },
          "metadata": {
            "tags": []
          },
          "execution_count": 21
        }
      ]
    },
    {
      "cell_type": "code",
      "metadata": {
        "colab": {
          "base_uri": "https://localhost:8080/"
        },
        "id": "BauIEzAyph2q",
        "outputId": "9ac1910c-78fc-432e-8f2b-61480d042cb5"
      },
      "source": [
        "torch.transpose(rand_val, 0, 1)"
      ],
      "execution_count": 22,
      "outputs": [
        {
          "output_type": "execute_result",
          "data": {
            "text/plain": [
              "tensor([[-1.1600, -0.4826],\n",
              "        [ 0.9023,  0.2631],\n",
              "        [ 2.2693, -0.0201]])"
            ]
          },
          "metadata": {
            "tags": []
          },
          "execution_count": 22
        }
      ]
    },
    {
      "cell_type": "code",
      "metadata": {
        "colab": {
          "base_uri": "https://localhost:8080/"
        },
        "id": "13t8twc5qw_4",
        "outputId": "e8fa17b9-c272-48dd-b080-5ab8e0548a51"
      },
      "source": [
        "t1 = torch.tensor([1, 2, 3, 4])\n",
        "print(torch.unsqueeze(t1, 0))\n",
        "print(torch.unsqueeze(t1, 1))"
      ],
      "execution_count": 23,
      "outputs": [
        {
          "output_type": "stream",
          "text": [
            "tensor([[1, 2, 3, 4]])\n",
            "tensor([[1],\n",
            "        [2],\n",
            "        [3],\n",
            "        [4]])\n"
          ],
          "name": "stdout"
        }
      ]
    },
    {
      "cell_type": "code",
      "metadata": {
        "id": "s27uh_cwrVt8"
      },
      "source": [
        "points = torch.tensor([[4.0, 1.0], [5.0, 3.0], [2.0, 1.0]])"
      ],
      "execution_count": 24,
      "outputs": []
    },
    {
      "cell_type": "code",
      "metadata": {
        "colab": {
          "base_uri": "https://localhost:8080/"
        },
        "id": "wPwFrDBK0hly",
        "outputId": "e5e6b44c-d06f-4a3f-8ca0-90ce1bf68559"
      },
      "source": [
        "second_point = points[1]\n",
        "second_point.storage_offset()"
      ],
      "execution_count": 25,
      "outputs": [
        {
          "output_type": "execute_result",
          "data": {
            "text/plain": [
              "2"
            ]
          },
          "metadata": {
            "tags": []
          },
          "execution_count": 25
        }
      ]
    },
    {
      "cell_type": "code",
      "metadata": {
        "colab": {
          "base_uri": "https://localhost:8080/"
        },
        "id": "momLxMP_0jYc",
        "outputId": "6b043559-3178-4c80-e7f8-b6a4b963c13e"
      },
      "source": [
        "points.stride()"
      ],
      "execution_count": 26,
      "outputs": [
        {
          "output_type": "execute_result",
          "data": {
            "text/plain": [
              "(2, 1)"
            ]
          },
          "metadata": {
            "tags": []
          },
          "execution_count": 26
        }
      ]
    },
    {
      "cell_type": "code",
      "metadata": {
        "id": "fXKQWDiE1NEj",
        "colab": {
          "base_uri": "https://localhost:8080/"
        },
        "outputId": "aa0b8874-0cd3-46d1-e45e-2228e9c974d4"
      },
      "source": [
        "points1 = points.clone().detach()\n",
        "points1"
      ],
      "execution_count": 27,
      "outputs": [
        {
          "output_type": "execute_result",
          "data": {
            "text/plain": [
              "tensor([[4., 1.],\n",
              "        [5., 3.],\n",
              "        [2., 1.]])"
            ]
          },
          "metadata": {
            "tags": []
          },
          "execution_count": 27
        }
      ]
    },
    {
      "cell_type": "code",
      "metadata": {
        "colab": {
          "base_uri": "https://localhost:8080/"
        },
        "id": "31jdj9qX7wh_",
        "outputId": "9ba13877-6aaf-45e0-d8ed-ae45b743d64e"
      },
      "source": [
        "points1_t = points.t()\n",
        "points1_t"
      ],
      "execution_count": 28,
      "outputs": [
        {
          "output_type": "execute_result",
          "data": {
            "text/plain": [
              "tensor([[4., 5., 2.],\n",
              "        [1., 3., 1.]])"
            ]
          },
          "metadata": {
            "tags": []
          },
          "execution_count": 28
        }
      ]
    },
    {
      "cell_type": "code",
      "metadata": {
        "colab": {
          "base_uri": "https://localhost:8080/"
        },
        "id": "1dRAy9uh8Pb6",
        "outputId": "0ec17d16-b2e8-4273-fb5b-0540959faefa"
      },
      "source": [
        "# to verify two tensors share the same storage\n",
        "id(points1.storage()) == id(points1_t.storage())"
      ],
      "execution_count": 29,
      "outputs": [
        {
          "output_type": "execute_result",
          "data": {
            "text/plain": [
              "True"
            ]
          },
          "metadata": {
            "tags": []
          },
          "execution_count": 29
        }
      ]
    },
    {
      "cell_type": "code",
      "metadata": {
        "colab": {
          "base_uri": "https://localhost:8080/"
        },
        "id": "h8NCTgcq8lN0",
        "outputId": "3500fc81-780c-44aa-af0a-1ce514a6bfe0"
      },
      "source": [
        "points1.stride()"
      ],
      "execution_count": 30,
      "outputs": [
        {
          "output_type": "execute_result",
          "data": {
            "text/plain": [
              "(2, 1)"
            ]
          },
          "metadata": {
            "tags": []
          },
          "execution_count": 30
        }
      ]
    },
    {
      "cell_type": "code",
      "metadata": {
        "colab": {
          "base_uri": "https://localhost:8080/"
        },
        "id": "c7Bd_0tS8xVV",
        "outputId": "7c25aab5-631a-4e40-be98-248a9e3ae4e3"
      },
      "source": [
        "points1_t.stride()"
      ],
      "execution_count": 31,
      "outputs": [
        {
          "output_type": "execute_result",
          "data": {
            "text/plain": [
              "(1, 2)"
            ]
          },
          "metadata": {
            "tags": []
          },
          "execution_count": 31
        }
      ]
    },
    {
      "cell_type": "code",
      "metadata": {
        "colab": {
          "base_uri": "https://localhost:8080/"
        },
        "id": "MKjL0wxE81kG",
        "outputId": "62aa5281-1955-4d7c-a55b-8b31edac271b"
      },
      "source": [
        "some_t = torch.ones(3, 4, 5)\n",
        "transpose_t = torch.transpose(some_t, 0, 2)\n",
        "some_t"
      ],
      "execution_count": 33,
      "outputs": [
        {
          "output_type": "execute_result",
          "data": {
            "text/plain": [
              "tensor([[[1., 1., 1., 1., 1.],\n",
              "         [1., 1., 1., 1., 1.],\n",
              "         [1., 1., 1., 1., 1.],\n",
              "         [1., 1., 1., 1., 1.]],\n",
              "\n",
              "        [[1., 1., 1., 1., 1.],\n",
              "         [1., 1., 1., 1., 1.],\n",
              "         [1., 1., 1., 1., 1.],\n",
              "         [1., 1., 1., 1., 1.]],\n",
              "\n",
              "        [[1., 1., 1., 1., 1.],\n",
              "         [1., 1., 1., 1., 1.],\n",
              "         [1., 1., 1., 1., 1.],\n",
              "         [1., 1., 1., 1., 1.]]])"
            ]
          },
          "metadata": {
            "tags": []
          },
          "execution_count": 33
        }
      ]
    },
    {
      "cell_type": "code",
      "metadata": {
        "colab": {
          "base_uri": "https://localhost:8080/"
        },
        "id": "w_w-HEP6EqJd",
        "outputId": "9aed21c9-bf58-4ab4-b622-ad6c1d938226"
      },
      "source": [
        "print(transpose_t.shape)\n",
        "transpose_t"
      ],
      "execution_count": 34,
      "outputs": [
        {
          "output_type": "stream",
          "text": [
            "torch.Size([5, 4, 3])\n"
          ],
          "name": "stdout"
        },
        {
          "output_type": "execute_result",
          "data": {
            "text/plain": [
              "tensor([[[1., 1., 1.],\n",
              "         [1., 1., 1.],\n",
              "         [1., 1., 1.],\n",
              "         [1., 1., 1.]],\n",
              "\n",
              "        [[1., 1., 1.],\n",
              "         [1., 1., 1.],\n",
              "         [1., 1., 1.],\n",
              "         [1., 1., 1.]],\n",
              "\n",
              "        [[1., 1., 1.],\n",
              "         [1., 1., 1.],\n",
              "         [1., 1., 1.],\n",
              "         [1., 1., 1.]],\n",
              "\n",
              "        [[1., 1., 1.],\n",
              "         [1., 1., 1.],\n",
              "         [1., 1., 1.],\n",
              "         [1., 1., 1.]],\n",
              "\n",
              "        [[1., 1., 1.],\n",
              "         [1., 1., 1.],\n",
              "         [1., 1., 1.],\n",
              "         [1., 1., 1.]]])"
            ]
          },
          "metadata": {
            "tags": []
          },
          "execution_count": 34
        }
      ]
    },
    {
      "cell_type": "code",
      "metadata": {
        "colab": {
          "base_uri": "https://localhost:8080/"
        },
        "id": "b3KJ8OTKFnys",
        "outputId": "5cda6e55-6e4d-4be5-93a3-c84740e047a7"
      },
      "source": [
        "a_list = torch.arange(9)\n",
        "print(a_list.size())\n",
        "print(a_list.storage_offset())\n",
        "a_list.stride()"
      ],
      "execution_count": 35,
      "outputs": [
        {
          "output_type": "stream",
          "text": [
            "torch.Size([9])\n",
            "0\n"
          ],
          "name": "stdout"
        },
        {
          "output_type": "execute_result",
          "data": {
            "text/plain": [
              "(1,)"
            ]
          },
          "metadata": {
            "tags": []
          },
          "execution_count": 35
        }
      ]
    },
    {
      "cell_type": "code",
      "metadata": {
        "id": "QnRkLPQHb_UK"
      },
      "source": [
        "x = torch.tensor([\n",
        "        [1,2,3],\n",
        "        [4,5,6]\n",
        "])"
      ],
      "execution_count": 36,
      "outputs": []
    },
    {
      "cell_type": "code",
      "metadata": {
        "colab": {
          "base_uri": "https://localhost:8080/"
        },
        "id": "EIgE-NDAOLs1",
        "outputId": "4123b5f3-31af-4407-f017-e5008687aed8"
      },
      "source": [
        "x.shape"
      ],
      "execution_count": 37,
      "outputs": [
        {
          "output_type": "execute_result",
          "data": {
            "text/plain": [
              "torch.Size([2, 3])"
            ]
          },
          "metadata": {
            "tags": []
          },
          "execution_count": 37
        }
      ]
    },
    {
      "cell_type": "code",
      "metadata": {
        "colab": {
          "base_uri": "https://localhost:8080/"
        },
        "id": "HKvwg4y-ORye",
        "outputId": "1d37b610-9802-4405-d48f-dd598339518b"
      },
      "source": [
        "torch.sum(x, dim=0)"
      ],
      "execution_count": 38,
      "outputs": [
        {
          "output_type": "execute_result",
          "data": {
            "text/plain": [
              "tensor([5, 7, 9])"
            ]
          },
          "metadata": {
            "tags": []
          },
          "execution_count": 38
        }
      ]
    },
    {
      "cell_type": "code",
      "metadata": {
        "colab": {
          "base_uri": "https://localhost:8080/"
        },
        "id": "Lai_k8mXSfhV",
        "outputId": "28147115-863c-45d4-ea24-e0f80d9ab164"
      },
      "source": [
        "torch.sum(x, dim=1)"
      ],
      "execution_count": 39,
      "outputs": [
        {
          "output_type": "execute_result",
          "data": {
            "text/plain": [
              "tensor([ 6, 15])"
            ]
          },
          "metadata": {
            "tags": []
          },
          "execution_count": 39
        }
      ]
    },
    {
      "cell_type": "code",
      "metadata": {
        "id": "Tif-XBxJTNZR"
      },
      "source": [
        "y = torch.tensor([\n",
        "      [\n",
        "       [1,2,3],\n",
        "       [4,5,6]\n",
        "      ],\n",
        "      [\n",
        "       [1,2,3],\n",
        "       [4,5,6]\n",
        "      ],\n",
        "      [\n",
        "       [1,2,3],\n",
        "       [4,5,6]\n",
        "      ]\n",
        "])"
      ],
      "execution_count": 40,
      "outputs": []
    },
    {
      "cell_type": "code",
      "metadata": {
        "colab": {
          "base_uri": "https://localhost:8080/"
        },
        "id": "2Y1LeILFU9z-",
        "outputId": "3d5734ed-2d12-4c28-cc69-cf102e355d75"
      },
      "source": [
        "y.shape"
      ],
      "execution_count": 41,
      "outputs": [
        {
          "output_type": "execute_result",
          "data": {
            "text/plain": [
              "torch.Size([3, 2, 3])"
            ]
          },
          "metadata": {
            "tags": []
          },
          "execution_count": 41
        }
      ]
    },
    {
      "cell_type": "code",
      "metadata": {
        "colab": {
          "base_uri": "https://localhost:8080/"
        },
        "id": "otzwbvcUU_AQ",
        "outputId": "ac0770cf-b07c-42f0-c3d9-4b50f761a54e"
      },
      "source": [
        "torch.sum(y, dim=0)"
      ],
      "execution_count": 42,
      "outputs": [
        {
          "output_type": "execute_result",
          "data": {
            "text/plain": [
              "tensor([[ 3,  6,  9],\n",
              "        [12, 15, 18]])"
            ]
          },
          "metadata": {
            "tags": []
          },
          "execution_count": 42
        }
      ]
    },
    {
      "cell_type": "code",
      "metadata": {
        "colab": {
          "base_uri": "https://localhost:8080/"
        },
        "id": "AJnCVPvSVVSn",
        "outputId": "f8d7c77d-52d7-4164-de9d-600d09e7749e"
      },
      "source": [
        "torch.sum(y, dim=1)"
      ],
      "execution_count": 43,
      "outputs": [
        {
          "output_type": "execute_result",
          "data": {
            "text/plain": [
              "tensor([[5, 7, 9],\n",
              "        [5, 7, 9],\n",
              "        [5, 7, 9]])"
            ]
          },
          "metadata": {
            "tags": []
          },
          "execution_count": 43
        }
      ]
    },
    {
      "cell_type": "code",
      "metadata": {
        "colab": {
          "base_uri": "https://localhost:8080/"
        },
        "id": "pIR7XvgkWeZS",
        "outputId": "606868be-c85f-4733-8c7c-6a908de12e36"
      },
      "source": [
        "torch.sum(y, dim=2)"
      ],
      "execution_count": 44,
      "outputs": [
        {
          "output_type": "execute_result",
          "data": {
            "text/plain": [
              "tensor([[ 6, 15],\n",
              "        [ 6, 15],\n",
              "        [ 6, 15]])"
            ]
          },
          "metadata": {
            "tags": []
          },
          "execution_count": 44
        }
      ]
    },
    {
      "cell_type": "code",
      "metadata": {
        "colab": {
          "base_uri": "https://localhost:8080/"
        },
        "id": "PGhnSA-YXMJ5",
        "outputId": "e5996d5b-3fbf-4152-bda6-665ebfee210e"
      },
      "source": [
        "z = torch.randint(4, (3,4,5))\n",
        "z"
      ],
      "execution_count": 45,
      "outputs": [
        {
          "output_type": "execute_result",
          "data": {
            "text/plain": [
              "tensor([[[3, 0, 2, 1, 1],\n",
              "         [0, 0, 2, 2, 0],\n",
              "         [2, 2, 1, 1, 1],\n",
              "         [0, 0, 2, 0, 0]],\n",
              "\n",
              "        [[0, 2, 3, 0, 2],\n",
              "         [1, 3, 2, 3, 1],\n",
              "         [2, 3, 1, 0, 0],\n",
              "         [3, 2, 1, 1, 1]],\n",
              "\n",
              "        [[2, 0, 3, 2, 0],\n",
              "         [0, 0, 2, 2, 2],\n",
              "         [0, 0, 2, 2, 3],\n",
              "         [2, 1, 1, 2, 0]]])"
            ]
          },
          "metadata": {
            "tags": []
          },
          "execution_count": 45
        }
      ]
    },
    {
      "cell_type": "code",
      "metadata": {
        "colab": {
          "base_uri": "https://localhost:8080/"
        },
        "id": "2ea2gFUeXjzj",
        "outputId": "3788ef8c-879f-4ac1-c847-106df82e0871"
      },
      "source": [
        "torch.sum(z, dim=0)"
      ],
      "execution_count": 46,
      "outputs": [
        {
          "output_type": "execute_result",
          "data": {
            "text/plain": [
              "tensor([[5, 2, 8, 3, 3],\n",
              "        [1, 3, 6, 7, 3],\n",
              "        [4, 5, 4, 3, 4],\n",
              "        [5, 3, 4, 3, 1]])"
            ]
          },
          "metadata": {
            "tags": []
          },
          "execution_count": 46
        }
      ]
    },
    {
      "cell_type": "code",
      "metadata": {
        "colab": {
          "base_uri": "https://localhost:8080/"
        },
        "id": "lTEjjwBwZnBM",
        "outputId": "df142706-3206-4798-8db1-729e5561ffd1"
      },
      "source": [
        "torch.sum(z, dim=1)"
      ],
      "execution_count": 47,
      "outputs": [
        {
          "output_type": "execute_result",
          "data": {
            "text/plain": [
              "tensor([[ 5,  2,  7,  4,  2],\n",
              "        [ 6, 10,  7,  4,  4],\n",
              "        [ 4,  1,  8,  8,  5]])"
            ]
          },
          "metadata": {
            "tags": []
          },
          "execution_count": 47
        }
      ]
    },
    {
      "cell_type": "code",
      "metadata": {
        "colab": {
          "base_uri": "https://localhost:8080/"
        },
        "id": "nj2VOCmycg-t",
        "outputId": "a27cfb72-e8a3-428e-cd47-e730f9adb685"
      },
      "source": [
        "torch.sum(z, dim=2)"
      ],
      "execution_count": 48,
      "outputs": [
        {
          "output_type": "execute_result",
          "data": {
            "text/plain": [
              "tensor([[ 7,  4,  7,  2],\n",
              "        [ 7, 10,  6,  8],\n",
              "        [ 7,  6,  7,  6]])"
            ]
          },
          "metadata": {
            "tags": []
          },
          "execution_count": 48
        }
      ]
    },
    {
      "cell_type": "code",
      "metadata": {
        "colab": {
          "base_uri": "https://localhost:8080/"
        },
        "id": "DhTXE0KUh6rQ",
        "outputId": "fdb33fc0-fa43-4427-c699-9d91771472cf"
      },
      "source": [
        "e = torch.randint(5, (3,3,3))\n",
        "e"
      ],
      "execution_count": 49,
      "outputs": [
        {
          "output_type": "execute_result",
          "data": {
            "text/plain": [
              "tensor([[[3, 1, 2],\n",
              "         [4, 1, 0],\n",
              "         [1, 0, 3]],\n",
              "\n",
              "        [[4, 1, 4],\n",
              "         [2, 4, 4],\n",
              "         [4, 2, 3]],\n",
              "\n",
              "        [[1, 2, 2],\n",
              "         [2, 1, 1],\n",
              "         [4, 4, 3]]])"
            ]
          },
          "metadata": {
            "tags": []
          },
          "execution_count": 49
        }
      ]
    },
    {
      "cell_type": "code",
      "metadata": {
        "colab": {
          "base_uri": "https://localhost:8080/"
        },
        "id": "UR7V3yL-jNTo",
        "outputId": "f0726644-4b05-499d-9759-927680e8685b"
      },
      "source": [
        "torch.sum(e, dim=0)"
      ],
      "execution_count": 50,
      "outputs": [
        {
          "output_type": "execute_result",
          "data": {
            "text/plain": [
              "tensor([[8, 4, 8],\n",
              "        [8, 6, 5],\n",
              "        [9, 6, 9]])"
            ]
          },
          "metadata": {
            "tags": []
          },
          "execution_count": 50
        }
      ]
    },
    {
      "cell_type": "code",
      "metadata": {
        "colab": {
          "base_uri": "https://localhost:8080/"
        },
        "id": "69tlIlffj8qQ",
        "outputId": "bec58d04-06e2-4ff5-f3a6-042eb4c10a75"
      },
      "source": [
        "torch.sum(e, dim=1)"
      ],
      "execution_count": 51,
      "outputs": [
        {
          "output_type": "execute_result",
          "data": {
            "text/plain": [
              "tensor([[ 8,  2,  5],\n",
              "        [10,  7, 11],\n",
              "        [ 7,  7,  6]])"
            ]
          },
          "metadata": {
            "tags": []
          },
          "execution_count": 51
        }
      ]
    },
    {
      "cell_type": "code",
      "metadata": {
        "colab": {
          "base_uri": "https://localhost:8080/"
        },
        "id": "zO31aRESk6R1",
        "outputId": "156d5b79-4c34-4a0f-d902-a9016d8684e5"
      },
      "source": [
        "torch.sum(e, dim=2)"
      ],
      "execution_count": 52,
      "outputs": [
        {
          "output_type": "execute_result",
          "data": {
            "text/plain": [
              "tensor([[ 6,  5,  4],\n",
              "        [ 9, 10,  9],\n",
              "        [ 5,  4, 11]])"
            ]
          },
          "metadata": {
            "tags": []
          },
          "execution_count": 52
        }
      ]
    },
    {
      "cell_type": "markdown",
      "metadata": {
        "id": "j032RH5SZwKq"
      },
      "source": [
        "# Stride and  Storage "
      ]
    },
    {
      "cell_type": "code",
      "metadata": {
        "colab": {
          "base_uri": "https://localhost:8080/"
        },
        "id": "FpMDV6AdZ2ku",
        "outputId": "51a34bec-b9e7-4fda-d417-131256066460"
      },
      "source": [
        "t2 = torch.arange(12).view((3,4))\n",
        "t2"
      ],
      "execution_count": 53,
      "outputs": [
        {
          "output_type": "execute_result",
          "data": {
            "text/plain": [
              "tensor([[ 0,  1,  2,  3],\n",
              "        [ 4,  5,  6,  7],\n",
              "        [ 8,  9, 10, 11]])"
            ]
          },
          "metadata": {
            "tags": []
          },
          "execution_count": 53
        }
      ]
    },
    {
      "cell_type": "code",
      "metadata": {
        "colab": {
          "base_uri": "https://localhost:8080/"
        },
        "id": "YBKMzwwgZ8fn",
        "outputId": "1b7515bf-c427-4f3b-8917-f001346920ca"
      },
      "source": [
        "storage = t2.storage()\n",
        "storage"
      ],
      "execution_count": 54,
      "outputs": [
        {
          "output_type": "execute_result",
          "data": {
            "text/plain": [
              " 0\n",
              " 1\n",
              " 2\n",
              " 3\n",
              " 4\n",
              " 5\n",
              " 6\n",
              " 7\n",
              " 8\n",
              " 9\n",
              " 10\n",
              " 11\n",
              "[torch.LongStorage of size 12]"
            ]
          },
          "metadata": {
            "tags": []
          },
          "execution_count": 54
        }
      ]
    },
    {
      "cell_type": "code",
      "metadata": {
        "colab": {
          "base_uri": "https://localhost:8080/"
        },
        "id": "UPmhCuasaTf3",
        "outputId": "f9e32410-d157-4d8d-825e-2e476d5fe1a6"
      },
      "source": [
        "stride = t2.stride()\n",
        "stride"
      ],
      "execution_count": 55,
      "outputs": [
        {
          "output_type": "execute_result",
          "data": {
            "text/plain": [
              "(4, 1)"
            ]
          },
          "metadata": {
            "tags": []
          },
          "execution_count": 55
        }
      ]
    },
    {
      "cell_type": "code",
      "metadata": {
        "colab": {
          "base_uri": "https://localhost:8080/"
        },
        "id": "ReHNPVoWaf7Q",
        "outputId": "f9434c97-8536-47d8-e6d5-b5f286ae3b4a"
      },
      "source": [
        "idx = (2,1)\n",
        "item = t2[idx].item()\n",
        "item"
      ],
      "execution_count": 56,
      "outputs": [
        {
          "output_type": "execute_result",
          "data": {
            "text/plain": [
              "9"
            ]
          },
          "metadata": {
            "tags": []
          },
          "execution_count": 56
        }
      ]
    },
    {
      "cell_type": "markdown",
      "metadata": {
        "id": "JaQZdocXa7Sg"
      },
      "source": [
        "###### Now, using idx together with stride, we can access the item directly from the storage, like this:"
      ]
    },
    {
      "cell_type": "code",
      "metadata": {
        "colab": {
          "base_uri": "https://localhost:8080/"
        },
        "id": "cCQetr9Mb-iH",
        "outputId": "6090f71e-149b-473f-9f5b-7ae6f29bcf3e"
      },
      "source": [
        "loc = idx[0] * stride[0] + idx[1] * stride[1]\n",
        "loc"
      ],
      "execution_count": 57,
      "outputs": [
        {
          "output_type": "execute_result",
          "data": {
            "text/plain": [
              "9"
            ]
          },
          "metadata": {
            "tags": []
          },
          "execution_count": 57
        }
      ]
    },
    {
      "cell_type": "code",
      "metadata": {
        "colab": {
          "base_uri": "https://localhost:8080/"
        },
        "id": "b80amYS0cGrU",
        "outputId": "fc85dd0e-10fd-4640-8c30-dbd42d3e0968"
      },
      "source": [
        "# with 3d tensor\n",
        "t3 = torch.rand(1200).view((10, 30, 4))\n",
        "storage = t3.storage()\n",
        "stride = t3.stride()\n",
        "stride"
      ],
      "execution_count": 58,
      "outputs": [
        {
          "output_type": "execute_result",
          "data": {
            "text/plain": [
              "(120, 4, 1)"
            ]
          },
          "metadata": {
            "tags": []
          },
          "execution_count": 58
        }
      ]
    },
    {
      "cell_type": "code",
      "metadata": {
        "colab": {
          "base_uri": "https://localhost:8080/"
        },
        "id": "RVhTzXKRdDb7",
        "outputId": "600e9013-8df1-4e9a-a7c6-f6588af50665"
      },
      "source": [
        "idx = (4, 23, 2)\n",
        "item = t3[idx].item()\n",
        "item"
      ],
      "execution_count": 59,
      "outputs": [
        {
          "output_type": "execute_result",
          "data": {
            "text/plain": [
              "0.9091154932975769"
            ]
          },
          "metadata": {
            "tags": []
          },
          "execution_count": 59
        }
      ]
    },
    {
      "cell_type": "code",
      "metadata": {
        "colab": {
          "base_uri": "https://localhost:8080/"
        },
        "id": "0zoZprWueZ1h",
        "outputId": "0a54e991-e7b1-439f-a0a6-68e5f8397d00"
      },
      "source": [
        "t4 = torch.randint(20, (2 ,3, 5, 5))\n",
        "t4"
      ],
      "execution_count": 60,
      "outputs": [
        {
          "output_type": "execute_result",
          "data": {
            "text/plain": [
              "tensor([[[[19, 16, 11,  3,  3],\n",
              "          [11, 18,  0, 19, 18],\n",
              "          [ 7, 10,  5, 12,  1],\n",
              "          [15,  8, 14, 11, 10],\n",
              "          [11,  5,  5, 13, 16]],\n",
              "\n",
              "         [[14, 13, 13, 19,  3],\n",
              "          [ 3,  6,  3, 15,  0],\n",
              "          [ 0, 15, 17, 19,  1],\n",
              "          [ 4, 19, 13,  8,  2],\n",
              "          [10, 17,  8, 13,  3]],\n",
              "\n",
              "         [[ 9, 10, 17,  9, 14],\n",
              "          [ 7, 17,  0,  7, 17],\n",
              "          [ 4, 13,  8,  3, 15],\n",
              "          [ 1,  8, 16, 10,  6],\n",
              "          [17,  8,  2, 15,  6]]],\n",
              "\n",
              "\n",
              "        [[[18,  1, 11, 16,  7],\n",
              "          [ 8, 16,  7,  0,  1],\n",
              "          [16,  6,  1, 12,  0],\n",
              "          [ 4,  7,  7, 14, 15],\n",
              "          [ 8,  0, 12, 16, 15]],\n",
              "\n",
              "         [[ 2, 10,  6, 14,  0],\n",
              "          [ 3,  1, 17,  3,  4],\n",
              "          [18, 17,  5, 11, 17],\n",
              "          [ 1, 15,  6,  2, 13],\n",
              "          [ 8,  8, 18,  9, 14]],\n",
              "\n",
              "         [[ 9, 14,  5, 17,  5],\n",
              "          [13,  7, 13, 12, 16],\n",
              "          [18, 11,  4,  8,  3],\n",
              "          [ 8,  4, 16, 16,  9],\n",
              "          [ 4, 18,  1,  9,  0]]]])"
            ]
          },
          "metadata": {
            "tags": []
          },
          "execution_count": 60
        }
      ]
    },
    {
      "cell_type": "code",
      "metadata": {
        "colab": {
          "base_uri": "https://localhost:8080/"
        },
        "id": "XXs7kISsgW3g",
        "outputId": "ac3e657d-7b52-4a7a-ce7f-0a16f9ca7094"
      },
      "source": [
        "t4.sum(dim=-1)"
      ],
      "execution_count": 61,
      "outputs": [
        {
          "output_type": "execute_result",
          "data": {
            "text/plain": [
              "tensor([[[52, 66, 35, 58, 50],\n",
              "         [62, 27, 52, 46, 51],\n",
              "         [59, 48, 43, 41, 48]],\n",
              "\n",
              "        [[53, 32, 35, 47, 51],\n",
              "         [32, 28, 68, 37, 57],\n",
              "         [50, 61, 44, 53, 32]]])"
            ]
          },
          "metadata": {
            "tags": []
          },
          "execution_count": 61
        }
      ]
    },
    {
      "cell_type": "code",
      "metadata": {
        "colab": {
          "base_uri": "https://localhost:8080/"
        },
        "id": "iICFzXOeiexd",
        "outputId": "d42f0c84-1fd7-4bb6-b419-cf681c3bf2b6"
      },
      "source": [
        "points = torch.tensor([[4.0, 1.0], [5.0, 3.0], [2.0, 1.0]])\n",
        "points_storage = points[2]\n",
        "points_storage.storage_offset()\n"
      ],
      "execution_count": 62,
      "outputs": [
        {
          "output_type": "execute_result",
          "data": {
            "text/plain": [
              "4"
            ]
          },
          "metadata": {
            "tags": []
          },
          "execution_count": 62
        }
      ]
    },
    {
      "cell_type": "code",
      "metadata": {
        "colab": {
          "base_uri": "https://localhost:8080/"
        },
        "id": "Wm2zlpVYtM8l",
        "outputId": "9eb014ea-49c6-4862-a864-49ec3fe49010"
      },
      "source": [
        "t4 = torch.randint(7,(3,2), dtype=torch.float32)\n",
        "t4"
      ],
      "execution_count": 63,
      "outputs": [
        {
          "output_type": "execute_result",
          "data": {
            "text/plain": [
              "tensor([[6., 5.],\n",
              "        [5., 3.],\n",
              "        [3., 6.]])"
            ]
          },
          "metadata": {
            "tags": []
          },
          "execution_count": 63
        }
      ]
    },
    {
      "cell_type": "code",
      "metadata": {
        "colab": {
          "base_uri": "https://localhost:8080/"
        },
        "id": "p595yEjPvy5J",
        "outputId": "dace6226-8b04-4e73-f43c-563d1fd088b0"
      },
      "source": [
        "points_t4 = t4.t()\n",
        "points_t4"
      ],
      "execution_count": 64,
      "outputs": [
        {
          "output_type": "execute_result",
          "data": {
            "text/plain": [
              "tensor([[6., 5., 3.],\n",
              "        [5., 3., 6.]])"
            ]
          },
          "metadata": {
            "tags": []
          },
          "execution_count": 64
        }
      ]
    },
    {
      "cell_type": "code",
      "metadata": {
        "colab": {
          "base_uri": "https://localhost:8080/"
        },
        "id": "VEYhSpM7xBLo",
        "outputId": "22a3b432-42aa-4010-961a-78abcce266b2"
      },
      "source": [
        "t4.storage()"
      ],
      "execution_count": 65,
      "outputs": [
        {
          "output_type": "execute_result",
          "data": {
            "text/plain": [
              " 6.0\n",
              " 5.0\n",
              " 5.0\n",
              " 3.0\n",
              " 3.0\n",
              " 6.0\n",
              "[torch.FloatStorage of size 6]"
            ]
          },
          "metadata": {
            "tags": []
          },
          "execution_count": 65
        }
      ]
    },
    {
      "cell_type": "code",
      "metadata": {
        "colab": {
          "base_uri": "https://localhost:8080/"
        },
        "id": "hDgPErZNxJtb",
        "outputId": "344aca52-29ee-4c20-e6a3-ea04a0c6e3df"
      },
      "source": [
        "t4.stride()"
      ],
      "execution_count": 66,
      "outputs": [
        {
          "output_type": "execute_result",
          "data": {
            "text/plain": [
              "(2, 1)"
            ]
          },
          "metadata": {
            "tags": []
          },
          "execution_count": 66
        }
      ]
    },
    {
      "cell_type": "code",
      "metadata": {
        "colab": {
          "base_uri": "https://localhost:8080/"
        },
        "id": "f06rhxy_xSYo",
        "outputId": "ab57cef6-68c9-420a-cf39-c01b4416764d"
      },
      "source": [
        "points_t4.stride()"
      ],
      "execution_count": 67,
      "outputs": [
        {
          "output_type": "execute_result",
          "data": {
            "text/plain": [
              "(1, 2)"
            ]
          },
          "metadata": {
            "tags": []
          },
          "execution_count": 67
        }
      ]
    },
    {
      "cell_type": "code",
      "metadata": {
        "colab": {
          "base_uri": "https://localhost:8080/"
        },
        "id": "QZsGKqD9xXuI",
        "outputId": "bfb0fe25-949c-4854-d5a2-aedf16e016b2"
      },
      "source": [
        "some_t5 = torch.ones(3, 4, 5)\n",
        "some_t5"
      ],
      "execution_count": 68,
      "outputs": [
        {
          "output_type": "execute_result",
          "data": {
            "text/plain": [
              "tensor([[[1., 1., 1., 1., 1.],\n",
              "         [1., 1., 1., 1., 1.],\n",
              "         [1., 1., 1., 1., 1.],\n",
              "         [1., 1., 1., 1., 1.]],\n",
              "\n",
              "        [[1., 1., 1., 1., 1.],\n",
              "         [1., 1., 1., 1., 1.],\n",
              "         [1., 1., 1., 1., 1.],\n",
              "         [1., 1., 1., 1., 1.]],\n",
              "\n",
              "        [[1., 1., 1., 1., 1.],\n",
              "         [1., 1., 1., 1., 1.],\n",
              "         [1., 1., 1., 1., 1.],\n",
              "         [1., 1., 1., 1., 1.]]])"
            ]
          },
          "metadata": {
            "tags": []
          },
          "execution_count": 68
        }
      ]
    },
    {
      "cell_type": "code",
      "metadata": {
        "colab": {
          "base_uri": "https://localhost:8080/"
        },
        "id": "dxvRR9IlzqlL",
        "outputId": "faba8666-431b-4f61-a3c1-4a55f49a4d30"
      },
      "source": [
        "# to transpose without changing the dimesions use (-1, 1)\n",
        "some_t5.transpose(-1,1).shape \n"
      ],
      "execution_count": 69,
      "outputs": [
        {
          "output_type": "execute_result",
          "data": {
            "text/plain": [
              "torch.Size([3, 5, 4])"
            ]
          },
          "metadata": {
            "tags": []
          },
          "execution_count": 69
        }
      ]
    },
    {
      "cell_type": "code",
      "metadata": {
        "colab": {
          "base_uri": "https://localhost:8080/"
        },
        "id": "kAWIhv_P03tM",
        "outputId": "addc6081-eada-4ba8-bb44-9739339efbff"
      },
      "source": [
        "# We can transpose a multidimensional array by specifying the two\n",
        "# dimensions along which transposing (flipping shape and stride) should occur:\n",
        "print(some_t5.transpose(0,2).shape)\n",
        "print(some_t5.transpose(0,2))"
      ],
      "execution_count": 70,
      "outputs": [
        {
          "output_type": "stream",
          "text": [
            "torch.Size([5, 4, 3])\n",
            "tensor([[[1., 1., 1.],\n",
            "         [1., 1., 1.],\n",
            "         [1., 1., 1.],\n",
            "         [1., 1., 1.]],\n",
            "\n",
            "        [[1., 1., 1.],\n",
            "         [1., 1., 1.],\n",
            "         [1., 1., 1.],\n",
            "         [1., 1., 1.]],\n",
            "\n",
            "        [[1., 1., 1.],\n",
            "         [1., 1., 1.],\n",
            "         [1., 1., 1.],\n",
            "         [1., 1., 1.]],\n",
            "\n",
            "        [[1., 1., 1.],\n",
            "         [1., 1., 1.],\n",
            "         [1., 1., 1.],\n",
            "         [1., 1., 1.]],\n",
            "\n",
            "        [[1., 1., 1.],\n",
            "         [1., 1., 1.],\n",
            "         [1., 1., 1.],\n",
            "         [1., 1., 1.]]])\n"
          ],
          "name": "stdout"
        }
      ]
    },
    {
      "cell_type": "markdown",
      "metadata": {
        "id": "5Yw0viQc2lUW"
      },
      "source": [
        "### Contiguous tensors"
      ]
    },
    {
      "cell_type": "code",
      "metadata": {
        "colab": {
          "base_uri": "https://localhost:8080/"
        },
        "id": "q4agk24g4wXc",
        "outputId": "4a62e222-c62a-47b5-9f17-6812c5dc1f2e"
      },
      "source": [
        "points1.is_contiguous()\n",
        "points1_t_cont = points1_t.contiguous()\n",
        "print(points1_t_cont)\n",
        "print(points1_t_cont.is_contiguous())"
      ],
      "execution_count": 71,
      "outputs": [
        {
          "output_type": "stream",
          "text": [
            "tensor([[4., 5., 2.],\n",
            "        [1., 3., 1.]])\n",
            "True\n"
          ],
          "name": "stdout"
        }
      ]
    },
    {
      "cell_type": "code",
      "metadata": {
        "colab": {
          "base_uri": "https://localhost:8080/"
        },
        "id": "dplnXEhF5H5w",
        "outputId": "05ca6769-488e-412a-9160-94332e0ff573"
      },
      "source": [
        "t6 = torch.arange(9, dtype=torch.float32)\n",
        "print(t6.size())\n",
        "print(t6.storage_offset())\n",
        "print(t6.stride())\n",
        "t6"
      ],
      "execution_count": 104,
      "outputs": [
        {
          "output_type": "stream",
          "text": [
            "torch.Size([9])\n",
            "0\n",
            "(1,)\n"
          ],
          "name": "stdout"
        },
        {
          "output_type": "execute_result",
          "data": {
            "text/plain": [
              "tensor([0., 1., 2., 3., 4., 5., 6., 7., 8.])"
            ]
          },
          "metadata": {
            "tags": []
          },
          "execution_count": 104
        }
      ]
    },
    {
      "cell_type": "code",
      "metadata": {
        "colab": {
          "base_uri": "https://localhost:8080/"
        },
        "id": "XACQ4Q3A7otK",
        "outputId": "f4d1103c-bd88-4c28-a837-f1ff289eb331"
      },
      "source": [
        "b = t6.view(3, 3)\n",
        "b"
      ],
      "execution_count": 105,
      "outputs": [
        {
          "output_type": "execute_result",
          "data": {
            "text/plain": [
              "tensor([[0., 1., 2.],\n",
              "        [3., 4., 5.],\n",
              "        [6., 7., 8.]])"
            ]
          },
          "metadata": {
            "tags": []
          },
          "execution_count": 105
        }
      ]
    },
    {
      "cell_type": "code",
      "metadata": {
        "colab": {
          "base_uri": "https://localhost:8080/"
        },
        "id": "X5TR7LyT8QA0",
        "outputId": "a5534e06-9d48-42b9-c0e2-f04d2ea36882"
      },
      "source": [
        "id(t6.storage()) == id(b.storage())"
      ],
      "execution_count": 106,
      "outputs": [
        {
          "output_type": "execute_result",
          "data": {
            "text/plain": [
              "True"
            ]
          },
          "metadata": {
            "tags": []
          },
          "execution_count": 106
        }
      ]
    },
    {
      "cell_type": "code",
      "metadata": {
        "colab": {
          "base_uri": "https://localhost:8080/"
        },
        "id": "lrOqbEgw-mz3",
        "outputId": "cb98adc6-4890-4869-9d35-6ee347657a45"
      },
      "source": [
        "c = b[1:, 1:]\n",
        "print(c)\n",
        "print(c.shape)\n",
        "print(c.storage_offset())\n",
        "print(c.stride())"
      ],
      "execution_count": 107,
      "outputs": [
        {
          "output_type": "stream",
          "text": [
            "tensor([[4., 5.],\n",
            "        [7., 8.]])\n",
            "torch.Size([2, 2])\n",
            "4\n",
            "(3, 1)\n"
          ],
          "name": "stdout"
        }
      ]
    },
    {
      "cell_type": "code",
      "metadata": {
        "colab": {
          "base_uri": "https://localhost:8080/"
        },
        "id": "BUh6PMg8-azr",
        "outputId": "ca593fda-a00c-43a1-dff0-e71494924674"
      },
      "source": [
        "torch.cos_(t6)"
      ],
      "execution_count": 108,
      "outputs": [
        {
          "output_type": "execute_result",
          "data": {
            "text/plain": [
              "tensor([ 1.0000,  0.5403, -0.4161, -0.9900, -0.6536,  0.2837,  0.9602,  0.7539,\n",
              "        -0.1455])"
            ]
          },
          "metadata": {
            "tags": []
          },
          "execution_count": 108
        }
      ]
    },
    {
      "cell_type": "code",
      "metadata": {
        "colab": {
          "base_uri": "https://localhost:8080/"
        },
        "id": "lXip76cUAoAF",
        "outputId": "b38117ee-3cdf-4521-fafd-39dc9f09f5b1"
      },
      "source": [
        "t6"
      ],
      "execution_count": 109,
      "outputs": [
        {
          "output_type": "execute_result",
          "data": {
            "text/plain": [
              "tensor([ 1.0000,  0.5403, -0.4161, -0.9900, -0.6536,  0.2837,  0.9602,  0.7539,\n",
              "        -0.1455])"
            ]
          },
          "metadata": {
            "tags": []
          },
          "execution_count": 109
        }
      ]
    },
    {
      "cell_type": "code",
      "metadata": {
        "id": "ozyXgCfFAqb_"
      },
      "source": [
        ""
      ],
      "execution_count": null,
      "outputs": []
    }
  ]
}