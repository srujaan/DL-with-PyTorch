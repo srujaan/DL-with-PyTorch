{
  "nbformat": 4,
  "nbformat_minor": 0,
  "metadata": {
    "colab": {
      "name": "UsingTorchNNmodule.ipynb",
      "provenance": [],
      "authorship_tag": "ABX9TyNYDUONWPzI23D1mGIiOw7w",
      "include_colab_link": true
    },
    "kernelspec": {
      "name": "python3",
      "display_name": "Python 3"
    }
  },
  "cells": [
    {
      "cell_type": "markdown",
      "metadata": {
        "id": "view-in-github",
        "colab_type": "text"
      },
      "source": [
        "<a href=\"https://colab.research.google.com/github/srujaan/DL-with-PyTorch/blob/master/UsingTorchNNmodule.ipynb\" target=\"_parent\"><img src=\"https://colab.research.google.com/assets/colab-badge.svg\" alt=\"Open In Colab\"/></a>"
      ]
    },
    {
      "cell_type": "code",
      "metadata": {
        "id": "vx8YiICKufej"
      },
      "source": [
        "import torch\n",
        "import torch.nn as nn\n",
        "import torch.optim as optim"
      ],
      "execution_count": 1,
      "outputs": []
    },
    {
      "cell_type": "code",
      "metadata": {
        "colab": {
          "base_uri": "https://localhost:8080/"
        },
        "id": "phP4squWuIlM",
        "outputId": "c7979e12-487f-4e83-8a6d-1d009cacfb1d"
      },
      "source": [
        "t_c = [0.5, 14.0, 15.0, 28.0, 11.0, 8.0, 3.0, -4.0, 6.0, 13.0, 21.0]\n",
        "t_u = [35.7, 55.9, 58.2, 81.9, 56.3, 48.9, 33.9, 21.8, 48.4, 60.4, 68.4]\n",
        "\n",
        "# We reshape our B inputs to B × Nin, \n",
        "# where Nin is 1. That is easily done with unsqueeze :\n",
        "# to use nn.lineaer\n",
        "\n",
        "t_c = torch.tensor(t_c).unsqueeze(1) # Adds the extra dimension at axis 1\n",
        "t_u = torch.tensor(t_u).unsqueeze(1) # Adds the extra dimension at axis 1\n",
        "\n",
        "t_u.shape, t_c.shape"
      ],
      "execution_count": 2,
      "outputs": [
        {
          "output_type": "execute_result",
          "data": {
            "text/plain": [
              "(torch.Size([11, 1]), torch.Size([11, 1]))"
            ]
          },
          "metadata": {
            "tags": []
          },
          "execution_count": 2
        }
      ]
    },
    {
      "cell_type": "code",
      "metadata": {
        "colab": {
          "base_uri": "https://localhost:8080/"
        },
        "id": "4bxV4Q14byID",
        "outputId": "e19f4850-2513-4fde-8cbe-bb3a0ca61e70"
      },
      "source": [
        "n_samples = t_u.shape[0]\n",
        "n_val = int(0.2 * n_samples)\n",
        "\n",
        "shuffled_indices = torch.randperm(n_samples)\n",
        "\n",
        "train_indices = shuffled_indices[:-n_val]\n",
        "val_indices = shuffled_indices[-n_val:]\n",
        "\n",
        "train_indices, val_indices"
      ],
      "execution_count": 8,
      "outputs": [
        {
          "output_type": "execute_result",
          "data": {
            "text/plain": [
              "(tensor([ 4,  1,  0,  6,  8,  3,  9,  7, 10]), tensor([2, 5]))"
            ]
          },
          "metadata": {
            "tags": []
          },
          "execution_count": 8
        }
      ]
    },
    {
      "cell_type": "code",
      "metadata": {
        "id": "SNMAGvGwb6NU"
      },
      "source": [
        "t_u_train = t_u[train_indices]\n",
        "t_c_train = t_c[train_indices]\n",
        "\n",
        "t_u_val = t_u[val_indices]\n",
        "t_c_val = t_c[val_indices]\n",
        "\n",
        "t_un_train = 0.1 * t_u_train\n",
        "t_un_val = 0.1 * t_u_val\n"
      ],
      "execution_count": 9,
      "outputs": []
    },
    {
      "cell_type": "code",
      "metadata": {
        "id": "QDuoda4Mu6_n"
      },
      "source": [
        "# update the training code with nn.linear\n",
        "\n",
        "linear_model = nn.Linear(1, 1)\n",
        "optimizer = optim.SGD(\n",
        "    linear_model.parameters(), # This method call replaces[params]\n",
        "    lr = 1e-2)"
      ],
      "execution_count": 10,
      "outputs": []
    },
    {
      "cell_type": "code",
      "metadata": {
        "colab": {
          "base_uri": "https://localhost:8080/"
        },
        "id": "AVb2JjoW1qrY",
        "outputId": "65023a5c-9253-41a8-ca15-5c1477effc9e"
      },
      "source": [
        "# Now we can use the parameters method to ask any nn.Module for\n",
        "# a list of parameters owned by it or any of its submodules:\n",
        "\n",
        "linear_model.parameters()"
      ],
      "execution_count": 11,
      "outputs": [
        {
          "output_type": "execute_result",
          "data": {
            "text/plain": [
              "<generator object Module.parameters at 0x7fc11dbe3f10>"
            ]
          },
          "metadata": {
            "tags": []
          },
          "execution_count": 11
        }
      ]
    },
    {
      "cell_type": "code",
      "metadata": {
        "colab": {
          "base_uri": "https://localhost:8080/"
        },
        "id": "7eqd8IJh1yff",
        "outputId": "3ca0d9f8-9cb4-4565-841d-761208a7e295"
      },
      "source": [
        "list(linear_model.parameters())"
      ],
      "execution_count": 12,
      "outputs": [
        {
          "output_type": "execute_result",
          "data": {
            "text/plain": [
              "[Parameter containing:\n",
              " tensor([[0.0297]], requires_grad=True), Parameter containing:\n",
              " tensor([0.0630], requires_grad=True)]"
            ]
          },
          "metadata": {
            "tags": []
          },
          "execution_count": 12
        }
      ]
    },
    {
      "cell_type": "code",
      "metadata": {
        "id": "T0Yid5d1118P"
      },
      "source": [
        "# Training loop\n",
        "\n",
        "def training_loop(n_epochs, optimizer, model, loss_fn, t_u_train, t_u_val, \n",
        "                  t_c_train, t_c_val):\n",
        "  for epoch in range(1, n_epochs + 1):\n",
        "    t_p_train = model(t_u_train) # The model is now passed in, instead of params\n",
        "    loss_train = loss_fn(t_p_train, t_c_train)\n",
        "\n",
        "    t_p_val = model(t_u_val) # The model is now passed in, instead of params\n",
        "\n",
        "    loss_val = loss_fn(t_p_val, t_c_val)\n",
        "\n",
        "    optimizer.zero_grad()\n",
        "    loss_train.backward() # The loss function is also passed in. We'll use it in a moment\n",
        "    optimizer.step()\n",
        "\n",
        "    if epoch == 1 or epoch % 1000 == 0:\n",
        "      print(f\"Epoch {epoch}, Training loss {loss_train.item():.4f},\"\n",
        "      f\" Validation loss {loss_val.item():.4f}\")\n"
      ],
      "execution_count": 13,
      "outputs": []
    },
    {
      "cell_type": "code",
      "metadata": {
        "colab": {
          "base_uri": "https://localhost:8080/"
        },
        "id": "c3vVvqeyiEHi",
        "outputId": "4acea4cc-1d45-4382-8499-c6f22941e365"
      },
      "source": [
        "linear_model = nn.Linear(1, 1) # <1>\n",
        "linear_model(t_un_val)"
      ],
      "execution_count": 14,
      "outputs": [
        {
          "output_type": "execute_result",
          "data": {
            "text/plain": [
              "tensor([[-1.3435],\n",
              "        [-1.2310]], grad_fn=<AddmmBackward>)"
            ]
          },
          "metadata": {
            "tags": []
          },
          "execution_count": 14
        }
      ]
    },
    {
      "cell_type": "code",
      "metadata": {
        "colab": {
          "base_uri": "https://localhost:8080/"
        },
        "id": "RPr84JpQeL7v",
        "outputId": "cd202dfe-6898-47ee-aa85-459da0470611"
      },
      "source": [
        "linear_model = nn.Linear(1, 1)\n",
        "optimizer = optim.SGD(linear_model.parameters(), lr=1e-2)\n",
        "\n",
        "training_loop(\n",
        "    n_epochs = 3000,\n",
        "    optimizer = optimizer,\n",
        "    model = linear_model,\n",
        "    loss_fn = nn.MSELoss(), # we no longer using our hand written loss function from earlier\n",
        "    t_u_train = t_un_train,\n",
        "    t_u_val = t_un_val,\n",
        "    t_c_train = t_c_train,\n",
        "    t_c_val = t_c_val)\n",
        "\n",
        "print()\n",
        "print(linear_model.weight)\n",
        "print(linear_model.bias)"
      ],
      "execution_count": 16,
      "outputs": [
        {
          "output_type": "stream",
          "text": [
            "Epoch 1, Training loss 87.7353, Validation loss 45.5313\n",
            "Epoch 1000, Training loss 3.9171, Validation loss 1.4668\n",
            "Epoch 2000, Training loss 3.3592, Validation loss 1.0954\n",
            "Epoch 3000, Training loss 3.3497, Validation loss 1.0533\n",
            "\n",
            "Parameter containing:\n",
            "tensor([[5.3263]], requires_grad=True)\n",
            "Parameter containing:\n",
            "tensor([-17.1012], requires_grad=True)\n"
          ],
          "name": "stdout"
        }
      ]
    },
    {
      "cell_type": "code",
      "metadata": {
        "id": "17lrvpW1gz1R"
      },
      "source": [
        ""
      ],
      "execution_count": null,
      "outputs": []
    }
  ]
}