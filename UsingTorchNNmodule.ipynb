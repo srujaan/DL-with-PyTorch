{
  "nbformat": 4,
  "nbformat_minor": 0,
  "metadata": {
    "colab": {
      "name": "UsingTorchNNmodule.ipynb",
      "provenance": [],
      "authorship_tag": "ABX9TyMCZss25P0mSvqj9imCbUiU",
      "include_colab_link": true
    },
    "kernelspec": {
      "name": "python3",
      "display_name": "Python 3"
    }
  },
  "cells": [
    {
      "cell_type": "markdown",
      "metadata": {
        "id": "view-in-github",
        "colab_type": "text"
      },
      "source": [
        "<a href=\"https://colab.research.google.com/github/srujaan/DL-with-PyTorch/blob/master/UsingTorchNNmodule.ipynb\" target=\"_parent\"><img src=\"https://colab.research.google.com/assets/colab-badge.svg\" alt=\"Open In Colab\"/></a>"
      ]
    },
    {
      "cell_type": "code",
      "metadata": {
        "id": "vx8YiICKufej"
      },
      "source": [
        "import torch\n",
        "import torch.nn as nn\n",
        "import torch.optim as optim"
      ],
      "execution_count": 13,
      "outputs": []
    },
    {
      "cell_type": "code",
      "metadata": {
        "colab": {
          "base_uri": "https://localhost:8080/"
        },
        "id": "phP4squWuIlM",
        "outputId": "080ca9f4-9587-4d6f-8a25-e851fd82c905"
      },
      "source": [
        "t_c = [0.5, 14.0, 15.0, 28.0, 11.0, 8.0, 3.0, -4.0, 6.0, 13.0, 21.0]\n",
        "t_u = [35.7, 55.9, 58.2, 81.9, 56.3, 48.9, 33.9, 21.8, 48.4, 60.4, 68.4]\n",
        "\n",
        "# We reshape our B inputs to B × Nin, \n",
        "# where Nin is 1. That is easily done with unsqueeze :\n",
        "# to use nn.lineaer\n",
        "\n",
        "t_c = torch.tensor(t_c).unsqueeze(1) # Adds the extra dimension at axis 1\n",
        "t_u = torch.tensor(t_u).unsqueeze(1) # Adds the extra dimension at axis 1\n",
        "\n",
        "t_u.shape, t_c.shape"
      ],
      "execution_count": 12,
      "outputs": [
        {
          "output_type": "execute_result",
          "data": {
            "text/plain": [
              "(torch.Size([11, 1]), torch.Size([11, 1]))"
            ]
          },
          "metadata": {
            "tags": []
          },
          "execution_count": 12
        }
      ]
    },
    {
      "cell_type": "code",
      "metadata": {
        "id": "QDuoda4Mu6_n"
      },
      "source": [
        "# update the training code with nn.linear\n",
        "\n",
        "linear_model = nn.Linear(1, 1)\n",
        "optimizer = optim.SGD(\n",
        "    linear_model.parameters(), # This method call replaces[params]\n",
        "    lr = 1e-2)"
      ],
      "execution_count": 14,
      "outputs": []
    },
    {
      "cell_type": "code",
      "metadata": {
        "colab": {
          "base_uri": "https://localhost:8080/"
        },
        "id": "AVb2JjoW1qrY",
        "outputId": "19d49476-8357-4d38-f060-11767f1f0e80"
      },
      "source": [
        "# Now we can use the parameters method to ask any nn.Module for\n",
        "# a list of parameters owned by it or any of its submodules:\n",
        "\n",
        "linear_model.parameters()"
      ],
      "execution_count": 15,
      "outputs": [
        {
          "output_type": "execute_result",
          "data": {
            "text/plain": [
              "<generator object Module.parameters at 0x7fbd74b5f410>"
            ]
          },
          "metadata": {
            "tags": []
          },
          "execution_count": 15
        }
      ]
    },
    {
      "cell_type": "code",
      "metadata": {
        "colab": {
          "base_uri": "https://localhost:8080/"
        },
        "id": "7eqd8IJh1yff",
        "outputId": "ace7a184-c28b-4d56-a6ce-74140a5d9472"
      },
      "source": [
        "list(linear_model.parameters())"
      ],
      "execution_count": 16,
      "outputs": [
        {
          "output_type": "execute_result",
          "data": {
            "text/plain": [
              "[Parameter containing:\n",
              " tensor([[-0.4640]], requires_grad=True), Parameter containing:\n",
              " tensor([0.6256], requires_grad=True)]"
            ]
          },
          "metadata": {
            "tags": []
          },
          "execution_count": 16
        }
      ]
    },
    {
      "cell_type": "code",
      "metadata": {
        "id": "T0Yid5d1118P"
      },
      "source": [
        ""
      ],
      "execution_count": null,
      "outputs": []
    }
  ]
}